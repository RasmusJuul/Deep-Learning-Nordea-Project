{
 "cells": [
  {
   "cell_type": "code",
   "execution_count": 1,
   "metadata": {},
   "outputs": [],
   "source": [
    "import numpy as np\n",
    "import pandas as pd\n",
    "import matplotlib.pyplot as plt\n",
    "import os\n",
    "import torch\n",
    "from torch.autograd import Variable\n",
    "import torch.nn as nn\n",
    "import torch.optim as optim\n",
    "# from torchsummary import summary\n",
    "from torch.utils.data import DataLoader\n",
    "from torch.utils.data import Dataset\n",
    "# from tqdm.notebook import tqdm\n",
    "from tqdm import tqdm_notebook as tqdm\n",
    "from sklearn.model_selection import train_test_split\n",
    "from scipy.linalg import eigh\n",
    "from sklearn.preprocessing import normalize"
   ]
  },
  {
   "cell_type": "code",
   "execution_count": 2,
   "metadata": {},
   "outputs": [
    {
     "name": "stdout",
     "output_type": "stream",
     "text": [
      "The code will run on CPU. You should probably not do this.\n"
     ]
    }
   ],
   "source": [
    "if torch.cuda.is_available():\n",
    "    print(\"The code will run on GPU. This is important so things run faster.\")\n",
    "else:\n",
    "    print(\"The code will run on CPU. You should probably not do this.\")\n",
    "device = torch.device('cuda' if torch.cuda.is_available() else 'cpu')"
   ]
  },
  {
   "cell_type": "code",
   "execution_count": 3,
   "metadata": {},
   "outputs": [],
   "source": [
    "class dataset:\n",
    "    def __init__(self,data,target):\n",
    "        self.data = data\n",
    "        self.target = target\n",
    "    \n",
    "    def __len__(self):\n",
    "        return len(self.data)\n",
    "    \n",
    "    def __getitem__(self,idx):\n",
    "        if torch.is_tensor(idx):\n",
    "            idx = idx.tolist()\n",
    "        X = self.data[idx]\n",
    "        y = self.target[idx]\n",
    "        \n",
    "        return X,y"
   ]
  },
  {
   "cell_type": "markdown",
   "metadata": {},
   "source": [
    "0:year,1:Start_date,2:ProfitLoss,3:GrossResult,4:Assets,5:AverageNumberOfEmployees,6:Equity,7:AddressOfReportingEntityPostCodeIdentifier"
   ]
  },
  {
   "cell_type": "code",
   "execution_count": 4,
   "metadata": {},
   "outputs": [],
   "source": [
    "data = np.load('data_train.npy',allow_pickle=True)\n",
    "target = np.load('data_target.npy',allow_pickle=True)"
   ]
  },
  {
   "cell_type": "code",
   "execution_count": 5,
   "metadata": {},
   "outputs": [],
   "source": [
    "#Changes address to first number in postcode or 0 if there isn't one\n",
    "data = data[:,:,2:] \n",
    "target = target[:,2:]\n",
    "'''\n",
    "0:ProfitLoss,1:GrossResult,2:Assets,3:AverageNumberOfEmployees,4:Equity,5:AddressOfReportingEntityPostCodeIdentifier\n",
    "'''\n",
    "for i in range(data.shape[0]):\n",
    "    for j in range(data.shape[1]):\n",
    "        try:\n",
    "            data[i,j,5] = int(str(data[i,j,5])[0])\n",
    "        except:\n",
    "            data[i,j,5] = 0\n",
    "for i in range(target.shape[0]):\n",
    "    try:\n",
    "        target[i,5] = int(str(target[i,5])[0])\n",
    "    except:\n",
    "        target[i,5] = 0"
   ]
  },
  {
   "cell_type": "code",
   "execution_count": 6,
   "metadata": {},
   "outputs": [
    {
     "name": "stderr",
     "output_type": "stream",
     "text": [
      "C:\\Users\\Bruger\\Anaconda3\\lib\\site-packages\\ipykernel_launcher.py:13: DeprecationWarning: using a non-integer array as obj in delete will result in an error in the future\n",
      "  del sys.path[0]\n",
      "C:\\Users\\Bruger\\Anaconda3\\lib\\site-packages\\ipykernel_launcher.py:14: DeprecationWarning: using a non-integer array as obj in delete will result in an error in the future\n",
      "  \n"
     ]
    }
   ],
   "source": [
    "#remove remaining strings\n",
    "index_of_string = []\n",
    "for i in range(data.shape[0]):\n",
    "    for j in range(data.shape[1]):\n",
    "        for k in range(data.shape[2]):\n",
    "            try:\n",
    "                float(data[i,j,k])\n",
    "            except:\n",
    "                index_of_string.append((i))\n",
    "                \n",
    "index_of_string = np.array(index_of_string)\n",
    "index_of_string = np.unique(index_of_string)                \n",
    "data = np.delete(data,index_of_string,axis=0)\n",
    "target = np.delete(target,index_of_string,axis=0)"
   ]
  },
  {
   "cell_type": "code",
   "execution_count": 7,
   "metadata": {},
   "outputs": [
    {
     "name": "stderr",
     "output_type": "stream",
     "text": [
      "C:\\Users\\Bruger\\Anaconda3\\lib\\site-packages\\ipykernel_launcher.py:10: DeprecationWarning: using a non-integer array as obj in delete will result in an error in the future\n",
      "  # Remove the CWD from sys.path while we load stuff.\n",
      "C:\\Users\\Bruger\\Anaconda3\\lib\\site-packages\\ipykernel_launcher.py:11: DeprecationWarning: using a non-integer array as obj in delete will result in an error in the future\n",
      "  # This is added back by InteractiveShellApp.init_path()\n"
     ]
    }
   ],
   "source": [
    "#remove nan\n",
    "nan_ = []\n",
    "for i in range(data.shape[0]):\n",
    "    for j in range(data.shape[1]):\n",
    "        for k in range(data.shape[2]):\n",
    "            if np.isnan(data[i,j,k]):\n",
    "                nan_.append(i)\n",
    "nan_ = np.array(nan_)\n",
    "nan_ = np.unique(nan_)\n",
    "data = np.delete(data,nan_,axis=0)\n",
    "target = np.delete(target,nan_,axis=0)"
   ]
  },
  {
   "cell_type": "code",
   "execution_count": 8,
   "metadata": {},
   "outputs": [],
   "source": [
    "#removes any entry with a zero in profitloss, GrossResult, assets or equity\n",
    "has_zero = []\n",
    "for i in range(data.shape[0]):\n",
    "    for j in range(data.shape[1]):\n",
    "        if data[i,j,0] == 0 or data[i,j,1] == 0 or data[i,j,2] == 0 or data[i,j,4] == 0:\n",
    "            has_zero.append(i)\n",
    "has_zero = np.unique(np.array(has_zero))\n",
    "data = np.delete(data,has_zero,axis=0)\n",
    "target = np.delete(target,has_zero,axis=0)"
   ]
  },
  {
   "cell_type": "code",
   "execution_count": 9,
   "metadata": {},
   "outputs": [
    {
     "data": {
      "text/plain": [
       "(88450, 6)"
      ]
     },
     "execution_count": 9,
     "metadata": {},
     "output_type": "execute_result"
    }
   ],
   "source": [
    "data[data[:,:,2] < 10000000].shape"
   ]
  },
  {
   "cell_type": "code",
   "execution_count": 10,
   "metadata": {},
   "outputs": [],
   "source": [
    "big_company_pos = []\n",
    "medium_company_pos = []\n",
    "small_company_pos = []\n",
    "big_company_neg = []\n",
    "medium_company_neg = []\n",
    "small_company_neg = []\n",
    "\n",
    "for i in range(data.shape[0]):\n",
    "    if np.median(data[i,:,1]) < 0:\n",
    "        if np.mean(data[i,:,2]) < 100000:\n",
    "            small_company_neg.append(i)\n",
    "        elif np.mean(data[i,:,2]) > 100000 and np.mean(data[i,:,2]) < 10000000:\n",
    "            medium_company_neg.append(i)\n",
    "        else:\n",
    "            big_company_neg.append(i)\n",
    "    else:\n",
    "        if np.mean(data[i,:,2]) < 100000:\n",
    "            small_company_pos.append(i)\n",
    "        elif np.mean(data[i,:,2]) > 100000 and np.mean(data[i,:,2]) < 10000000:\n",
    "            medium_company_pos.append(i)\n",
    "        else:\n",
    "            big_company_pos.append(i)\n",
    "    \n",
    "#     if max(abs(data[i,:,2])) < 100000:\n",
    "#         small_company.append(i)\n",
    "#     elif max(abs(data[i,:,2])) > 100000 and data[i,:,2].mean() < 10000000:\n",
    "#         medium_company.append(i)\n",
    "#     else:\n",
    "#         big_company.append(i)"
   ]
  },
  {
   "cell_type": "code",
   "execution_count": 11,
   "metadata": {},
   "outputs": [
    {
     "data": {
      "text/plain": [
       "1238"
      ]
     },
     "execution_count": 11,
     "metadata": {},
     "output_type": "execute_result"
    }
   ],
   "source": [
    "len(small_company_neg)"
   ]
  },
  {
   "cell_type": "code",
   "execution_count": 12,
   "metadata": {},
   "outputs": [
    {
     "data": {
      "text/plain": [
       "576"
      ]
     },
     "execution_count": 12,
     "metadata": {},
     "output_type": "execute_result"
    }
   ],
   "source": [
    "len(small_company_pos)"
   ]
  },
  {
   "cell_type": "code",
   "execution_count": 13,
   "metadata": {},
   "outputs": [
    {
     "data": {
      "text/plain": [
       "10944"
      ]
     },
     "execution_count": 13,
     "metadata": {},
     "output_type": "execute_result"
    }
   ],
   "source": [
    "len(medium_company_neg)"
   ]
  },
  {
   "cell_type": "code",
   "execution_count": 14,
   "metadata": {},
   "outputs": [
    {
     "data": {
      "text/plain": [
       "16631"
      ]
     },
     "execution_count": 14,
     "metadata": {},
     "output_type": "execute_result"
    }
   ],
   "source": [
    "len(medium_company_pos)"
   ]
  },
  {
   "cell_type": "code",
   "execution_count": 15,
   "metadata": {},
   "outputs": [
    {
     "data": {
      "text/plain": [
       "2776"
      ]
     },
     "execution_count": 15,
     "metadata": {},
     "output_type": "execute_result"
    }
   ],
   "source": [
    "len(big_company_neg)"
   ]
  },
  {
   "cell_type": "code",
   "execution_count": 16,
   "metadata": {},
   "outputs": [
    {
     "data": {
      "text/plain": [
       "5230"
      ]
     },
     "execution_count": 16,
     "metadata": {},
     "output_type": "execute_result"
    }
   ],
   "source": [
    "len(big_company_pos)"
   ]
  },
  {
   "cell_type": "code",
   "execution_count": 17,
   "metadata": {},
   "outputs": [],
   "source": [
    "data = data.astype(\"float\")\n",
    "target = target.astype(\"float\")"
   ]
  },
  {
   "cell_type": "code",
   "execution_count": 18,
   "metadata": {},
   "outputs": [],
   "source": [
    "data = data[medium_company_pos]\n",
    "target = target[medium_company_pos]\n",
    "# data_small = data[small_company]\n",
    "# target_small = target[small_company]\n",
    "# data_medium = data[medium_company]\n",
    "# target_medium = target[medium_company]"
   ]
  },
  {
   "cell_type": "code",
   "execution_count": 19,
   "metadata": {},
   "outputs": [],
   "source": [
    "data = data[:,:,0:3]"
   ]
  },
  {
   "cell_type": "code",
   "execution_count": 20,
   "metadata": {},
   "outputs": [],
   "source": [
    "data = torch.from_numpy(data).float()\n",
    "# data = data.permute(0,2,1) # Needed if using CNN\n",
    "target = torch.from_numpy(target).float()\n",
    "\n",
    "#target index\n",
    "target_index = 1\n",
    "\n",
    "train_idx,test_idx = train_test_split(np.arange(data.shape[0]),test_size=0.1)\n",
    "\n",
    "train_data = data[train_idx,:,:]\n",
    "train_target = target[train_idx,target_index] \n",
    "test_data = data[test_idx,:,:]\n",
    "test_target = target[test_idx,target_index]\n",
    "\n",
    "trainset = dataset(train_data,train_target)\n",
    "testset = dataset(test_data,test_target)"
   ]
  },
  {
   "cell_type": "code",
   "execution_count": 21,
   "metadata": {},
   "outputs": [],
   "source": [
    "# #for data_grouped.npy\n",
    "# zeros_ = np.zeros(6)\n",
    "# for i in range(6):\n",
    "#     temp = data[:,:,i].clone()\n",
    "#     zeros_[i] = temp[temp==0].shape[0]\n",
    "    \n",
    "# pct_zeros = zeros_/(data.shape[0]*3)\n",
    "# print('0:ProfitLoss, 1:GrossResult, 2:Assets,3:AverageNumberOfEmployees, 4:Equity, 5:AddressOfReportingEntityPostCodeIdentifier')\n",
    "# print(pct_zeros)"
   ]
  },
  {
   "cell_type": "code",
   "execution_count": 22,
   "metadata": {},
   "outputs": [],
   "source": [
    "batch_size=100\n",
    "\n",
    "train_loader = DataLoader(trainset, batch_size=batch_size, shuffle=True, num_workers=0)\n",
    "test_loader = DataLoader(testset, batch_size=batch_size, shuffle=False, num_workers=0)"
   ]
  },
  {
   "cell_type": "code",
   "execution_count": 23,
   "metadata": {},
   "outputs": [
    {
     "data": {
      "image/png": "[encoded data removed]",
      "text/plain": [
       "<Figure size 432x288 with 1 Axes>"
      ]
     },
     "metadata": {},
     "output_type": "display_data"
    },
    {
     "data": {
      "image/png": "[encoded data removed]",
      "text/plain": [
       "<Figure size 432x288 with 1 Axes>"
      ]
     },
     "metadata": {},
     "output_type": "display_data"
    }
   ],
   "source": [
    "temp = data.clone()\n",
    "temp = temp.view(temp.shape[0]*temp.shape[1],temp.shape[2])\n",
    "temp = temp.numpy()\n",
    "\n",
    "# #standardize data \n",
    "temp = temp-np.ones((temp.shape[0],1))*temp.mean(0)\n",
    "temp = temp*(1/np.std(temp,0))\n",
    "#compute covariance matrix\n",
    "S = np.cov(temp.T)\n",
    "\n",
    "#obtain eigen values and eigen vectors\n",
    "eigenValues, eigenVectors = eigh(S)\n",
    "idx_ord = np.argsort(eigenValues)[::-1]\n",
    "eigenValues = eigenValues[idx_ord]\n",
    "eigenVectors = eigenVectors[:,idx_ord]\n",
    "\n",
    "#plot cummulative variance explained    \n",
    "summ = eigenValues.sum()\n",
    "cumsum = 0\n",
    "total_var_explained = np.zeros(3)\n",
    "for i in range(3):    \n",
    "    cumsum = cumsum + eigenValues[i]\n",
    "    total_var_explained[i]=(cumsum/summ)\n",
    "    \n",
    "fig, ax = plt.subplots()\n",
    "ax.plot(total_var_explained,'-o')\n",
    "#ax.axhline(0.90,linestyle='--')\n",
    "plt.grid();\n",
    "#plt.xlim(-1,50)\n",
    "#plt.ylim(0,1)\n",
    "plt.title('Variance explained' )\n",
    "plt.ylabel('Cummulative sum')\n",
    "plt.xlabel('Principle components')\n",
    "# plt.savefig(\"variance_explained\")\n",
    "plt.show()\n",
    "\n",
    "M=3\n",
    "pcs = np.arange(3)\n",
    "#pcs = np.array([3,10])\n",
    "legendStrs = ['PC'+str(e+1) for e in pcs]\n",
    "c = ['r','g','b']\n",
    "bw = .15\n",
    "r = np.arange(1,M+1)\n",
    "for i in pcs:    \n",
    "   plt.bar(r+i*bw/2, eigenVectors[:,i], width=bw)\n",
    "plt.xticks(r+bw, np.arange(1,13))\n",
    "plt.xlabel('Attributes')\n",
    "plt.ylabel('Component coefficients')\n",
    "plt.legend(legendStrs,loc=1, bbox_to_anchor=(1.2,1))\n",
    "plt.grid()\n",
    "plt.title('PCA Component Coefficients')\n",
    "plt.show()"
   ]
  },
  {
   "cell_type": "code",
   "execution_count": 24,
   "metadata": {},
   "outputs": [],
   "source": [
    "# #Picking principle components to project the data into\n",
    "# eigenvectors1 = eigenVectors[:, 0]\n",
    "# eigenvectors2 = eigenVectors[:, 1]\n",
    "# eigenvectors3 = eigenVectors[:, 2]\n",
    "# eigenvectors4 = eigenVectors[:, 3]\n",
    "# eigenvectors = np.vstack((eigenvectors1,eigenvectors2,eigenvectors3,eigenvectors4)).T\n",
    "\n",
    "# ## now we have to project our vectors in this new base\n",
    "# transformed_data = temp @ eigenvectors\n",
    "\n",
    "# fig,ax = plt.subplots(3,1,figsize=(10,15))\n",
    "# ax[0].scatter(transformed_data[:, 0], transformed_data[:, 1])\n",
    "# ax[0].set_title('Data projection into 2D PC space')\n",
    "# ax[0].set_xlabel('Principle component 1')\n",
    "# ax[0].set_ylabel('Principle component 2')\n",
    "# ax[1].scatter(transformed_data[:, 0], transformed_data[:, 2])\n",
    "# ax[1].set_title('Data projection into 2D PC space')\n",
    "# ax[1].set_xlabel('Principle component 1')\n",
    "# ax[1].set_ylabel('Principle component 3')\n",
    "# ax[2].scatter(transformed_data[:, 0], transformed_data[:, 3])\n",
    "# ax[2].set_title('Data projection into 2D PC space')\n",
    "# ax[2].set_xlabel('Principle component 1')\n",
    "# ax[2].set_ylabel('Principle component 4')\n",
    "# #plt.rcParams.update({'figure.autolayout': True})\n",
    "# plt.show()"
   ]
  },
  {
   "cell_type": "code",
   "execution_count": 25,
   "metadata": {},
   "outputs": [],
   "source": [
    "class RecurrentNetSkip(nn.Module):\n",
    "    def __init__(self):\n",
    "        super(RecurrentNetSkip, self).__init__()\n",
    "        \n",
    "        self.linearIn = nn.Sequential(nn.Linear(in_features=3,out_features=6),\n",
    "                                      nn.ReLU(),\n",
    "                                      nn.Linear(6,6)) \n",
    "        self.rnn = nn.GRU(input_size=9,\n",
    "                          hidden_size=50,\n",
    "                          num_layers=3,\n",
    "                          batch_first=True)\n",
    "        self.linearOut = nn.Sequential(nn.Linear(in_features=59*3,out_features=50),\n",
    "                                       nn.BatchNorm1d(50),\n",
    "                                       nn.ReLU(),\n",
    "                                       nn.Dropout(),\n",
    "                                       nn.Linear(50,20),\n",
    "                                       nn.ReLU(),\n",
    "                                       nn.Dropout(),\n",
    "                                       nn.Linear(20,1)) #change to 2 for predicting normal distribution\n",
    "\n",
    "        \n",
    "    def forward(self, x): #x = [batch_size,3,6]\n",
    "        x1 = self.linearIn(x[:,0,:]) #[batch_size,6]\n",
    "        x2 = self.linearIn(x[:,1,:]) #[batch_size,6]\n",
    "        x3 = self.linearIn(x[:,2,:]) #[batch_size,6]\n",
    "        x1 = x1.unsqueeze(1) #[batch_size,1,6]\n",
    "        x2 = x2.unsqueeze(1) #[batch_size,1,6]\n",
    "        x3 = x3.unsqueeze(1) #[batch_size,1,6]     \n",
    "        temp = []\n",
    "        temp.append(x1)\n",
    "        temp.append(x2)\n",
    "        temp.append(x3)\n",
    "        z = torch.cat(temp,dim=1) #[batch_size,3,6]\n",
    "        \n",
    "        y = torch.cat((z,x),dim=2) #[batch_size,3,12]\n",
    "                                            \n",
    "        y,_ = self.rnn(y) #[batch_size,3,50]\n",
    "        \n",
    "        x = torch.cat((x,y,z),dim=2) #[batch_size,3,62]\n",
    "        \n",
    "        x = x.reshape(x.shape[0],-1) #[batch_size,62*3]\n",
    "                       \n",
    "        x = self.linearOut(x) #[batch_size,1], [batch_size,2] if predicting normal distribution\n",
    "        x = x.view(-1)\n",
    "        return x\n"
   ]
  },
  {
   "cell_type": "code",
   "execution_count": 26,
   "metadata": {},
   "outputs": [],
   "source": [
    "class RecurrentNet(nn.Module):\n",
    "    def __init__(self):\n",
    "        super(RecurrentNet, self).__init__()\n",
    "        \n",
    "        self.linearIn = nn.Sequential(nn.Linear(in_features=3,out_features=6),\n",
    "                                      nn.ReLU(),\n",
    "                                      nn.Linear(6,6)) \n",
    "        self.rnn = nn.GRU(input_size=6,\n",
    "                          hidden_size=50,\n",
    "                          num_layers=3,\n",
    "                          batch_first=True)\n",
    "        self.linearOut = nn.Sequential(nn.Linear(in_features=50*3,out_features=50),\n",
    "                                       nn.BatchNorm1d(50),\n",
    "                                       nn.ReLU(),\n",
    "                                       nn.Dropout(),\n",
    "                                       nn.Linear(50,20),\n",
    "                                       nn.ReLU(),\n",
    "                                       nn.Dropout(),\n",
    "                                       nn.Linear(20,1)) #change to 2 for predicting normal distribution\n",
    "\n",
    "        \n",
    "    def forward(self, x): #x = [batch_size,3,6]\n",
    "        x1 = self.linearIn(x[:,0,:]) #[batch_size,6]\n",
    "        x2 = self.linearIn(x[:,1,:]) #[batch_size,6]\n",
    "        x3 = self.linearIn(x[:,2,:]) #[batch_size,6]\n",
    "        x1 = x1.unsqueeze(1) #[batch_size,1,6]\n",
    "        x2 = x2.unsqueeze(1) #[batch_size,1,6]\n",
    "        x3 = x3.unsqueeze(1) #[batch_size,1,6]     \n",
    "        temp = []\n",
    "        temp.append(x1)\n",
    "        temp.append(x2)\n",
    "        temp.append(x3)\n",
    "        x = torch.cat(temp,dim=1) #[batch_size,3,6]\n",
    "                                            \n",
    "        x,_ = self.rnn(x) #[batch_size,3,50]\n",
    "        \n",
    "        x = x.reshape(x.shape[0],-1) #[batch_size,50*3]\n",
    "                       \n",
    "        x = self.linearOut(x) #[batch_size,1], [batch_size,2] if predicting normal distribution\n",
    "        x = x.view(-1)\n",
    "        return x\n"
   ]
  },
  {
   "cell_type": "code",
   "execution_count": 27,
   "metadata": {},
   "outputs": [],
   "source": [
    "class LinearNet(nn.Module):\n",
    "    def __init__(self):\n",
    "        super(LinearNet, self).__init__()\n",
    "        \n",
    "        self.linear = nn.Sequential(nn.Linear(in_features=9,out_features=16),\n",
    "                                      nn.ReLU(),\n",
    "                                      nn.Dropout(p=0.75),\n",
    "                                      nn.Linear(16,32),\n",
    "                                      nn.ReLU(),\n",
    "                                      nn.Dropout(p=0.75),\n",
    "                                      nn.Linear(32,64),\n",
    "                                      nn.ReLU(),\n",
    "                                      nn.Dropout(p=0.75),\n",
    "                                      nn.Linear(64,128),\n",
    "                                      nn.ReLU(),\n",
    "                                      nn.Dropout(p=0.75),\n",
    "                                      nn.Linear(128,256),\n",
    "                                      nn.ReLU(),\n",
    "                                      nn.Dropout(p=0.75),\n",
    "                                      nn.Linear(256,128),\n",
    "                                      nn.ReLU(),\n",
    "                                      nn.Dropout(p=0.75),\n",
    "                                      nn.Linear(128,64),\n",
    "                                      nn.ReLU(),\n",
    "                                      nn.Dropout(p=0.75),\n",
    "                                      nn.Linear(64,32),\n",
    "                                      nn.ReLU(),\n",
    "                                      nn.Dropout(p=0.75),\n",
    "                                      nn.Linear(32,16),\n",
    "                                      nn.ReLU(),\n",
    "                                      nn.Dropout(p=0.75),\n",
    "                                      nn.Linear(16,1))\n",
    "\n",
    "        \n",
    "    def forward(self, x): #x = [batch_size,3,3]\n",
    "        x = x.view(x.shape[0],-1)\n",
    "        x = self.linear(x)\n",
    "        x = x.view(-1)\n",
    "        return x\n"
   ]
  },
  {
   "cell_type": "code",
   "execution_count": 28,
   "metadata": {},
   "outputs": [],
   "source": [
    "# class ConvNet(nn.Module):\n",
    "#     def __init__(self):\n",
    "#         super(ConvNet, self).__init__()\n",
    "        \n",
    "#         self.conv = nn.Sequential(nn.BatchNorm1d(10),\n",
    "#                                   nn.Conv1d(in_channels=10,out_channels=20,kernel_size=3,padding=1),\n",
    "#                                   nn.ReLU(),\n",
    "#                                   nn.BatchNorm1d(20),\n",
    "#                                   nn.Conv1d(20,40,kernel_size=3,padding=1),\n",
    "#                                   nn.ReLU(),\n",
    "#                                   nn.BatchNorm1d(40),\n",
    "#                                   nn.Conv1d(40,80,kernel_size=3,padding=1),\n",
    "#                                   nn.ReLU(),\n",
    "#                                   nn.BatchNorm1d(80),\n",
    "#                                   nn.Conv1d(80,160,kernel_size=3,padding=1),\n",
    "#                                   nn.ReLU(),\n",
    "#                                   nn.Conv1d(160,320,kernel_size=3,padding=0))\n",
    "        \n",
    "#         self.linear = nn.Sequential(nn.Linear(in_features=320,out_features=160),\n",
    "#                                     nn.ReLU(),\n",
    "#                                     nn.Dropout(),\n",
    "#                                     nn.Linear(160,80),\n",
    "#                                     nn.ReLU(),\n",
    "#                                     nn.Dropout(),\n",
    "#                                     nn.Linear(80,40),\n",
    "#                                     nn.ReLU(),\n",
    "#                                     nn.Dropout(),\n",
    "#                                     nn.Linear(40,20),\n",
    "#                                     nn.ReLU(),\n",
    "#                                     nn.Dropout(),\n",
    "#                                     nn.Linear(20,1))\n",
    "                                  \n",
    "        \n",
    "#     def forward(self, x): #x = [batch_size,features,3]\n",
    "#         x = self.conv(x) #[batch_size,160,1]\n",
    "#         x = x.view(x.shape[0],-1) #[batch_size,160]\n",
    "#         x = self.linear(x) #[batch_size,1]\n",
    "        \n",
    "#         x = x.view(-1) #When prediction one value\n",
    "#         return x"
   ]
  },
  {
   "cell_type": "code",
   "execution_count": 29,
   "metadata": {},
   "outputs": [],
   "source": [
    "def cost(mu,sigma,y):\n",
    "    sigma = torch.abs(sigma)\n",
    "    dist = torch.distributions.normal.Normal(mu, sigma)\n",
    "    return torch.mean(-dist.log_prob(y))\n",
    "\n",
    "def percent_loss(pred,target):\n",
    "    return torch.sum(torch.log(torch.abs(pred)/(torch.abs(target)+1)))"
   ]
  },
  {
   "cell_type": "code",
   "execution_count": 30,
   "metadata": {},
   "outputs": [],
   "source": [
    "model1 = LinearNet()\n",
    "# model2 = RecurrentNet()\n",
    "# model3 = RecurrentNetSkip()\n",
    "model1.to(device)\n",
    "# model2.to(device)\n",
    "# model3.to(device)\n",
    "lr = 1e-3\n",
    "optimizer1 = optim.Adam(model1.parameters(), lr=lr)\n",
    "# optimizer2 = optim.Adam(model2.parameters(), lr=lr)\n",
    "# optimizer3 = optim.Adam(model3.parameters(), lr=lr)\n",
    "\n",
    "critirion = nn.SmoothL1Loss()"
   ]
  },
  {
   "cell_type": "code",
   "execution_count": 31,
   "metadata": {},
   "outputs": [
    {
     "data": {
      "application/vnd.jupyter.widget-view+json": {
       "model_id": "edd45b08e9c747129411edfc3c63a32f",
       "version_major": 2,
       "version_minor": 0
      },
      "text/plain": [
       "HBox(children=(IntProgress(value=0, max=20), HTML(value='')))"
      ]
     },
     "metadata": {},
     "output_type": "display_data"
    },
    {
     "data": {
      "application/vnd.jupyter.widget-view+json": {
       "model_id": "7795f3f2ab354f84836bb6a3548af78b",
       "version_major": 2,
       "version_minor": 0
      },
      "text/plain": [
       "HBox(children=(IntProgress(value=0, max=150), HTML(value='')))"
      ]
     },
     "metadata": {},
     "output_type": "display_data"
    },
    {
     "name": "stdout",
     "output_type": "stream",
     "text": [
      "train error 1: 16707.6\t test error 1: 17292.7\n"
     ]
    },
    {
     "data": {
      "application/vnd.jupyter.widget-view+json": {
       "model_id": "7bcd1c4a2a954336b19856079bc6749e",
       "version_major": 2,
       "version_minor": 0
      },
      "text/plain": [
       "HBox(children=(IntProgress(value=0, max=150), HTML(value='')))"
      ]
     },
     "metadata": {},
     "output_type": "display_data"
    },
    {
     "name": "stdout",
     "output_type": "stream",
     "text": [
      "train error 1: 15459.1\t test error 1: 17219.6\n"
     ]
    },
    {
     "data": {
      "application/vnd.jupyter.widget-view+json": {
       "model_id": "751383d58d8c4d4f9fc86f920930cf7a",
       "version_major": 2,
       "version_minor": 0
      },
      "text/plain": [
       "HBox(children=(IntProgress(value=0, max=150), HTML(value='')))"
      ]
     },
     "metadata": {},
     "output_type": "display_data"
    },
    {
     "name": "stdout",
     "output_type": "stream",
     "text": [
      "train error 1: 14433.5\t test error 1: 17123.7\n"
     ]
    },
    {
     "data": {
      "application/vnd.jupyter.widget-view+json": {
       "model_id": "0b6a64345f9f492e9337ff843507a7a3",
       "version_major": 2,
       "version_minor": 0
      },
      "text/plain": [
       "HBox(children=(IntProgress(value=0, max=150), HTML(value='')))"
      ]
     },
     "metadata": {},
     "output_type": "display_data"
    },
    {
     "name": "stdout",
     "output_type": "stream",
     "text": [
      "train error 1: 14561.0\t test error 1: 17180.9\n"
     ]
    },
    {
     "data": {
      "application/vnd.jupyter.widget-view+json": {
       "model_id": "f92f587554e04d2f90e2eeda5221e09a",
       "version_major": 2,
       "version_minor": 0
      },
      "text/plain": [
       "HBox(children=(IntProgress(value=0, max=150), HTML(value='')))"
      ]
     },
     "metadata": {},
     "output_type": "display_data"
    },
    {
     "name": "stdout",
     "output_type": "stream",
     "text": [
      "train error 1: 14747.5\t test error 1: 17228.8\n"
     ]
    },
    {
     "data": {
      "application/vnd.jupyter.widget-view+json": {
       "model_id": "1aabc8604cc04fbcb4499df1527b5ef0",
       "version_major": 2,
       "version_minor": 0
      },
      "text/plain": [
       "HBox(children=(IntProgress(value=0, max=150), HTML(value='')))"
      ]
     },
     "metadata": {},
     "output_type": "display_data"
    },
    {
     "name": "stdout",
     "output_type": "stream",
     "text": [
      "train error 1: 14254.9\t test error 1: 17216.1\n"
     ]
    },
    {
     "data": {
      "application/vnd.jupyter.widget-view+json": {
       "model_id": "d19a843bf0da4b6787de8d18ab9da07d",
       "version_major": 2,
       "version_minor": 0
      },
      "text/plain": [
       "HBox(children=(IntProgress(value=0, max=150), HTML(value='')))"
      ]
     },
     "metadata": {},
     "output_type": "display_data"
    },
    {
     "name": "stdout",
     "output_type": "stream",
     "text": [
      "train error 1: 14219.3\t test error 1: 17191.5\n"
     ]
    },
    {
     "data": {
      "application/vnd.jupyter.widget-view+json": {
       "model_id": "ff498a9b52144f4bbd2d855f60f0bf80",
       "version_major": 2,
       "version_minor": 0
      },
      "text/plain": [
       "HBox(children=(IntProgress(value=0, max=150), HTML(value='')))"
      ]
     },
     "metadata": {},
     "output_type": "display_data"
    },
    {
     "name": "stdout",
     "output_type": "stream",
     "text": [
      "train error 1: 14345.3\t test error 1: 17231.7\n"
     ]
    },
    {
     "data": {
      "application/vnd.jupyter.widget-view+json": {
       "model_id": "7db1d0ce54fb4291836b107c388c2429",
       "version_major": 2,
       "version_minor": 0
      },
      "text/plain": [
       "HBox(children=(IntProgress(value=0, max=150), HTML(value='')))"
      ]
     },
     "metadata": {},
     "output_type": "display_data"
    },
    {
     "name": "stdout",
     "output_type": "stream",
     "text": [
      "train error 1: 14042.7\t test error 1: 17221.7\n"
     ]
    },
    {
     "data": {
      "application/vnd.jupyter.widget-view+json": {
       "model_id": "e2a2c9cf4d3a4449be3fd1266174515e",
       "version_major": 2,
       "version_minor": 0
      },
      "text/plain": [
       "HBox(children=(IntProgress(value=0, max=150), HTML(value='')))"
      ]
     },
     "metadata": {},
     "output_type": "display_data"
    },
    {
     "name": "stdout",
     "output_type": "stream",
     "text": [
      "train error 1: 14228.9\t test error 1: 17222.5\n"
     ]
    },
    {
     "data": {
      "application/vnd.jupyter.widget-view+json": {
       "model_id": "cda010385b274ebda684f763ee6943cd",
       "version_major": 2,
       "version_minor": 0
      },
      "text/plain": [
       "HBox(children=(IntProgress(value=0, max=150), HTML(value='')))"
      ]
     },
     "metadata": {},
     "output_type": "display_data"
    },
    {
     "name": "stdout",
     "output_type": "stream",
     "text": [
      "train error 1: 14337.6\t test error 1: 17286.8\n"
     ]
    },
    {
     "data": {
      "application/vnd.jupyter.widget-view+json": {
       "model_id": "850c7898444c40ae8eceb14c3b5a4818",
       "version_major": 2,
       "version_minor": 0
      },
      "text/plain": [
       "HBox(children=(IntProgress(value=0, max=150), HTML(value='')))"
      ]
     },
     "metadata": {},
     "output_type": "display_data"
    },
    {
     "name": "stdout",
     "output_type": "stream",
     "text": [
      "train error 1: 14060.4\t test error 1: 17276.9\n"
     ]
    },
    {
     "data": {
      "application/vnd.jupyter.widget-view+json": {
       "model_id": "9ac1c0fd6e2a4c0893cdba4991e531b8",
       "version_major": 2,
       "version_minor": 0
      },
      "text/plain": [
       "HBox(children=(IntProgress(value=0, max=150), HTML(value='')))"
      ]
     },
     "metadata": {},
     "output_type": "display_data"
    },
    {
     "name": "stdout",
     "output_type": "stream",
     "text": [
      "train error 1: 13715.0\t test error 1: 17279.3\n"
     ]
    },
    {
     "data": {
      "application/vnd.jupyter.widget-view+json": {
       "model_id": "22c5b480c27e4a99bf86d6ef5634bda9",
       "version_major": 2,
       "version_minor": 0
      },
      "text/plain": [
       "HBox(children=(IntProgress(value=0, max=150), HTML(value='')))"
      ]
     },
     "metadata": {},
     "output_type": "display_data"
    },
    {
     "name": "stdout",
     "output_type": "stream",
     "text": [
      "train error 1: 14138.2\t test error 1: 17275.1\n"
     ]
    },
    {
     "data": {
      "application/vnd.jupyter.widget-view+json": {
       "model_id": "e66e216103ef4fb6ac0d5f2d9dc13792",
       "version_major": 2,
       "version_minor": 0
      },
      "text/plain": [
       "HBox(children=(IntProgress(value=0, max=150), HTML(value='')))"
      ]
     },
     "metadata": {},
     "output_type": "display_data"
    },
    {
     "name": "stdout",
     "output_type": "stream",
     "text": [
      "train error 1: 14110.6\t test error 1: 17292.9\n"
     ]
    },
    {
     "data": {
      "application/vnd.jupyter.widget-view+json": {
       "model_id": "4eaf413713cd44f9933b72c50acf4072",
       "version_major": 2,
       "version_minor": 0
      },
      "text/plain": [
       "HBox(children=(IntProgress(value=0, max=150), HTML(value='')))"
      ]
     },
     "metadata": {},
     "output_type": "display_data"
    },
    {
     "name": "stdout",
     "output_type": "stream",
     "text": [
      "train error 1: 13884.3\t test error 1: 17268.9\n"
     ]
    },
    {
     "data": {
      "application/vnd.jupyter.widget-view+json": {
       "model_id": "89c7c5af95a846bd8ded813217c59160",
       "version_major": 2,
       "version_minor": 0
      },
      "text/plain": [
       "HBox(children=(IntProgress(value=0, max=150), HTML(value='')))"
      ]
     },
     "metadata": {},
     "output_type": "display_data"
    },
    {
     "name": "stdout",
     "output_type": "stream",
     "text": [
      "train error 1: 14087.1\t test error 1: 17300.9\n"
     ]
    },
    {
     "data": {
      "application/vnd.jupyter.widget-view+json": {
       "model_id": "a0dc9faa0f504e19a14f203f34940201",
       "version_major": 2,
       "version_minor": 0
      },
      "text/plain": [
       "HBox(children=(IntProgress(value=0, max=150), HTML(value='')))"
      ]
     },
     "metadata": {},
     "output_type": "display_data"
    },
    {
     "name": "stdout",
     "output_type": "stream",
     "text": [
      "train error 1: 14326.9\t test error 1: 17293.3\n"
     ]
    },
    {
     "data": {
      "application/vnd.jupyter.widget-view+json": {
       "model_id": "8342613e99d641c5932329668ae75834",
       "version_major": 2,
       "version_minor": 0
      },
      "text/plain": [
       "HBox(children=(IntProgress(value=0, max=150), HTML(value='')))"
      ]
     },
     "metadata": {},
     "output_type": "display_data"
    },
    {
     "name": "stdout",
     "output_type": "stream",
     "text": [
      "train error 1: 13337.0\t test error 1: 17267.4\n"
     ]
    },
    {
     "data": {
      "application/vnd.jupyter.widget-view+json": {
       "model_id": "9dcd324039244bfca328bc6663c36a98",
       "version_major": 2,
       "version_minor": 0
      },
      "text/plain": [
       "HBox(children=(IntProgress(value=0, max=150), HTML(value='')))"
      ]
     },
     "metadata": {},
     "output_type": "display_data"
    },
    {
     "name": "stdout",
     "output_type": "stream",
     "text": [
      "train error 1: 13483.4\t test error 1: 17302.7\n",
      "\n"
     ]
    }
   ],
   "source": [
    "#Training loop\n",
    "num_epochs = 20\n",
    "train_loss1 = []\n",
    "test_loss1 = []\n",
    "# train_loss2 = []\n",
    "# test_loss2 = []\n",
    "# train_loss3 = []\n",
    "# test_loss3 = []\n",
    "\n",
    "for epoch in tqdm(range(num_epochs), unit='epoch'):\n",
    "    #For each epoch\n",
    "    train_error1 = 0\n",
    "#     train_error2 = 0\n",
    "#     train_error3 = 0\n",
    "    model1.train()\n",
    "#     model2.train()\n",
    "#     model3.train()\n",
    "    for minibatch_no, (data, target) in tqdm(enumerate(train_loader), total=len(train_loader)):\n",
    "        data, target = data.to(device), target.to(device)\n",
    "        #Zero the gradients computed for each weight\n",
    "        optimizer1.zero_grad()\n",
    "#         optimizer2.zero_grad()\n",
    "#         optimizer3.zero_grad()\n",
    "        #Forward pass your image through the network\n",
    "        output1 = model1(data)\n",
    "#         output2 = model2(data)\n",
    "#         output3 = model3(data)\n",
    "        #Compute the loss\n",
    "#         loss1 = percent_loss(output1,target)\n",
    "#         loss2 = percent_loss(output2,target)\n",
    "#         loss3 = percent_loss(output3,target)\n",
    "        loss1 = critirion(output1,target)\n",
    "#         loss2 = critirion(output2,target)\n",
    "#         loss3 = critirion(output3,target)\n",
    "\n",
    "        #Backward pass through the network\n",
    "        loss1.backward()\n",
    "#         loss2.backward()\n",
    "#         loss3.backward()\n",
    "        #Update the weights\n",
    "        optimizer1.step()\n",
    "#         optimizer2.step()\n",
    "#         optimizer3.step()\n",
    "        train_error1 += loss1\n",
    "#         train_error2 += loss2\n",
    "#         train_error3 += loss3\n",
    "        \n",
    "        \n",
    "    #Comput the test accuracy\n",
    "    model1.eval()\n",
    "#     model2.eval()\n",
    "#     model3.eval()\n",
    "    test_error1 = 0\n",
    "#     test_error2 = 0\n",
    "#     test_error3 = 0\n",
    "    for data, target in test_loader:\n",
    "        data, target = data.to(device), target.to(device)\n",
    "        with torch.no_grad():\n",
    "            output1 = model1(data)\n",
    "#             output2 = model2(data)\n",
    "#             output3 = model3(data)\n",
    "#         test_error1 += percent_loss(output1,target)\n",
    "#         test_error2 += percent_loss(output2,target)\n",
    "#         test_error3 += percent_loss(output3,target)\n",
    "        test_error1 += critirion(output1,target)\n",
    "#         test_error2 += critirion(output2,target)\n",
    "#         test_error3 += critirion(output3,target)\n",
    "        \n",
    "    train_err1 = train_error1/len(trainset)\n",
    "    train_loss1.append(train_err1)\n",
    "    test_err1 = test_error1/len(testset)\n",
    "    test_loss1.append(test_err1)\n",
    "#     train_err2 = train_error2/len(trainset)\n",
    "#     train_loss2.append(train_err2)\n",
    "#     test_err2 = test_error2/len(testset)\n",
    "#     test_loss2.append(test_err2)\n",
    "#     train_err3 = train_error3/len(trainset)\n",
    "#     train_loss3.append(train_err3)\n",
    "#     test_err3 = test_error3/len(testset)\n",
    "#     test_loss3.append(test_err3)\n",
    "#     print(\"train error 1: {train1:.1f}\\t test error 1: {test1:.1f}\\n train error 2: {train2:.1f}\\t test error 2: {test2:.1f}\\n train error 3: {train3:.1f}\\t test error 3: {test3:.1f}\".format(test1=test_err1, test2=test_err2, test3=test_err3, train1=train_err1, train2=train_err2, train3=train_err3))\n",
    "    print(\"train error 1: {train1:.1f}\\t test error 1: {test1:.1f}\".format(test1=test_err1,train1=train_err1))"
   ]
  },
  {
   "cell_type": "code",
   "execution_count": 36,
   "metadata": {},
   "outputs": [
    {
     "name": "stdout",
     "output_type": "stream",
     "text": [
      "tensor([649205.,  17336., -21124., 818408., 832228., 296966., 117475., -10268.,\n",
      "        135589.,  62979.])\n",
      "tensor([3911.5496,  775.0461, 1252.2852, 3558.8792, 3875.0557,  979.9656,\n",
      "         804.2947,  437.9222, 1230.3635,  356.9851], grad_fn=<ViewBackward>)\n"
     ]
    }
   ],
   "source": [
    "print(target[:10])\n",
    "temp =model1(data[:10])\n",
    "print(temp)"
   ]
  },
  {
   "cell_type": "code",
   "execution_count": 33,
   "metadata": {},
   "outputs": [
    {
     "data": {
      "image/png": "[encoded data removed]",
      "text/plain": [
       "<Figure size 432x288 with 1 Axes>"
      ]
     },
     "metadata": {},
     "output_type": "display_data"
    }
   ],
   "source": [
    "plt.plot(train_loss1)\n",
    "# plt.plot(test_loss)\n",
    "plt.legend([\"train loss\",\"test loss\"])\n",
    "plt.title(\"Loss for recurrent network on medium companies\")\n",
    "plt.xlabel(\"epochs\")\n",
    "# plt.savefig(\"loss_plot_mc\")\n",
    "plt.show()"
   ]
  },
  {
   "cell_type": "code",
   "execution_count": 34,
   "metadata": {},
   "outputs": [
    {
     "data": {
      "application/vnd.jupyter.widget-view+json": {
       "model_id": "baca28325e1d41639be3e39d2db93bfb",
       "version_major": 2,
       "version_minor": 0
      },
      "text/plain": [
       "HBox(children=(IntProgress(value=0, max=150), HTML(value='')))"
      ]
     },
     "metadata": {},
     "output_type": "display_data"
    },
    {
     "name": "stdout",
     "output_type": "stream",
     "text": [
      "\n",
      "baseline error: 16695.8\n"
     ]
    }
   ],
   "source": [
    "#predicts the average over the last 3 years\n",
    "baseline_loss = 0\n",
    "for minibatch_no, (data, target) in tqdm(enumerate(train_loader), total=len(train_loader)):  \n",
    "    y_pred = data[:,:,0].mean(1)\n",
    "#     y_pred = data.mean(1)\n",
    "    loss = critirion(y_pred,target)\n",
    "    baseline_loss += loss.numpy()\n",
    "baseline_loss /= len(trainset)\n",
    "print(\"baseline error: {error:.1f}\".format(error =baseline_loss))"
   ]
  },
  {
   "cell_type": "code",
   "execution_count": 35,
   "metadata": {},
   "outputs": [],
   "source": [
    "# torch.save(model.state_dict(),\"Current_Assets\")"
   ]
  }
 ],
 "metadata": {
  "kernelspec": {
   "display_name": "Python 3",
   "language": "python",
   "name": "python3"
  },
  "language_info": {
   "codemirror_mode": {
    "name": "ipython",
    "version": 3
   },
   "file_extension": ".py",
   "mimetype": "text/x-python",
   "name": "python",
   "nbconvert_exporter": "python",
   "pygments_lexer": "ipython3",
   "version": "3.6.5"
  }
 },
 "nbformat": 4,
 "nbformat_minor": 2
}
