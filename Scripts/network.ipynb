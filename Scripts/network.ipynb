{
 "cells": [
  {
   "cell_type": "code",
   "execution_count": 1,
   "metadata": {},
   "outputs": [],
   "source": [
    "import numpy as np\n",
    "import pandas as pd\n",
    "import matplotlib.pyplot as plt\n",
    "import os\n",
    "import torch\n",
    "from torch.autograd import Variable\n",
    "import torch.nn as nn\n",
    "import torch.optim as optim\n",
    "# from torchsummary import summary\n",
    "from torch.utils.data import DataLoader\n",
    "from torch.utils.data import Dataset\n",
    "from tqdm.notebook import tqdm\n",
    "# from tqdm import tqdm_notebook as tqdm\n",
    "from sklearn.model_selection import train_test_split\n",
    "from scipy.linalg import eigh\n",
    "from sklearn.preprocessing import normalize"
   ]
  },
  {
   "cell_type": "code",
   "execution_count": 2,
   "metadata": {},
   "outputs": [
    {
     "name": "stdout",
     "output_type": "stream",
     "text": [
      "The code will run on GPU. This is important so things run faster.\n"
     ]
    }
   ],
   "source": [
    "if torch.cuda.is_available():\n",
    "    print(\"The code will run on GPU. This is important so things run faster.\")\n",
    "else:\n",
    "    print(\"The code will run on CPU. You should probably not do this.\")\n",
    "device = torch.device('cuda' if torch.cuda.is_available() else 'cpu')"
   ]
  },
  {
   "cell_type": "code",
   "execution_count": 3,
   "metadata": {},
   "outputs": [],
   "source": [
    "class dataset:\n",
    "    def __init__(self,data,target):\n",
    "        self.data = data\n",
    "        self.target = target\n",
    "    \n",
    "    def __len__(self):\n",
    "        return len(self.data)\n",
    "    \n",
    "    def __getitem__(self,idx):\n",
    "        if torch.is_tensor(idx):\n",
    "            idx = idx.tolist()\n",
    "        X = self.data[idx]\n",
    "        y = self.target[idx]\n",
    "        \n",
    "        return X,y"
   ]
  },
  {
   "cell_type": "markdown",
   "metadata": {},
   "source": [
    "0:year,1:Start_date,2:ProfitLoss,3:GrossResult,4:Assets,5:AverageNumberOfEmployees,6:Equity,7:AddressOfReportingEntityPostCodeIdentifier"
   ]
  },
  {
   "cell_type": "code",
   "execution_count": 4,
   "metadata": {},
   "outputs": [],
   "source": [
    "years = 6\n",
    "data = np.load('data_train_{}.npy'.format(years),allow_pickle=True)\n",
    "target = np.load('data_target_{}.npy'.format(years),allow_pickle=True)"
   ]
  },
  {
   "cell_type": "code",
   "execution_count": 5,
   "metadata": {},
   "outputs": [],
   "source": [
    "#Changes address to first number in postcode or 0 if there isn't one\n",
    "data = data[:,:,2:] \n",
    "target = target[:,2:]\n",
    "'''\n",
    "0:ProfitLoss,1:GrossResult,2:Assets,3:AverageNumberOfEmployees,4:Equity,5:AddressOfReportingEntityPostCodeIdentifier\n",
    "'''\n",
    "for i in range(data.shape[0]):\n",
    "    for j in range(data.shape[1]):\n",
    "        try:\n",
    "            data[i,j,5] = int(str(data[i,j,5])[0])\n",
    "        except:\n",
    "            data[i,j,5] = 0\n",
    "for i in range(target.shape[0]):\n",
    "    try:\n",
    "        target[i,5] = int(str(target[i,5])[0])\n",
    "    except:\n",
    "        target[i,5] = 0"
   ]
  },
  {
   "cell_type": "code",
   "execution_count": 6,
   "metadata": {},
   "outputs": [
    {
     "name": "stderr",
     "output_type": "stream",
     "text": [
      "D:\\Programmer\\Anaconda\\envs\\Deep learning\\lib\\site-packages\\ipykernel_launcher.py:13: DeprecationWarning: using a non-integer array as obj in delete will result in an error in the future\n",
      "  del sys.path[0]\n",
      "D:\\Programmer\\Anaconda\\envs\\Deep learning\\lib\\site-packages\\ipykernel_launcher.py:14: DeprecationWarning: using a non-integer array as obj in delete will result in an error in the future\n",
      "  \n"
     ]
    }
   ],
   "source": [
    "#remove remaining strings\n",
    "index_of_string = []\n",
    "for i in range(data.shape[0]):\n",
    "    for j in range(data.shape[1]):\n",
    "        for k in range(data.shape[2]):\n",
    "            try:\n",
    "                float(data[i,j,k])\n",
    "            except:\n",
    "                index_of_string.append((i))\n",
    "                \n",
    "index_of_string = np.array(index_of_string)\n",
    "index_of_string = np.unique(index_of_string)                \n",
    "data = np.delete(data,index_of_string,axis=0)\n",
    "target = np.delete(target,index_of_string,axis=0)"
   ]
  },
  {
   "cell_type": "code",
   "execution_count": 7,
   "metadata": {},
   "outputs": [
    {
     "name": "stderr",
     "output_type": "stream",
     "text": [
      "D:\\Programmer\\Anaconda\\envs\\Deep learning\\lib\\site-packages\\ipykernel_launcher.py:10: DeprecationWarning: using a non-integer array as obj in delete will result in an error in the future\n",
      "  # Remove the CWD from sys.path while we load stuff.\n",
      "D:\\Programmer\\Anaconda\\envs\\Deep learning\\lib\\site-packages\\ipykernel_launcher.py:11: DeprecationWarning: using a non-integer array as obj in delete will result in an error in the future\n",
      "  # This is added back by InteractiveShellApp.init_path()\n"
     ]
    }
   ],
   "source": [
    "#remove nan\n",
    "nan_ = []\n",
    "for i in range(data.shape[0]):\n",
    "    for j in range(data.shape[1]):\n",
    "        for k in range(data.shape[2]):\n",
    "            if np.isnan(data[i,j,k]):\n",
    "                nan_.append(i)\n",
    "nan_ = np.array(nan_)\n",
    "nan_ = np.unique(nan_)\n",
    "data = np.delete(data,nan_,axis=0)\n",
    "target = np.delete(target,nan_,axis=0)"
   ]
  },
  {
   "cell_type": "code",
   "execution_count": 8,
   "metadata": {},
   "outputs": [],
   "source": [
    "#removes any entry with a zero in profitloss, GrossResult, assets or equity\n",
    "has_zero = []\n",
    "for i in range(data.shape[0]):\n",
    "    for j in range(data.shape[1]):\n",
    "        if data[i,j,0] == 0 or data[i,j,1] == 0 or data[i,j,2] == 0 or data[i,j,4] == 0:\n",
    "            has_zero.append(i)\n",
    "has_zero = np.unique(np.array(has_zero))\n",
    "data = np.delete(data,has_zero,axis=0)\n",
    "target = np.delete(target,has_zero,axis=0)"
   ]
  },
  {
   "cell_type": "code",
   "execution_count": 9,
   "metadata": {},
   "outputs": [],
   "source": [
    "# big_company_pos = []\n",
    "# medium_company_pos = []\n",
    "# small_company_pos = []\n",
    "# big_company_neg = []\n",
    "# medium_company_neg = []\n",
    "# small_company_neg = []\n",
    "\n",
    "# for i in range(data.shape[0]):\n",
    "#     if np.median(data[i,:,1]) < 0:\n",
    "#         if np.mean(data[i,:,2]) < 100000:\n",
    "#             small_company_neg.append(i)\n",
    "#         elif np.mean(data[i,:,2]) > 100000 and np.mean(data[i,:,2]) < 10000000:\n",
    "#             medium_company_neg.append(i)\n",
    "#         else:\n",
    "#             big_company_neg.append(i)\n",
    "#     else:\n",
    "#         if np.mean(data[i,:,2]) < 100000:\n",
    "#             small_company_pos.append(i)\n",
    "#         elif np.mean(data[i,:,2]) > 100000 and np.mean(data[i,:,2]) < 10000000:\n",
    "#             medium_company_pos.append(i)\n",
    "#         else:\n",
    "#             big_company_pos.append(i)\n",
    "\n",
    "# print(len(small_company_neg))\n",
    "# print(len(small_company_pos))\n",
    "# print(len(medium_company_neg))\n",
    "# print(len(medium_company_pos))\n",
    "# print(len(big_company_neg))\n",
    "# print(len(big_company_pos))"
   ]
  },
  {
   "cell_type": "code",
   "execution_count": 10,
   "metadata": {},
   "outputs": [
    {
     "name": "stdout",
     "output_type": "stream",
     "text": [
      "1366\n",
      "2973\n",
      "1394\n"
     ]
    }
   ],
   "source": [
    "small_company = []\n",
    "medium_company = []\n",
    "big_company = []\n",
    "for i in range(data.shape[0]):\n",
    "    if np.mean(data[i,:,2]) < 1000000:\n",
    "        small_company.append(i)\n",
    "    elif np.mean(data[i,:,2]) > 1000000 and np.mean(data[i,:,2]) < 10000000:\n",
    "        medium_company.append(i)\n",
    "    else:\n",
    "        big_company.append(i)\n",
    "        \n",
    "print(len(small_company))        \n",
    "print(len(medium_company))\n",
    "print(len(big_company))"
   ]
  },
  {
   "cell_type": "code",
   "execution_count": 11,
   "metadata": {},
   "outputs": [],
   "source": [
    "data = data.astype(\"float\")\n",
    "target = target.astype(\"float\")"
   ]
  },
  {
   "cell_type": "code",
   "execution_count": 12,
   "metadata": {},
   "outputs": [],
   "source": [
    "# data = data[medium_company_pos]\n",
    "# target = target[medium_company_pos]\n",
    "# data = data[small_company]\n",
    "# target = target[small_company]\n",
    "data = data[medium_company]\n",
    "target = target[medium_company]"
   ]
  },
  {
   "cell_type": "code",
   "execution_count": 13,
   "metadata": {},
   "outputs": [],
   "source": [
    "data = data[:,:,0:3]\n",
    "features = data.shape[2]"
   ]
  },
  {
   "cell_type": "code",
   "execution_count": 14,
   "metadata": {},
   "outputs": [],
   "source": [
    "data = torch.from_numpy(data).float()\n",
    "# data = data.permute(0,2,1) # Needed if using CNN\n",
    "target = torch.from_numpy(target).float()\n",
    "\n",
    "#target index\n",
    "target_index = 1\n",
    "\n",
    "train_idx,test_idx = train_test_split(np.arange(data.shape[0]),test_size=0.1)\n",
    "\n",
    "train_data = data[train_idx,:,:]\n",
    "train_target = target[train_idx,target_index] \n",
    "test_data = data[test_idx,:,:]\n",
    "test_target = target[test_idx,target_index]\n",
    "\n",
    "trainset = dataset(train_data,train_target)\n",
    "testset = dataset(test_data,test_target)"
   ]
  },
  {
   "cell_type": "code",
   "execution_count": 15,
   "metadata": {},
   "outputs": [],
   "source": [
    "# #for data_grouped.npy\n",
    "# zeros_ = np.zeros(6)\n",
    "# for i in range(6):\n",
    "#     temp = data[:,:,i].clone()\n",
    "#     zeros_[i] = temp[temp==0].shape[0]\n",
    "    \n",
    "# pct_zeros = zeros_/(data.shape[0]*3)\n",
    "# print('0:ProfitLoss, 1:GrossResult, 2:Assets,3:AverageNumberOfEmployees, 4:Equity, 5:AddressOfReportingEntityPostCodeIdentifier')\n",
    "# print(pct_zeros)"
   ]
  },
  {
   "cell_type": "code",
   "execution_count": 16,
   "metadata": {},
   "outputs": [],
   "source": [
    "batch_size=100\n",
    "\n",
    "train_loader = DataLoader(trainset, batch_size=batch_size, shuffle=True, num_workers=0)\n",
    "test_loader = DataLoader(testset, batch_size=batch_size, shuffle=False, num_workers=0)"
   ]
  },
  {
   "cell_type": "code",
   "execution_count": 17,
   "metadata": {},
   "outputs": [],
   "source": [
    "# temp = data.clone()\n",
    "# temp = temp.view(temp.shape[0]*temp.shape[1],temp.shape[2])\n",
    "# temp = temp.numpy()\n",
    "\n",
    "# # #standardize data \n",
    "# temp = temp-np.ones((temp.shape[0],1))*temp.mean(0)\n",
    "# temp = temp*(1/np.std(temp,0))\n",
    "# #compute covariance matrix\n",
    "# S = np.cov(temp.T)\n",
    "\n",
    "# #obtain eigen values and eigen vectors\n",
    "# eigenValues, eigenVectors = eigh(S)\n",
    "# idx_ord = np.argsort(eigenValues)[::-1]\n",
    "# eigenValues = eigenValues[idx_ord]\n",
    "# eigenVectors = eigenVectors[:,idx_ord]\n",
    "\n",
    "# #plot cummulative variance explained    \n",
    "# summ = eigenValues.sum()\n",
    "# cumsum = 0\n",
    "# total_var_explained = np.zeros(features)\n",
    "# for i in range(features):    \n",
    "#     cumsum = cumsum + eigenValues[i]\n",
    "#     total_var_explained[i]=(cumsum/summ)\n",
    "    \n",
    "# fig, ax = plt.subplots()\n",
    "# ax.plot(total_var_explained,'-o')\n",
    "# #ax.axhline(0.90,linestyle='--')\n",
    "# plt.grid();\n",
    "# #plt.xlim(-1,50)\n",
    "# #plt.ylim(0,1)\n",
    "# plt.title('Variance explained' )\n",
    "# plt.ylabel('Cummulative sum')\n",
    "# plt.xlabel('Principle components')\n",
    "# # plt.savefig(\"variance_explained\")\n",
    "# plt.show()\n",
    "\n",
    "# M=features\n",
    "# pcs = np.arange(features)\n",
    "# #pcs = np.array([3,10])\n",
    "# legendStrs = ['PC'+str(e+1) for e in pcs]\n",
    "# c = ['r','g','b']\n",
    "# bw = .15\n",
    "# r = np.arange(1,M+1)\n",
    "# for i in pcs:    \n",
    "#    plt.bar(r+i*bw/2, eigenVectors[:,i], width=bw)\n",
    "# plt.xticks(r+bw, np.arange(1,13))\n",
    "# plt.xlabel('Attributes')\n",
    "# plt.ylabel('Component coefficients')\n",
    "# plt.legend(legendStrs,loc=1, bbox_to_anchor=(1.2,1))\n",
    "# plt.grid()\n",
    "# plt.title('PCA Component Coefficients')\n",
    "# plt.show()"
   ]
  },
  {
   "cell_type": "code",
   "execution_count": 18,
   "metadata": {},
   "outputs": [],
   "source": [
    "# #Picking principle components to project the data into\n",
    "# eigenvectors1 = eigenVectors[:, 0]\n",
    "# eigenvectors2 = eigenVectors[:, 1]\n",
    "# eigenvectors3 = eigenVectors[:, 2]\n",
    "# eigenvectors4 = eigenVectors[:, 3]\n",
    "# eigenvectors = np.vstack((eigenvectors1,eigenvectors2,eigenvectors3,eigenvectors4)).T\n",
    "\n",
    "# ## now we have to project our vectors in this new base\n",
    "# transformed_data = temp @ eigenvectors\n",
    "\n",
    "# fig,ax = plt.subplots(3,1,figsize=(10,15))\n",
    "# ax[0].scatter(transformed_data[:, 0], transformed_data[:, 1])\n",
    "# ax[0].set_title('Data projection into 2D PC space')\n",
    "# ax[0].set_xlabel('Principle component 1')\n",
    "# ax[0].set_ylabel('Principle component 2')\n",
    "# ax[1].scatter(transformed_data[:, 0], transformed_data[:, 2])\n",
    "# ax[1].set_title('Data projection into 2D PC space')\n",
    "# ax[1].set_xlabel('Principle component 1')\n",
    "# ax[1].set_ylabel('Principle component 3')\n",
    "# ax[2].scatter(transformed_data[:, 0], transformed_data[:, 3])\n",
    "# ax[2].set_title('Data projection into 2D PC space')\n",
    "# ax[2].set_xlabel('Principle component 1')\n",
    "# ax[2].set_ylabel('Principle component 4')\n",
    "# #plt.rcParams.update({'figure.autolayout': True})\n",
    "# plt.show()"
   ]
  },
  {
   "cell_type": "code",
   "execution_count": 19,
   "metadata": {},
   "outputs": [],
   "source": [
    "class RecurrentNetSkip(nn.Module):\n",
    "    def __init__(self,years,p):\n",
    "        super(RecurrentNetSkip, self).__init__()\n",
    "        \n",
    "#         self.linearIn = nn.Sequential(nn.Linear(in_features=years,out_features=6),\n",
    "#                                       nn.ReLU(),\n",
    "#                                       nn.Linear(6,10)) \n",
    "        self.rnn = nn.GRU(input_size=features,\n",
    "                          hidden_size=10,\n",
    "                          num_layers=years,\n",
    "                          batch_first=True)\n",
    "        self.linearOut = nn.Sequential(nn.Linear(in_features=(10+features)*years,out_features=50),\n",
    "                                       nn.ReLU(),\n",
    "                                       nn.Dropout(p=p),\n",
    "                                       nn.Linear(50,20),\n",
    "                                       nn.ReLU(),\n",
    "                                       nn.Dropout(p=p),\n",
    "                                       nn.Linear(20,1)) #change to 2 for predicting normal distribution\n",
    "\n",
    "        \n",
    "    def forward(self, x): #x = [batch_size,years,6]\n",
    "        \n",
    "#         x1 = self.linearIn(x[:,0,:]) #[batch_size,6]\n",
    "#         x2 = self.linearIn(x[:,1,:]) #[batch_size,6]\n",
    "#         x3 = self.linearIn(x[:,2,:]) #[batch_size,6]\n",
    "#         x1 = x1.unsqueeze(1) #[batch_size,1,6]\n",
    "#         x2 = x2.unsqueeze(1) #[batch_size,1,6]\n",
    "#         x3 = x3.unsqueeze(1) #[batch_size,1,6]     \n",
    "#         temp = []\n",
    "#         temp.append(x1)\n",
    "#         temp.append(x2)\n",
    "#         temp.append(x3)\n",
    "#         z = torch.cat(temp,dim=1) #[batch_size,3,6]\n",
    "        \n",
    "#         y = torch.cat((z,x),dim=2) #[batch_size,3,12]\n",
    "                                            \n",
    "        y,_ = self.rnn(x) #[batch_size,years,50]\n",
    "        \n",
    "        x = torch.cat((x,y),dim=2) #[batch_size,years,50+3]\n",
    "        \n",
    "        x = x.reshape(x.shape[0],-1) #[batch_size,(50+3)*years]\n",
    "                       \n",
    "        x = self.linearOut(x) #[batch_size,1], [batch_size,2] if predicting normal distribution\n",
    "        x = x.view(-1)\n",
    "        return x\n"
   ]
  },
  {
   "cell_type": "code",
   "execution_count": 20,
   "metadata": {},
   "outputs": [],
   "source": [
    "class RecurrentNet(nn.Module):\n",
    "    def __init__(self,years,p):\n",
    "        super(RecurrentNet, self).__init__()\n",
    "        \n",
    "#         self.linearIn = nn.Sequential(nn.Linear(in_features=years,out_features=6),\n",
    "#                                       nn.ReLU(),\n",
    "#                                       nn.Linear(6,10)) \n",
    "        self.rnn = nn.GRU(input_size=features,\n",
    "                          hidden_size=10,\n",
    "                          num_layers=years,\n",
    "                          batch_first=True)\n",
    "        self.linearOut = nn.Sequential(nn.Linear(in_features=10*years,out_features=50),\n",
    "                                       nn.ReLU(),\n",
    "                                       nn.Dropout(p=p),\n",
    "                                       nn.Linear(50,20),\n",
    "                                       nn.ReLU(),\n",
    "                                       nn.Dropout(p=p),\n",
    "                                       nn.Linear(20,1)) #change to 2 for predicting normal distribution\n",
    "\n",
    "        \n",
    "    def forward(self, x): #x = [batch_size,years,3]\n",
    "#         x1 = self.linearIn(x[:,0,:]) #[batch_size,6]\n",
    "#         x2 = self.linearIn(x[:,1,:]) #[batch_size,6]\n",
    "#         x3 = self.linearIn(x[:,2,:]) #[batch_size,6]\n",
    "#         x1 = x1.unsqueeze(1) #[batch_size,1,6]\n",
    "#         x2 = x2.unsqueeze(1) #[batch_size,1,6]\n",
    "#         x3 = x3.unsqueeze(1) #[batch_size,1,6]     \n",
    "#         temp = []\n",
    "#         temp.append(x1)\n",
    "#         temp.append(x2)\n",
    "#         temp.append(x3)\n",
    "#         x = torch.cat(temp,dim=1) #[batch_size,3,6]\n",
    "                                            \n",
    "        x,_ = self.rnn(x) #[batch_size,years,50]\n",
    "        \n",
    "        x = x.reshape(x.shape[0],-1) #[batch_size,50*years]\n",
    "                       \n",
    "        x = self.linearOut(x) #[batch_size,1], [batch_size,2] if predicting normal distribution\n",
    "        x = x.view(-1)\n",
    "        return x\n"
   ]
  },
  {
   "cell_type": "code",
   "execution_count": 21,
   "metadata": {},
   "outputs": [],
   "source": [
    "class LinearNet(nn.Module):\n",
    "    def __init__(self,years,p):\n",
    "        super(LinearNet, self).__init__()\n",
    "        \n",
    "        self.linear = nn.Sequential(nn.Linear(in_features=features*years,out_features=40),\n",
    "                                   nn.ReLU(),\n",
    "                                   nn.Dropout(p=p),\n",
    "                                   nn.Linear(40,60),\n",
    "                                   nn.ReLU(),\n",
    "                                   nn.Dropout(p=p),\n",
    "                                   nn.Linear(60,20),\n",
    "                                   nn.ReLU(),\n",
    "                                   nn.Dropout(p=p),\n",
    "                                   nn.Linear(20,1))\n",
    "\n",
    "        \n",
    "    def forward(self, x): #x = [batch_size,3,3]\n",
    "        x = x.view(x.shape[0],-1)\n",
    "        x = self.linear(x)\n",
    "        x = x.view(-1)\n",
    "        return x\n"
   ]
  },
  {
   "cell_type": "code",
   "execution_count": 22,
   "metadata": {},
   "outputs": [],
   "source": [
    "def cost(mu,sigma,y):\n",
    "    sigma = torch.abs(sigma)\n",
    "    dist = torch.distributions.normal.Normal(mu, sigma)\n",
    "    return torch.mean(-dist.log_prob(y))\n",
    "\n",
    "def percent_loss(pred,target):\n",
    "    count_bad_pred = 0\n",
    "    temp = pred < torch.ones(pred.shape[0])*1000\n",
    "    temp2 = pred > torch.ones(pred.shape[0])*-1000\n",
    "    for i in range(pred.shape[0]):\n",
    "        if temp[i] == temp2[i]:\n",
    "            count_bad_pred += 1\n",
    "\n",
    "    return torch.sum(torch.abs(torch.abs(pred-target)/(target+1)))+count_bad_pred*10000"
   ]
  },
  {
   "cell_type": "code",
   "execution_count": 23,
   "metadata": {},
   "outputs": [],
   "source": [
    "model1 = LinearNet(years,0.15)\n",
    "model2 = RecurrentNet(years,0.15)\n",
    "model3 = RecurrentNetSkip(years,0.15)\n",
    "\n",
    "# model1 = RecurrentNet(years,0.15)\n",
    "\n",
    "model1.to(device)\n",
    "model2.to(device)\n",
    "model3.to(device)\n",
    "lr = 1e-3\n",
    "optimizer1 = optim.Adam(model1.parameters(), lr=lr)\n",
    "optimizer2 = optim.Adam(model2.parameters(), lr=lr)\n",
    "optimizer3 = optim.Adam(model3.parameters(), lr=lr)\n",
    "\n",
    "critirion = nn.SmoothL1Loss()"
   ]
  },
  {
   "cell_type": "code",
   "execution_count": 24,
   "metadata": {},
   "outputs": [
    {
     "data": {
      "application/vnd.jupyter.widget-view+json": {
       "model_id": "9afe6efb509e458f9f5ae980ffb9754f",
       "version_major": 2,
       "version_minor": 0
      },
      "text/plain": [
       "HBox(children=(IntProgress(value=0, max=50), HTML(value='')))"
      ]
     },
     "metadata": {},
     "output_type": "display_data"
    },
    {
     "data": {
      "application/vnd.jupyter.widget-view+json": {
       "model_id": "ffed980821a04eba8bdf41dd85b8d78d",
       "version_major": 2,
       "version_minor": 0
      },
      "text/plain": [
       "HBox(children=(IntProgress(value=0, max=27), HTML(value='')))"
      ]
     },
     "metadata": {},
     "output_type": "display_data"
    },
    {
     "name": "stdout",
     "output_type": "stream",
     "text": [
      "\n",
      "train error 1: 14991.5\t test error 1: 9884.9\n",
      " train error 2: 16222.9\t test error 2: 12890.6\n",
      " train error 3: 14948.5\t test error 3: 10032.9\n"
     ]
    },
    {
     "data": {
      "application/vnd.jupyter.widget-view+json": {
       "model_id": "45ae4db29e5a471c8a0b4cc2fa3d1f94",
       "version_major": 2,
       "version_minor": 0
      },
      "text/plain": [
       "HBox(children=(IntProgress(value=0, max=27), HTML(value='')))"
      ]
     },
     "metadata": {},
     "output_type": "display_data"
    },
    {
     "name": "stdout",
     "output_type": "stream",
     "text": [
      "\n",
      "train error 1: 9854.5\t test error 1: 6919.7\n",
      " train error 2: 16179.2\t test error 2: 12890.6\n",
      " train error 3: 10145.2\t test error 3: 6061.4\n"
     ]
    },
    {
     "data": {
      "application/vnd.jupyter.widget-view+json": {
       "model_id": "a057c236500843b781eaba3b43fae265",
       "version_major": 2,
       "version_minor": 0
      },
      "text/plain": [
       "HBox(children=(IntProgress(value=0, max=27), HTML(value='')))"
      ]
     },
     "metadata": {},
     "output_type": "display_data"
    },
    {
     "name": "stdout",
     "output_type": "stream",
     "text": [
      "\n",
      "train error 1: 7618.1\t test error 1: 5585.2\n",
      " train error 2: 16198.6\t test error 2: 12890.6\n",
      " train error 3: 7298.1\t test error 3: 5278.4\n"
     ]
    },
    {
     "data": {
      "application/vnd.jupyter.widget-view+json": {
       "model_id": "64ef18d351a2438fbb47af72bd586e18",
       "version_major": 2,
       "version_minor": 0
      },
      "text/plain": [
       "HBox(children=(IntProgress(value=0, max=27), HTML(value='')))"
      ]
     },
     "metadata": {},
     "output_type": "display_data"
    },
    {
     "name": "stdout",
     "output_type": "stream",
     "text": [
      "\n",
      "train error 1: 6737.2\t test error 1: 5101.3\n",
      " train error 2: 16249.2\t test error 2: 12890.4\n",
      " train error 3: 6277.7\t test error 3: 4837.1\n"
     ]
    },
    {
     "data": {
      "application/vnd.jupyter.widget-view+json": {
       "model_id": "a35618c68eac4235a31c2aa1a680d77c",
       "version_major": 2,
       "version_minor": 0
      },
      "text/plain": [
       "HBox(children=(IntProgress(value=0, max=27), HTML(value='')))"
      ]
     },
     "metadata": {},
     "output_type": "display_data"
    },
    {
     "name": "stdout",
     "output_type": "stream",
     "text": [
      "\n",
      "train error 1: 6305.4\t test error 1: 4824.5\n",
      " train error 2: 16318.0\t test error 2: 12890.2\n",
      " train error 3: 5642.1\t test error 3: 4675.5\n"
     ]
    },
    {
     "data": {
      "application/vnd.jupyter.widget-view+json": {
       "model_id": "913fb95a79164bd7be8a3a346978fd40",
       "version_major": 2,
       "version_minor": 0
      },
      "text/plain": [
       "HBox(children=(IntProgress(value=0, max=27), HTML(value='')))"
      ]
     },
     "metadata": {},
     "output_type": "display_data"
    },
    {
     "name": "stdout",
     "output_type": "stream",
     "text": [
      "\n",
      "train error 1: 6381.5\t test error 1: 4690.8\n",
      " train error 2: 16203.5\t test error 2: 12889.6\n",
      " train error 3: 5734.0\t test error 3: 4640.5\n"
     ]
    },
    {
     "data": {
      "application/vnd.jupyter.widget-view+json": {
       "model_id": "4e1bc566384f404bb2497789d622b8e5",
       "version_major": 2,
       "version_minor": 0
      },
      "text/plain": [
       "HBox(children=(IntProgress(value=0, max=27), HTML(value='')))"
      ]
     },
     "metadata": {},
     "output_type": "display_data"
    },
    {
     "name": "stdout",
     "output_type": "stream",
     "text": [
      "\n",
      "train error 1: 5811.6\t test error 1: 4552.4\n",
      " train error 2: 16182.0\t test error 2: 12888.7\n",
      " train error 3: 5389.6\t test error 3: 4528.9\n"
     ]
    },
    {
     "data": {
      "application/vnd.jupyter.widget-view+json": {
       "model_id": "34e3137992e14582b0400f7633ea328e",
       "version_major": 2,
       "version_minor": 0
      },
      "text/plain": [
       "HBox(children=(IntProgress(value=0, max=27), HTML(value='')))"
      ]
     },
     "metadata": {},
     "output_type": "display_data"
    },
    {
     "name": "stdout",
     "output_type": "stream",
     "text": [
      "\n",
      "train error 1: 5604.5\t test error 1: 4502.0\n",
      " train error 2: 16189.3\t test error 2: 12887.3\n",
      " train error 3: 5315.4\t test error 3: 4410.6\n"
     ]
    },
    {
     "data": {
      "application/vnd.jupyter.widget-view+json": {
       "model_id": "bc0d2ae4959a47f39a013bbe87d091af",
       "version_major": 2,
       "version_minor": 0
      },
      "text/plain": [
       "HBox(children=(IntProgress(value=0, max=27), HTML(value='')))"
      ]
     },
     "metadata": {},
     "output_type": "display_data"
    },
    {
     "name": "stdout",
     "output_type": "stream",
     "text": [
      "\n",
      "train error 1: 5665.9\t test error 1: 4506.2\n",
      " train error 2: 16237.4\t test error 2: 12885.1\n",
      " train error 3: 5275.6\t test error 3: 4344.0\n"
     ]
    },
    {
     "data": {
      "application/vnd.jupyter.widget-view+json": {
       "model_id": "9f33174fe01b4bd2b1f257d98234eb50",
       "version_major": 2,
       "version_minor": 0
      },
      "text/plain": [
       "HBox(children=(IntProgress(value=0, max=27), HTML(value='')))"
      ]
     },
     "metadata": {},
     "output_type": "display_data"
    },
    {
     "name": "stdout",
     "output_type": "stream",
     "text": [
      "\n",
      "train error 1: 5614.4\t test error 1: 4533.5\n",
      " train error 2: 16233.4\t test error 2: 12882.1\n",
      " train error 3: 5131.9\t test error 3: 4320.8\n"
     ]
    },
    {
     "data": {
      "application/vnd.jupyter.widget-view+json": {
       "model_id": "dbb15a1404db461c92625f1373f7e179",
       "version_major": 2,
       "version_minor": 0
      },
      "text/plain": [
       "HBox(children=(IntProgress(value=0, max=27), HTML(value='')))"
      ]
     },
     "metadata": {},
     "output_type": "display_data"
    },
    {
     "name": "stdout",
     "output_type": "stream",
     "text": [
      "\n",
      "train error 1: 5298.8\t test error 1: 4390.2\n",
      " train error 2: 16169.0\t test error 2: 12879.2\n",
      " train error 3: 5185.1\t test error 3: 4340.6\n"
     ]
    },
    {
     "data": {
      "application/vnd.jupyter.widget-view+json": {
       "model_id": "321c87793b184de4b77b66f0a6948c20",
       "version_major": 2,
       "version_minor": 0
      },
      "text/plain": [
       "HBox(children=(IntProgress(value=0, max=27), HTML(value='')))"
      ]
     },
     "metadata": {},
     "output_type": "display_data"
    },
    {
     "name": "stdout",
     "output_type": "stream",
     "text": [
      "\n",
      "train error 1: 5203.5\t test error 1: 4549.6\n",
      " train error 2: 16175.4\t test error 2: 12873.9\n",
      " train error 3: 5166.5\t test error 3: 4402.8\n"
     ]
    },
    {
     "data": {
      "application/vnd.jupyter.widget-view+json": {
       "model_id": "871d9c49882c4449aae874aca3718648",
       "version_major": 2,
       "version_minor": 0
      },
      "text/plain": [
       "HBox(children=(IntProgress(value=0, max=27), HTML(value='')))"
      ]
     },
     "metadata": {},
     "output_type": "display_data"
    },
    {
     "name": "stdout",
     "output_type": "stream",
     "text": [
      "\n",
      "train error 1: 5362.4\t test error 1: 4260.9\n",
      " train error 2: 16170.2\t test error 2: 12868.1\n",
      " train error 3: 5044.0\t test error 3: 4248.2\n"
     ]
    },
    {
     "data": {
      "application/vnd.jupyter.widget-view+json": {
       "model_id": "366908c560cc4e559839e740bd160b65",
       "version_major": 2,
       "version_minor": 0
      },
      "text/plain": [
       "HBox(children=(IntProgress(value=0, max=27), HTML(value='')))"
      ]
     },
     "metadata": {},
     "output_type": "display_data"
    },
    {
     "name": "stdout",
     "output_type": "stream",
     "text": [
      "\n",
      "train error 1: 5240.5\t test error 1: 4291.0\n",
      " train error 2: 16203.2\t test error 2: 12862.0\n",
      " train error 3: 5014.3\t test error 3: 4369.0\n"
     ]
    },
    {
     "data": {
      "application/vnd.jupyter.widget-view+json": {
       "model_id": "5cb9a2cfd71b46b59d3d831277aa31aa",
       "version_major": 2,
       "version_minor": 0
      },
      "text/plain": [
       "HBox(children=(IntProgress(value=0, max=27), HTML(value='')))"
      ]
     },
     "metadata": {},
     "output_type": "display_data"
    },
    {
     "name": "stdout",
     "output_type": "stream",
     "text": [
      "\n",
      "train error 1: 5331.8\t test error 1: 4280.1\n",
      " train error 2: 16131.3\t test error 2: 12854.3\n",
      " train error 3: 4946.0\t test error 3: 4381.5\n"
     ]
    },
    {
     "data": {
      "application/vnd.jupyter.widget-view+json": {
       "model_id": "7a1f2117250045eb8e388f4e3a90ac97",
       "version_major": 2,
       "version_minor": 0
      },
      "text/plain": [
       "HBox(children=(IntProgress(value=0, max=27), HTML(value='')))"
      ]
     },
     "metadata": {},
     "output_type": "display_data"
    },
    {
     "name": "stdout",
     "output_type": "stream",
     "text": [
      "\n",
      "train error 1: 5084.6\t test error 1: 4283.3\n",
      " train error 2: 16146.8\t test error 2: 12845.9\n",
      " train error 3: 5048.7\t test error 3: 4282.9\n"
     ]
    },
    {
     "data": {
      "application/vnd.jupyter.widget-view+json": {
       "model_id": "94716fc73986475d89435cc517003e15",
       "version_major": 2,
       "version_minor": 0
      },
      "text/plain": [
       "HBox(children=(IntProgress(value=0, max=27), HTML(value='')))"
      ]
     },
     "metadata": {},
     "output_type": "display_data"
    },
    {
     "name": "stdout",
     "output_type": "stream",
     "text": [
      "\n",
      "train error 1: 5299.9\t test error 1: 4407.1\n",
      " train error 2: 16135.1\t test error 2: 12837.0\n",
      " train error 3: 4978.3\t test error 3: 4226.2\n"
     ]
    },
    {
     "data": {
      "application/vnd.jupyter.widget-view+json": {
       "model_id": "769f6265b6f04da4b93215c7215111d1",
       "version_major": 2,
       "version_minor": 0
      },
      "text/plain": [
       "HBox(children=(IntProgress(value=0, max=27), HTML(value='')))"
      ]
     },
     "metadata": {},
     "output_type": "display_data"
    },
    {
     "name": "stdout",
     "output_type": "stream",
     "text": [
      "\n",
      "train error 1: 5186.1\t test error 1: 4264.3\n",
      " train error 2: 16158.2\t test error 2: 12824.6\n",
      " train error 3: 4838.6\t test error 3: 4192.9\n"
     ]
    },
    {
     "data": {
      "application/vnd.jupyter.widget-view+json": {
       "model_id": "ed0819230cb24716b02c0635572b3ee8",
       "version_major": 2,
       "version_minor": 0
      },
      "text/plain": [
       "HBox(children=(IntProgress(value=0, max=27), HTML(value='')))"
      ]
     },
     "metadata": {},
     "output_type": "display_data"
    },
    {
     "name": "stdout",
     "output_type": "stream",
     "text": [
      "\n",
      "train error 1: 4979.2\t test error 1: 4269.4\n",
      " train error 2: 16139.5\t test error 2: 12815.0\n",
      " train error 3: 4859.8\t test error 3: 4240.9\n"
     ]
    },
    {
     "data": {
      "application/vnd.jupyter.widget-view+json": {
       "model_id": "9284c574c59e49d2b68ca3d22e76bb51",
       "version_major": 2,
       "version_minor": 0
      },
      "text/plain": [
       "HBox(children=(IntProgress(value=0, max=27), HTML(value='')))"
      ]
     },
     "metadata": {},
     "output_type": "display_data"
    },
    {
     "name": "stdout",
     "output_type": "stream",
     "text": [
      "\n",
      "train error 1: 5182.3\t test error 1: 4290.0\n",
      " train error 2: 16080.2\t test error 2: 12804.0\n",
      " train error 3: 4883.0\t test error 3: 4186.7\n"
     ]
    },
    {
     "data": {
      "application/vnd.jupyter.widget-view+json": {
       "model_id": "64ccc4f205c340998607add9616b1a2d",
       "version_major": 2,
       "version_minor": 0
      },
      "text/plain": [
       "HBox(children=(IntProgress(value=0, max=27), HTML(value='')))"
      ]
     },
     "metadata": {},
     "output_type": "display_data"
    },
    {
     "name": "stdout",
     "output_type": "stream",
     "text": [
      "\n",
      "train error 1: 5037.7\t test error 1: 4295.6\n",
      " train error 2: 16095.1\t test error 2: 12789.7\n",
      " train error 3: 4785.5\t test error 3: 4298.5\n"
     ]
    },
    {
     "data": {
      "application/vnd.jupyter.widget-view+json": {
       "model_id": "2b27ab271d45404981e3411328ce0c10",
       "version_major": 2,
       "version_minor": 0
      },
      "text/plain": [
       "HBox(children=(IntProgress(value=0, max=27), HTML(value='')))"
      ]
     },
     "metadata": {},
     "output_type": "display_data"
    },
    {
     "name": "stdout",
     "output_type": "stream",
     "text": [
      "\n",
      "train error 1: 4955.5\t test error 1: 4236.8\n",
      " train error 2: 16147.2\t test error 2: 12777.8\n",
      " train error 3: 5026.5\t test error 3: 4287.0\n"
     ]
    },
    {
     "data": {
      "application/vnd.jupyter.widget-view+json": {
       "model_id": "8b9d9d229e284efd999808b8d0a2602b",
       "version_major": 2,
       "version_minor": 0
      },
      "text/plain": [
       "HBox(children=(IntProgress(value=0, max=27), HTML(value='')))"
      ]
     },
     "metadata": {},
     "output_type": "display_data"
    },
    {
     "name": "stdout",
     "output_type": "stream",
     "text": [
      "\n",
      "train error 1: 5056.7\t test error 1: 4558.1\n",
      " train error 2: 16085.4\t test error 2: 12764.3\n",
      " train error 3: 4841.3\t test error 3: 4311.1\n"
     ]
    },
    {
     "data": {
      "application/vnd.jupyter.widget-view+json": {
       "model_id": "e49ecabfa49342d6898fe33789a41798",
       "version_major": 2,
       "version_minor": 0
      },
      "text/plain": [
       "HBox(children=(IntProgress(value=0, max=27), HTML(value='')))"
      ]
     },
     "metadata": {},
     "output_type": "display_data"
    },
    {
     "name": "stdout",
     "output_type": "stream",
     "text": [
      "\n",
      "train error 1: 5067.5\t test error 1: 4314.2\n",
      " train error 2: 16059.0\t test error 2: 12750.9\n",
      " train error 3: 4911.6\t test error 3: 4242.7\n"
     ]
    },
    {
     "data": {
      "application/vnd.jupyter.widget-view+json": {
       "model_id": "da1e7efdd16d4fa991d9ec2c40230c84",
       "version_major": 2,
       "version_minor": 0
      },
      "text/plain": [
       "HBox(children=(IntProgress(value=0, max=27), HTML(value='')))"
      ]
     },
     "metadata": {},
     "output_type": "display_data"
    },
    {
     "name": "stdout",
     "output_type": "stream",
     "text": [
      "\n",
      "train error 1: 4986.8\t test error 1: 4215.9\n",
      " train error 2: 16035.4\t test error 2: 12732.7\n",
      " train error 3: 4732.5\t test error 3: 4322.2\n"
     ]
    },
    {
     "data": {
      "application/vnd.jupyter.widget-view+json": {
       "model_id": "96c3918bef364ef0b6c4d6b6862f329c",
       "version_major": 2,
       "version_minor": 0
      },
      "text/plain": [
       "HBox(children=(IntProgress(value=0, max=27), HTML(value='')))"
      ]
     },
     "metadata": {},
     "output_type": "display_data"
    },
    {
     "name": "stdout",
     "output_type": "stream",
     "text": [
      "\n",
      "train error 1: 5036.2\t test error 1: 4263.9\n",
      " train error 2: 16048.6\t test error 2: 12717.1\n",
      " train error 3: 4734.1\t test error 3: 4250.3\n"
     ]
    },
    {
     "data": {
      "application/vnd.jupyter.widget-view+json": {
       "model_id": "214fa8b4a5ba4a678c1a63e3e1e9ddf4",
       "version_major": 2,
       "version_minor": 0
      },
      "text/plain": [
       "HBox(children=(IntProgress(value=0, max=27), HTML(value='')))"
      ]
     },
     "metadata": {},
     "output_type": "display_data"
    },
    {
     "name": "stdout",
     "output_type": "stream",
     "text": [
      "\n",
      "train error 1: 4850.9\t test error 1: 4423.4\n",
      " train error 2: 16018.3\t test error 2: 12701.8\n",
      " train error 3: 4670.6\t test error 3: 4210.6\n"
     ]
    },
    {
     "data": {
      "application/vnd.jupyter.widget-view+json": {
       "model_id": "cdd32de982704aaead1cb54fc250b3a4",
       "version_major": 2,
       "version_minor": 0
      },
      "text/plain": [
       "HBox(children=(IntProgress(value=0, max=27), HTML(value='')))"
      ]
     },
     "metadata": {},
     "output_type": "display_data"
    },
    {
     "name": "stdout",
     "output_type": "stream",
     "text": [
      "\n",
      "train error 1: 4937.9\t test error 1: 4315.4\n",
      " train error 2: 15998.2\t test error 2: 12676.0\n",
      " train error 3: 4782.1\t test error 3: 4266.5\n"
     ]
    },
    {
     "data": {
      "application/vnd.jupyter.widget-view+json": {
       "model_id": "bfb72f2af794442f9fa2ee61fda7bf23",
       "version_major": 2,
       "version_minor": 0
      },
      "text/plain": [
       "HBox(children=(IntProgress(value=0, max=27), HTML(value='')))"
      ]
     },
     "metadata": {},
     "output_type": "display_data"
    },
    {
     "name": "stdout",
     "output_type": "stream",
     "text": [
      "\n",
      "train error 1: 4998.2\t test error 1: 4449.2\n",
      " train error 2: 16003.0\t test error 2: 12657.2\n",
      " train error 3: 4796.8\t test error 3: 4248.1\n"
     ]
    },
    {
     "data": {
      "application/vnd.jupyter.widget-view+json": {
       "model_id": "7664405648244dfcbb8d1419d1793b6f",
       "version_major": 2,
       "version_minor": 0
      },
      "text/plain": [
       "HBox(children=(IntProgress(value=0, max=27), HTML(value='')))"
      ]
     },
     "metadata": {},
     "output_type": "display_data"
    },
    {
     "name": "stdout",
     "output_type": "stream",
     "text": [
      "\n",
      "train error 1: 4895.9\t test error 1: 4607.4\n",
      " train error 2: 15892.6\t test error 2: 12636.4\n",
      " train error 3: 4798.8\t test error 3: 4347.1\n"
     ]
    },
    {
     "data": {
      "application/vnd.jupyter.widget-view+json": {
       "model_id": "c23306fb04994e19b3679157d9b8b4d9",
       "version_major": 2,
       "version_minor": 0
      },
      "text/plain": [
       "HBox(children=(IntProgress(value=0, max=27), HTML(value='')))"
      ]
     },
     "metadata": {},
     "output_type": "display_data"
    },
    {
     "name": "stdout",
     "output_type": "stream",
     "text": [
      "\n",
      "train error 1: 4978.0\t test error 1: 4532.5\n",
      " train error 2: 15915.1\t test error 2: 12611.3\n",
      " train error 3: 4874.2\t test error 3: 4573.8\n"
     ]
    },
    {
     "data": {
      "application/vnd.jupyter.widget-view+json": {
       "model_id": "d541dfc5ec2e4dd7a67af49e41f4abac",
       "version_major": 2,
       "version_minor": 0
      },
      "text/plain": [
       "HBox(children=(IntProgress(value=0, max=27), HTML(value='')))"
      ]
     },
     "metadata": {},
     "output_type": "display_data"
    },
    {
     "name": "stdout",
     "output_type": "stream",
     "text": [
      "\n",
      "train error 1: 5098.6\t test error 1: 4338.8\n",
      " train error 2: 15970.1\t test error 2: 12594.6\n",
      " train error 3: 4792.9\t test error 3: 4258.3\n"
     ]
    },
    {
     "data": {
      "application/vnd.jupyter.widget-view+json": {
       "model_id": "b5a21754fe44484a9822c5213446ec80",
       "version_major": 2,
       "version_minor": 0
      },
      "text/plain": [
       "HBox(children=(IntProgress(value=0, max=27), HTML(value='')))"
      ]
     },
     "metadata": {},
     "output_type": "display_data"
    },
    {
     "name": "stdout",
     "output_type": "stream",
     "text": [
      "\n",
      "train error 1: 5080.3\t test error 1: 4543.7\n",
      " train error 2: 15878.3\t test error 2: 12566.3\n",
      " train error 3: 4732.1\t test error 3: 4287.3\n"
     ]
    },
    {
     "data": {
      "application/vnd.jupyter.widget-view+json": {
       "model_id": "741601ccac394be2802a2b9357fe28f4",
       "version_major": 2,
       "version_minor": 0
      },
      "text/plain": [
       "HBox(children=(IntProgress(value=0, max=27), HTML(value='')))"
      ]
     },
     "metadata": {},
     "output_type": "display_data"
    },
    {
     "name": "stdout",
     "output_type": "stream",
     "text": [
      "\n",
      "train error 1: 5001.5\t test error 1: 4401.6\n",
      " train error 2: 15837.7\t test error 2: 12542.7\n",
      " train error 3: 4585.8\t test error 3: 4255.5\n"
     ]
    },
    {
     "data": {
      "application/vnd.jupyter.widget-view+json": {
       "model_id": "024e3a44dbd04c1aa153bdb09cd8485d",
       "version_major": 2,
       "version_minor": 0
      },
      "text/plain": [
       "HBox(children=(IntProgress(value=0, max=27), HTML(value='')))"
      ]
     },
     "metadata": {},
     "output_type": "display_data"
    },
    {
     "name": "stdout",
     "output_type": "stream",
     "text": [
      "\n",
      "train error 1: 5042.8\t test error 1: 4361.6\n",
      " train error 2: 15811.0\t test error 2: 12519.5\n",
      " train error 3: 4743.2\t test error 3: 4277.1\n"
     ]
    },
    {
     "data": {
      "application/vnd.jupyter.widget-view+json": {
       "model_id": "9831e0f6b65b4e1ebfd02b8c6af7528e",
       "version_major": 2,
       "version_minor": 0
      },
      "text/plain": [
       "HBox(children=(IntProgress(value=0, max=27), HTML(value='')))"
      ]
     },
     "metadata": {},
     "output_type": "display_data"
    },
    {
     "name": "stdout",
     "output_type": "stream",
     "text": [
      "\n",
      "train error 1: 4984.4\t test error 1: 4290.9\n",
      " train error 2: 15813.7\t test error 2: 12482.5\n",
      " train error 3: 4764.7\t test error 3: 4302.9\n"
     ]
    },
    {
     "data": {
      "application/vnd.jupyter.widget-view+json": {
       "model_id": "7236409c6271428b91e9d538fbd075b3",
       "version_major": 2,
       "version_minor": 0
      },
      "text/plain": [
       "HBox(children=(IntProgress(value=0, max=27), HTML(value='')))"
      ]
     },
     "metadata": {},
     "output_type": "display_data"
    },
    {
     "name": "stdout",
     "output_type": "stream",
     "text": [
      "\n",
      "train error 1: 4884.8\t test error 1: 4536.4\n",
      " train error 2: 15801.2\t test error 2: 12466.7\n",
      " train error 3: 4658.9\t test error 3: 4276.2\n"
     ]
    },
    {
     "data": {
      "application/vnd.jupyter.widget-view+json": {
       "model_id": "a4f155038daf4651876ffd2a2901e6aa",
       "version_major": 2,
       "version_minor": 0
      },
      "text/plain": [
       "HBox(children=(IntProgress(value=0, max=27), HTML(value='')))"
      ]
     },
     "metadata": {},
     "output_type": "display_data"
    },
    {
     "name": "stdout",
     "output_type": "stream",
     "text": [
      "\n",
      "train error 1: 4964.1\t test error 1: 4284.9\n",
      " train error 2: 15693.9\t test error 2: 12425.0\n",
      " train error 3: 4815.4\t test error 3: 4251.9\n"
     ]
    },
    {
     "data": {
      "application/vnd.jupyter.widget-view+json": {
       "model_id": "2e0389f496484eeb8f61dc5315c66236",
       "version_major": 2,
       "version_minor": 0
      },
      "text/plain": [
       "HBox(children=(IntProgress(value=0, max=27), HTML(value='')))"
      ]
     },
     "metadata": {},
     "output_type": "display_data"
    },
    {
     "name": "stdout",
     "output_type": "stream",
     "text": [
      "\n",
      "train error 1: 4871.5\t test error 1: 4422.8\n",
      " train error 2: 15687.3\t test error 2: 12387.7\n",
      " train error 3: 4654.4\t test error 3: 4311.9\n"
     ]
    },
    {
     "data": {
      "application/vnd.jupyter.widget-view+json": {
       "model_id": "69144399e1ff4b35868c9346c0598512",
       "version_major": 2,
       "version_minor": 0
      },
      "text/plain": [
       "HBox(children=(IntProgress(value=0, max=27), HTML(value='')))"
      ]
     },
     "metadata": {},
     "output_type": "display_data"
    },
    {
     "name": "stdout",
     "output_type": "stream",
     "text": [
      "\n",
      "train error 1: 4730.4\t test error 1: 4334.2\n",
      " train error 2: 15682.5\t test error 2: 12367.0\n",
      " train error 3: 4746.7\t test error 3: 4244.6\n"
     ]
    },
    {
     "data": {
      "application/vnd.jupyter.widget-view+json": {
       "model_id": "dc1d458064034857801ad860ef525f45",
       "version_major": 2,
       "version_minor": 0
      },
      "text/plain": [
       "HBox(children=(IntProgress(value=0, max=27), HTML(value='')))"
      ]
     },
     "metadata": {},
     "output_type": "display_data"
    },
    {
     "name": "stdout",
     "output_type": "stream",
     "text": [
      "\n",
      "train error 1: 4688.0\t test error 1: 4254.4\n",
      " train error 2: 15601.5\t test error 2: 12323.8\n",
      " train error 3: 4687.5\t test error 3: 4197.5\n"
     ]
    },
    {
     "data": {
      "application/vnd.jupyter.widget-view+json": {
       "model_id": "8668f31dd3c74133aafefa918bc5a10b",
       "version_major": 2,
       "version_minor": 0
      },
      "text/plain": [
       "HBox(children=(IntProgress(value=0, max=27), HTML(value='')))"
      ]
     },
     "metadata": {},
     "output_type": "display_data"
    },
    {
     "name": "stdout",
     "output_type": "stream",
     "text": [
      "\n",
      "train error 1: 4849.3\t test error 1: 4320.1\n",
      " train error 2: 15600.9\t test error 2: 12294.5\n",
      " train error 3: 4641.2\t test error 3: 4306.9\n"
     ]
    },
    {
     "data": {
      "application/vnd.jupyter.widget-view+json": {
       "model_id": "86f014e023ad4ad78e3ece4aa474cdc9",
       "version_major": 2,
       "version_minor": 0
      },
      "text/plain": [
       "HBox(children=(IntProgress(value=0, max=27), HTML(value='')))"
      ]
     },
     "metadata": {},
     "output_type": "display_data"
    },
    {
     "name": "stdout",
     "output_type": "stream",
     "text": [
      "\n",
      "train error 1: 4826.3\t test error 1: 4292.1\n",
      " train error 2: 15500.3\t test error 2: 12269.2\n",
      " train error 3: 4651.4\t test error 3: 4298.6\n"
     ]
    },
    {
     "data": {
      "application/vnd.jupyter.widget-view+json": {
       "model_id": "ee2738489c184e6882e32dd8cd6232ef",
       "version_major": 2,
       "version_minor": 0
      },
      "text/plain": [
       "HBox(children=(IntProgress(value=0, max=27), HTML(value='')))"
      ]
     },
     "metadata": {},
     "output_type": "display_data"
    },
    {
     "name": "stdout",
     "output_type": "stream",
     "text": [
      "\n",
      "train error 1: 4936.3\t test error 1: 4331.4\n",
      " train error 2: 15479.4\t test error 2: 12238.1\n",
      " train error 3: 4571.3\t test error 3: 4269.9\n"
     ]
    },
    {
     "data": {
      "application/vnd.jupyter.widget-view+json": {
       "model_id": "36d9339ae498438da3748f4f8392b2e4",
       "version_major": 2,
       "version_minor": 0
      },
      "text/plain": [
       "HBox(children=(IntProgress(value=0, max=27), HTML(value='')))"
      ]
     },
     "metadata": {},
     "output_type": "display_data"
    },
    {
     "name": "stdout",
     "output_type": "stream",
     "text": [
      "\n",
      "train error 1: 4879.3\t test error 1: 4296.4\n",
      " train error 2: 15466.4\t test error 2: 12194.6\n",
      " train error 3: 4749.4\t test error 3: 4284.9\n"
     ]
    },
    {
     "data": {
      "application/vnd.jupyter.widget-view+json": {
       "model_id": "3c9f523670bf44a58acfe86269f9d613",
       "version_major": 2,
       "version_minor": 0
      },
      "text/plain": [
       "HBox(children=(IntProgress(value=0, max=27), HTML(value='')))"
      ]
     },
     "metadata": {},
     "output_type": "display_data"
    },
    {
     "name": "stdout",
     "output_type": "stream",
     "text": [
      "\n",
      "train error 1: 4670.4\t test error 1: 4359.1\n",
      " train error 2: 15411.5\t test error 2: 12161.2\n",
      " train error 3: 4869.4\t test error 3: 4276.6\n"
     ]
    },
    {
     "data": {
      "application/vnd.jupyter.widget-view+json": {
       "model_id": "333243e4a1314f63b392bc4b004863a0",
       "version_major": 2,
       "version_minor": 0
      },
      "text/plain": [
       "HBox(children=(IntProgress(value=0, max=27), HTML(value='')))"
      ]
     },
     "metadata": {},
     "output_type": "display_data"
    },
    {
     "name": "stdout",
     "output_type": "stream",
     "text": [
      "\n",
      "train error 1: 4827.2\t test error 1: 4360.2\n",
      " train error 2: 15385.7\t test error 2: 12126.2\n",
      " train error 3: 4820.7\t test error 3: 4212.5\n"
     ]
    },
    {
     "data": {
      "application/vnd.jupyter.widget-view+json": {
       "model_id": "c088efda2a6f495bbff8ab372fa6686c",
       "version_major": 2,
       "version_minor": 0
      },
      "text/plain": [
       "HBox(children=(IntProgress(value=0, max=27), HTML(value='')))"
      ]
     },
     "metadata": {},
     "output_type": "display_data"
    },
    {
     "name": "stdout",
     "output_type": "stream",
     "text": [
      "\n",
      "train error 1: 4632.7\t test error 1: 4490.3\n",
      " train error 2: 15339.0\t test error 2: 12091.2\n",
      " train error 3: 4740.2\t test error 3: 4244.8\n"
     ]
    },
    {
     "data": {
      "application/vnd.jupyter.widget-view+json": {
       "model_id": "b9b96904d233473b9f2e4a54d71f761d",
       "version_major": 2,
       "version_minor": 0
      },
      "text/plain": [
       "HBox(children=(IntProgress(value=0, max=27), HTML(value='')))"
      ]
     },
     "metadata": {},
     "output_type": "display_data"
    },
    {
     "name": "stdout",
     "output_type": "stream",
     "text": [
      "\n",
      "train error 1: 4664.1\t test error 1: 4737.7\n",
      " train error 2: 15299.8\t test error 2: 12064.4\n",
      " train error 3: 4805.7\t test error 3: 4251.9\n"
     ]
    },
    {
     "data": {
      "application/vnd.jupyter.widget-view+json": {
       "model_id": "1dfd665ee3b645228f9a158c7216a9a2",
       "version_major": 2,
       "version_minor": 0
      },
      "text/plain": [
       "HBox(children=(IntProgress(value=0, max=27), HTML(value='')))"
      ]
     },
     "metadata": {},
     "output_type": "display_data"
    },
    {
     "name": "stdout",
     "output_type": "stream",
     "text": [
      "\n",
      "train error 1: 4840.9\t test error 1: 4409.3\n",
      " train error 2: 15282.6\t test error 2: 12003.0\n",
      " train error 3: 4657.1\t test error 3: 4325.0\n",
      "\n"
     ]
    }
   ],
   "source": [
    "#Training loop\n",
    "num_epochs = 50\n",
    "train_loss1 = []\n",
    "test_loss1 = []\n",
    "train_loss2 = []\n",
    "test_loss2 = []\n",
    "train_loss3 = []\n",
    "test_loss3 = []\n",
    "\n",
    "for epoch in tqdm(range(num_epochs), unit='epoch'):\n",
    "    #For each epoch\n",
    "    train_error1 = 0\n",
    "    train_error2 = 0\n",
    "    train_error3 = 0\n",
    "    model1.train()\n",
    "    model2.train()\n",
    "    model3.train()\n",
    "    for minibatch_no, (data, target) in tqdm(enumerate(train_loader), total=len(train_loader)):\n",
    "        data, target = data.to(device), target.to(device)\n",
    "        #Zero the gradients computed for each weight\n",
    "        optimizer1.zero_grad()\n",
    "        optimizer2.zero_grad()\n",
    "        optimizer3.zero_grad()\n",
    "        #Forward pass your image through the network\n",
    "        output1 = model1(data)\n",
    "        output2 = model2(data)\n",
    "        output3 = model3(data)\n",
    "        #Compute the loss\n",
    "#         loss1 = percent_loss(output1,target)\n",
    "#         loss2 = percent_loss(output2,target)\n",
    "#         loss3 = percent_loss(output3,target)\n",
    "        loss1 = critirion(output1,target)\n",
    "        loss2 = critirion(output2,target)\n",
    "        loss3 = critirion(output3,target)\n",
    "\n",
    "        #Backward pass through the network\n",
    "        loss1.backward()\n",
    "        loss2.backward()\n",
    "        loss3.backward()\n",
    "        #Update the weights\n",
    "        optimizer1.step()\n",
    "        optimizer2.step()\n",
    "        optimizer3.step()\n",
    "        train_error1 += loss1\n",
    "        train_error2 += loss2\n",
    "        train_error3 += loss3\n",
    "        \n",
    "        \n",
    "    #Comput the test accuracy\n",
    "    model1.eval()\n",
    "    model2.eval()\n",
    "    model3.eval()\n",
    "    test_error1 = 0\n",
    "    test_error2 = 0\n",
    "    test_error3 = 0\n",
    "    for data, target in test_loader:\n",
    "        data, target = data.to(device), target.to(device)\n",
    "        with torch.no_grad():\n",
    "            output1 = model1(data)\n",
    "            output2 = model2(data)\n",
    "            output3 = model3(data)\n",
    "#         test_error1 += percent_loss(output1,target)\n",
    "#         test_error2 += percent_loss(output2,target)\n",
    "#         test_error3 += percent_loss(output3,target)\n",
    "        test_error1 += critirion(output1,target)\n",
    "        test_error2 += critirion(output2,target)\n",
    "        test_error3 += critirion(output3,target)\n",
    "        \n",
    "    train_err1 = train_error1/len(trainset)\n",
    "    train_loss1.append(train_err1)\n",
    "    test_err1 = test_error1/len(testset)\n",
    "    test_loss1.append(test_err1)\n",
    "    train_err2 = train_error2/len(trainset)\n",
    "    train_loss2.append(train_err2)\n",
    "    test_err2 = test_error2/len(testset)\n",
    "    test_loss2.append(test_err2)\n",
    "    train_err3 = train_error3/len(trainset)\n",
    "    train_loss3.append(train_err3)\n",
    "    test_err3 = test_error3/len(testset)\n",
    "    test_loss3.append(test_err3)\n",
    "    print(\"train error 1: {train1:.1f}\\t test error 1: {test1:.1f}\\n train error 2: {train2:.1f}\\t test error 2: {test2:.1f}\\n train error 3: {train3:.1f}\\t test error 3: {test3:.1f}\".format(test1=test_err1, test2=test_err2, test3=test_err3, train1=train_err1, train2=train_err2, train3=train_err3))\n",
    "#     print(\"train error 1: {train1:.1f}\\t test error 1: {test1:.1f}\".format(test1=test_err1,train1=train_err1))"
   ]
  },
  {
   "cell_type": "code",
   "execution_count": 25,
   "metadata": {},
   "outputs": [
    {
     "name": "stdout",
     "output_type": "stream",
     "text": [
      "tensor([ 2.9261e+05, -2.5003e+04,  2.9409e+06, -7.2613e+05,  2.5298e+05,\n",
      "         3.4519e+06, -8.4250e+03, -7.6370e+03,  3.6884e+06,  1.2338e+07],\n",
      "       device='cuda:0')\n",
      "tensor([ 2.0605e+06, -1.2024e+04,  3.7079e+06, -6.0043e+04,  4.0805e+05,\n",
      "         2.7151e+06, -6.7187e+03, -4.5421e+03,  2.9975e+06,  1.1240e+07],\n",
      "       device='cuda:0', grad_fn=<ViewBackward>)\n"
     ]
    }
   ],
   "source": [
    "print(target[:10])\n",
    "temp =model1(data[:10])\n",
    "print(temp)"
   ]
  },
  {
   "cell_type": "code",
   "execution_count": 26,
   "metadata": {},
   "outputs": [
    {
     "data": {
      "application/vnd.jupyter.widget-view+json": {
       "model_id": "4d737d5a6fc1440980e39780c5752540",
       "version_major": 2,
       "version_minor": 0
      },
      "text/plain": [
       "HBox(children=(IntProgress(value=0, max=27), HTML(value='')))"
      ]
     },
     "metadata": {},
     "output_type": "display_data"
    },
    {
     "name": "stdout",
     "output_type": "stream",
     "text": [
      "\n",
      "baseline error: 16625.6\n"
     ]
    }
   ],
   "source": [
    "#predicts the average over the last 3 years\n",
    "baseline_loss = 0\n",
    "for minibatch_no, (data, target) in tqdm(enumerate(train_loader), total=len(train_loader)):  \n",
    "    y_pred = data[:,:,0].mean(1)\n",
    "#     y_pred = data.mean(1)\n",
    "    loss = critirion(y_pred,target)\n",
    "#     loss = percent_loss(y_pred,target)\n",
    "    baseline_loss += loss.numpy()\n",
    "baseline_loss /= len(trainset)\n",
    "print(\"baseline error: {error:.1f}\".format(error =baseline_loss))"
   ]
  },
  {
   "cell_type": "code",
   "execution_count": 27,
   "metadata": {},
   "outputs": [
    {
     "data": {
      "image/png": "[encoded data removed]",
      "text/plain": [
       "<Figure size 432x288 with 1 Axes>"
      ]
     },
     "metadata": {
      "needs_background": "light"
     },
     "output_type": "display_data"
    }
   ],
   "source": [
    "plt.plot(train_loss1)\n",
    "plt.plot(test_loss1)\n",
    "plt.plot(np.ones(num_epochs)*baseline_loss)\n",
    "plt.legend([\"train loss\",\"test loss\",\"baseline\"])\n",
    "plt.title(\"Loss for linear network on medium companies\")\n",
    "plt.xlabel(\"epochs\")\n",
    "plt.ylabel(\"Average loss [DKK]\")\n",
    "plt.savefig(\"../images/linear_loss_{}_features_{}_years\".format(features,years))\n",
    "plt.show()"
   ]
  },
  {
   "cell_type": "code",
   "execution_count": 28,
   "metadata": {},
   "outputs": [
    {
     "data": {
      "image/png": "[encoded data removed]",
      "text/plain": [
       "<Figure size 432x288 with 1 Axes>"
      ]
     },
     "metadata": {
      "needs_background": "light"
     },
     "output_type": "display_data"
    }
   ],
   "source": [
    "plt.plot(train_loss2)\n",
    "plt.plot(test_loss2)\n",
    "plt.plot(np.ones(num_epochs)*baseline_loss)\n",
    "plt.legend([\"train loss\",\"test loss\",\"baseline\"])\n",
    "plt.title(\"Loss for recurrent network on medium companies\")\n",
    "plt.xlabel(\"epochs\")\n",
    "plt.ylabel(\"Average loss [DKK]\")\n",
    "plt.savefig(\"../images/recurrent_loss_{}_features_{}_years\".format(features,years))\n",
    "plt.show()"
   ]
  },
  {
   "cell_type": "code",
   "execution_count": 29,
   "metadata": {},
   "outputs": [
    {
     "data": {
      "image/png": "[encoded data removed]",
      "text/plain": [
       "<Figure size 432x288 with 1 Axes>"
      ]
     },
     "metadata": {
      "needs_background": "light"
     },
     "output_type": "display_data"
    }
   ],
   "source": [
    "plt.plot(train_loss3)\n",
    "plt.plot(test_loss3)\n",
    "plt.plot(np.ones(num_epochs)*baseline_loss)\n",
    "plt.legend([\"train loss\",\"test loss\",\"baseline\"])\n",
    "plt.title(\"Loss for recurrent network with skip-connections on medium companies\")\n",
    "plt.xlabel(\"epochs\")\n",
    "plt.ylabel(\"Average loss [DKK]\")\n",
    "plt.savefig(\"../images/recurrentskip_loss_{}_features_{}_years\".format(features,years))\n",
    "plt.show()"
   ]
  },
  {
   "cell_type": "code",
   "execution_count": 30,
   "metadata": {},
   "outputs": [],
   "source": [
    "torch.save(model1.state_dict(),\"linear_network_{}_features_{}_years\".format(features,years))\n",
    "torch.save(model2.state_dict(),\"recurrent_network_{}_features_{}_years\".format(features,years))\n",
    "torch.save(model3.state_dict(),\"recurrent_skip_network_{}_features_{}_years\".format(features,years))"
   ]
  }
 ],
 "metadata": {
  "kernelspec": {
   "display_name": "Python 3",
   "language": "python",
   "name": "python3"
  },
  "language_info": {
   "codemirror_mode": {
    "name": "ipython",
    "version": 3
   },
   "file_extension": ".py",
   "mimetype": "text/x-python",
   "name": "python",
   "nbconvert_exporter": "python",
   "pygments_lexer": "ipython3",
   "version": "3.6.9"
  }
 },
 "nbformat": 4,
 "nbformat_minor": 2
}
