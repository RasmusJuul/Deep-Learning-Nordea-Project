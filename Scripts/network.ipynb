{
 "cells": [
  {
   "cell_type": "code",
   "execution_count": 1,
   "metadata": {},
   "outputs": [],
   "source": [
    "import numpy as np\n",
    "import pandas as pd\n",
    "import matplotlib.pyplot as plt\n",
    "import os\n",
    "import torch\n",
    "from torch.autograd import Variable\n",
    "import torch.nn as nn\n",
    "import torch.optim as optim\n",
    "# from torchsummary import summary\n",
    "from torch.utils.data import DataLoader\n",
    "from torch.utils.data import Dataset\n",
    "from tqdm.notebook import tqdm\n",
    "# from tqdm import tqdm_notebook as tqdm\n",
    "from sklearn.model_selection import train_test_split\n",
    "from scipy.linalg import eigh\n",
    "from sklearn.preprocessing import normalize"
   ]
  },
  {
   "cell_type": "code",
   "execution_count": 2,
   "metadata": {},
   "outputs": [
    {
     "name": "stdout",
     "output_type": "stream",
     "text": [
      "The code will run on GPU. This is important so things run faster.\n"
     ]
    }
   ],
   "source": [
    "if torch.cuda.is_available():\n",
    "    print(\"The code will run on GPU. This is important so things run faster.\")\n",
    "else:\n",
    "    print(\"The code will run on CPU. You should probably not do this.\")\n",
    "device = torch.device('cuda' if torch.cuda.is_available() else 'cpu')"
   ]
  },
  {
   "cell_type": "code",
   "execution_count": 3,
   "metadata": {},
   "outputs": [],
   "source": [
    "class dataset:\n",
    "    def __init__(self,data,target):\n",
    "        self.data = data\n",
    "        self.target = target\n",
    "    \n",
    "    def __len__(self):\n",
    "        return len(self.data)\n",
    "    \n",
    "    def __getitem__(self,idx):\n",
    "        if torch.is_tensor(idx):\n",
    "            idx = idx.tolist()\n",
    "        X = self.data[idx]\n",
    "        y = self.target[idx]\n",
    "        \n",
    "        return X,y"
   ]
  },
  {
   "cell_type": "markdown",
   "metadata": {},
   "source": [
    "0:year,1:Start_date,2:ProfitLoss,3:GrossResult,4:Assets,5:AverageNumberOfEmployees,6:Equity,7:AddressOfReportingEntityPostCodeIdentifier"
   ]
  },
  {
   "cell_type": "code",
   "execution_count": 4,
   "metadata": {},
   "outputs": [],
   "source": [
    "years = 5\n",
    "data = np.load('data_train_{}.npy'.format(years),allow_pickle=True)\n",
    "target = np.load('data_target_{}.npy'.format(years),allow_pickle=True)"
   ]
  },
  {
   "cell_type": "code",
   "execution_count": 5,
   "metadata": {},
   "outputs": [],
   "source": [
    "#Changes address to first number in postcode or 0 if there isn't one\n",
    "data = data[:,:,2:] \n",
    "target = target[:,2:]\n",
    "'''\n",
    "0:ProfitLoss,1:GrossResult,2:Assets,3:AverageNumberOfEmployees,4:Equity,5:AddressOfReportingEntityPostCodeIdentifier\n",
    "'''\n",
    "for i in range(data.shape[0]):\n",
    "    for j in range(data.shape[1]):\n",
    "        try:\n",
    "            data[i,j,5] = int(str(data[i,j,5])[0])\n",
    "        except:\n",
    "            data[i,j,5] = 0\n",
    "for i in range(target.shape[0]):\n",
    "    try:\n",
    "        target[i,5] = int(str(target[i,5])[0])\n",
    "    except:\n",
    "        target[i,5] = 0"
   ]
  },
  {
   "cell_type": "code",
   "execution_count": 6,
   "metadata": {},
   "outputs": [
    {
     "name": "stderr",
     "output_type": "stream",
     "text": [
      "D:\\Programmer\\Anaconda\\envs\\Deep learning\\lib\\site-packages\\ipykernel_launcher.py:13: DeprecationWarning: using a non-integer array as obj in delete will result in an error in the future\n",
      "  del sys.path[0]\n",
      "D:\\Programmer\\Anaconda\\envs\\Deep learning\\lib\\site-packages\\ipykernel_launcher.py:14: DeprecationWarning: using a non-integer array as obj in delete will result in an error in the future\n",
      "  \n"
     ]
    }
   ],
   "source": [
    "#remove remaining strings\n",
    "index_of_string = []\n",
    "for i in range(data.shape[0]):\n",
    "    for j in range(data.shape[1]):\n",
    "        for k in range(data.shape[2]):\n",
    "            try:\n",
    "                float(data[i,j,k])\n",
    "            except:\n",
    "                index_of_string.append((i))\n",
    "                \n",
    "index_of_string = np.array(index_of_string)\n",
    "index_of_string = np.unique(index_of_string)                \n",
    "data = np.delete(data,index_of_string,axis=0)\n",
    "target = np.delete(target,index_of_string,axis=0)"
   ]
  },
  {
   "cell_type": "code",
   "execution_count": 7,
   "metadata": {},
   "outputs": [
    {
     "name": "stderr",
     "output_type": "stream",
     "text": [
      "D:\\Programmer\\Anaconda\\envs\\Deep learning\\lib\\site-packages\\ipykernel_launcher.py:10: DeprecationWarning: using a non-integer array as obj in delete will result in an error in the future\n",
      "  # Remove the CWD from sys.path while we load stuff.\n",
      "D:\\Programmer\\Anaconda\\envs\\Deep learning\\lib\\site-packages\\ipykernel_launcher.py:11: DeprecationWarning: using a non-integer array as obj in delete will result in an error in the future\n",
      "  # This is added back by InteractiveShellApp.init_path()\n"
     ]
    }
   ],
   "source": [
    "#remove nan\n",
    "nan_ = []\n",
    "for i in range(data.shape[0]):\n",
    "    for j in range(data.shape[1]):\n",
    "        for k in range(data.shape[2]):\n",
    "            if np.isnan(data[i,j,k]):\n",
    "                nan_.append(i)\n",
    "nan_ = np.array(nan_)\n",
    "nan_ = np.unique(nan_)\n",
    "data = np.delete(data,nan_,axis=0)\n",
    "target = np.delete(target,nan_,axis=0)"
   ]
  },
  {
   "cell_type": "code",
   "execution_count": 8,
   "metadata": {},
   "outputs": [],
   "source": [
    "#removes any entry with a zero in profitloss, GrossResult, assets or equity\n",
    "has_zero = []\n",
    "for i in range(data.shape[0]):\n",
    "    for j in range(data.shape[1]):\n",
    "        if data[i,j,0] == 0 or data[i,j,1] == 0 or data[i,j,2] == 0 or data[i,j,4] == 0:\n",
    "            has_zero.append(i)\n",
    "has_zero = np.unique(np.array(has_zero))\n",
    "data = np.delete(data,has_zero,axis=0)\n",
    "target = np.delete(target,has_zero,axis=0)"
   ]
  },
  {
   "cell_type": "code",
   "execution_count": 9,
   "metadata": {},
   "outputs": [],
   "source": [
    "# big_company_pos = []\n",
    "# medium_company_pos = []\n",
    "# small_company_pos = []\n",
    "# big_company_neg = []\n",
    "# medium_company_neg = []\n",
    "# small_company_neg = []\n",
    "\n",
    "# for i in range(data.shape[0]):\n",
    "#     if np.median(data[i,:,1]) < 0:\n",
    "#         if np.mean(data[i,:,2]) < 100000:\n",
    "#             small_company_neg.append(i)\n",
    "#         elif np.mean(data[i,:,2]) > 100000 and np.mean(data[i,:,2]) < 10000000:\n",
    "#             medium_company_neg.append(i)\n",
    "#         else:\n",
    "#             big_company_neg.append(i)\n",
    "#     else:\n",
    "#         if np.mean(data[i,:,2]) < 100000:\n",
    "#             small_company_pos.append(i)\n",
    "#         elif np.mean(data[i,:,2]) > 100000 and np.mean(data[i,:,2]) < 10000000:\n",
    "#             medium_company_pos.append(i)\n",
    "#         else:\n",
    "#             big_company_pos.append(i)\n",
    "\n",
    "# print(len(small_company_neg))\n",
    "# print(len(small_company_pos))\n",
    "# print(len(medium_company_neg))\n",
    "# print(len(medium_company_pos))\n",
    "# print(len(big_company_neg))\n",
    "# print(len(big_company_pos))"
   ]
  },
  {
   "cell_type": "code",
   "execution_count": 10,
   "metadata": {},
   "outputs": [
    {
     "name": "stdout",
     "output_type": "stream",
     "text": [
      "364\n",
      "9540\n",
      "2948\n"
     ]
    }
   ],
   "source": [
    "small_company = []\n",
    "medium_company = []\n",
    "big_company = []\n",
    "for i in range(data.shape[0]):\n",
    "    if np.mean(data[i,:,2]) < 100000:\n",
    "        small_company.append(i)\n",
    "    elif np.mean(data[i,:,2]) > 100000 and np.mean(data[i,:,2]) < 10000000:\n",
    "        medium_company.append(i)\n",
    "    else:\n",
    "        big_company.append(i)\n",
    "        \n",
    "print(len(small_company))        \n",
    "print(len(medium_company))\n",
    "print(len(big_company))"
   ]
  },
  {
   "cell_type": "code",
   "execution_count": 11,
   "metadata": {},
   "outputs": [],
   "source": [
    "data = data.astype(\"float\")\n",
    "target = target.astype(\"float\")"
   ]
  },
  {
   "cell_type": "code",
   "execution_count": 12,
   "metadata": {},
   "outputs": [],
   "source": [
    "# data = data[medium_company_pos]\n",
    "# target = target[medium_company_pos]\n",
    "# data_small = data[small_company]\n",
    "# target_small = target[small_company]\n",
    "data_medium = data[medium_company]\n",
    "target_medium = target[medium_company]"
   ]
  },
  {
   "cell_type": "code",
   "execution_count": 13,
   "metadata": {},
   "outputs": [],
   "source": [
    "# data = data[:,:,0:3]\n",
    "features = data.shape[2]"
   ]
  },
  {
   "cell_type": "code",
   "execution_count": 14,
   "metadata": {},
   "outputs": [],
   "source": [
    "data = torch.from_numpy(data).float()\n",
    "# data = data.permute(0,2,1) # Needed if using CNN\n",
    "target = torch.from_numpy(target).float()\n",
    "\n",
    "#target index\n",
    "target_index = 1\n",
    "\n",
    "train_idx,test_idx = train_test_split(np.arange(data.shape[0]),test_size=0.1)\n",
    "\n",
    "train_data = data[train_idx,:,:]\n",
    "train_target = target[train_idx,target_index] \n",
    "test_data = data[test_idx,:,:]\n",
    "test_target = target[test_idx,target_index]\n",
    "\n",
    "trainset = dataset(train_data,train_target)\n",
    "testset = dataset(test_data,test_target)"
   ]
  },
  {
   "cell_type": "code",
   "execution_count": 15,
   "metadata": {},
   "outputs": [],
   "source": [
    "# #for data_grouped.npy\n",
    "# zeros_ = np.zeros(6)\n",
    "# for i in range(6):\n",
    "#     temp = data[:,:,i].clone()\n",
    "#     zeros_[i] = temp[temp==0].shape[0]\n",
    "    \n",
    "# pct_zeros = zeros_/(data.shape[0]*3)\n",
    "# print('0:ProfitLoss, 1:GrossResult, 2:Assets,3:AverageNumberOfEmployees, 4:Equity, 5:AddressOfReportingEntityPostCodeIdentifier')\n",
    "# print(pct_zeros)"
   ]
  },
  {
   "cell_type": "code",
   "execution_count": 16,
   "metadata": {},
   "outputs": [],
   "source": [
    "batch_size=100\n",
    "\n",
    "train_loader = DataLoader(trainset, batch_size=batch_size, shuffle=True, num_workers=0)\n",
    "test_loader = DataLoader(testset, batch_size=batch_size, shuffle=False, num_workers=0)"
   ]
  },
  {
   "cell_type": "code",
   "execution_count": 17,
   "metadata": {},
   "outputs": [
    {
     "data": {
      "image/png": "[encoded data removed]",
      "text/plain": [
       "<Figure size 432x288 with 1 Axes>"
      ]
     },
     "metadata": {
      "needs_background": "light"
     },
     "output_type": "display_data"
    },
    {
     "data": {
      "image/png": "[encoded data removed]",
      "text/plain": [
       "<Figure size 432x288 with 1 Axes>"
      ]
     },
     "metadata": {
      "needs_background": "light"
     },
     "output_type": "display_data"
    }
   ],
   "source": [
    "temp = data.clone()\n",
    "temp = temp.view(temp.shape[0]*temp.shape[1],temp.shape[2])\n",
    "temp = temp.numpy()\n",
    "\n",
    "# #standardize data \n",
    "temp = temp-np.ones((temp.shape[0],1))*temp.mean(0)\n",
    "temp = temp*(1/np.std(temp,0))\n",
    "#compute covariance matrix\n",
    "S = np.cov(temp.T)\n",
    "\n",
    "#obtain eigen values and eigen vectors\n",
    "eigenValues, eigenVectors = eigh(S)\n",
    "idx_ord = np.argsort(eigenValues)[::-1]\n",
    "eigenValues = eigenValues[idx_ord]\n",
    "eigenVectors = eigenVectors[:,idx_ord]\n",
    "\n",
    "#plot cummulative variance explained    \n",
    "summ = eigenValues.sum()\n",
    "cumsum = 0\n",
    "total_var_explained = np.zeros(features)\n",
    "for i in range(features):    \n",
    "    cumsum = cumsum + eigenValues[i]\n",
    "    total_var_explained[i]=(cumsum/summ)\n",
    "    \n",
    "fig, ax = plt.subplots()\n",
    "ax.plot(total_var_explained,'-o')\n",
    "#ax.axhline(0.90,linestyle='--')\n",
    "plt.grid();\n",
    "#plt.xlim(-1,50)\n",
    "#plt.ylim(0,1)\n",
    "plt.title('Variance explained' )\n",
    "plt.ylabel('Cummulative sum')\n",
    "plt.xlabel('Principle components')\n",
    "# plt.savefig(\"variance_explained\")\n",
    "plt.show()\n",
    "\n",
    "M=features\n",
    "pcs = np.arange(features)\n",
    "#pcs = np.array([3,10])\n",
    "legendStrs = ['PC'+str(e+1) for e in pcs]\n",
    "c = ['r','g','b']\n",
    "bw = .15\n",
    "r = np.arange(1,M+1)\n",
    "for i in pcs:    \n",
    "   plt.bar(r+i*bw/2, eigenVectors[:,i], width=bw)\n",
    "plt.xticks(r+bw, np.arange(1,13))\n",
    "plt.xlabel('Attributes')\n",
    "plt.ylabel('Component coefficients')\n",
    "plt.legend(legendStrs,loc=1, bbox_to_anchor=(1.2,1))\n",
    "plt.grid()\n",
    "plt.title('PCA Component Coefficients')\n",
    "plt.show()"
   ]
  },
  {
   "cell_type": "code",
   "execution_count": 18,
   "metadata": {},
   "outputs": [],
   "source": [
    "# #Picking principle components to project the data into\n",
    "# eigenvectors1 = eigenVectors[:, 0]\n",
    "# eigenvectors2 = eigenVectors[:, 1]\n",
    "# eigenvectors3 = eigenVectors[:, 2]\n",
    "# eigenvectors4 = eigenVectors[:, 3]\n",
    "# eigenvectors = np.vstack((eigenvectors1,eigenvectors2,eigenvectors3,eigenvectors4)).T\n",
    "\n",
    "# ## now we have to project our vectors in this new base\n",
    "# transformed_data = temp @ eigenvectors\n",
    "\n",
    "# fig,ax = plt.subplots(3,1,figsize=(10,15))\n",
    "# ax[0].scatter(transformed_data[:, 0], transformed_data[:, 1])\n",
    "# ax[0].set_title('Data projection into 2D PC space')\n",
    "# ax[0].set_xlabel('Principle component 1')\n",
    "# ax[0].set_ylabel('Principle component 2')\n",
    "# ax[1].scatter(transformed_data[:, 0], transformed_data[:, 2])\n",
    "# ax[1].set_title('Data projection into 2D PC space')\n",
    "# ax[1].set_xlabel('Principle component 1')\n",
    "# ax[1].set_ylabel('Principle component 3')\n",
    "# ax[2].scatter(transformed_data[:, 0], transformed_data[:, 3])\n",
    "# ax[2].set_title('Data projection into 2D PC space')\n",
    "# ax[2].set_xlabel('Principle component 1')\n",
    "# ax[2].set_ylabel('Principle component 4')\n",
    "# #plt.rcParams.update({'figure.autolayout': True})\n",
    "# plt.show()"
   ]
  },
  {
   "cell_type": "code",
   "execution_count": 19,
   "metadata": {},
   "outputs": [],
   "source": [
    "class RecurrentNetSkip(nn.Module):\n",
    "    def __init__(self,years,p):\n",
    "        super(RecurrentNetSkip, self).__init__()\n",
    "        \n",
    "#         self.linearIn = nn.Sequential(nn.Linear(in_features=years,out_features=6),\n",
    "#                                       nn.ReLU(),\n",
    "#                                       nn.Linear(6,10)) \n",
    "        self.rnn = nn.GRU(input_size=features,\n",
    "                          hidden_size=10,\n",
    "                          num_layers=years,\n",
    "                          batch_first=True)\n",
    "        self.linearOut = nn.Sequential(nn.Linear(in_features=(10+features)*years,out_features=50),\n",
    "                                       nn.ReLU(),\n",
    "                                       nn.Dropout(p=p),\n",
    "                                       nn.Linear(50,20),\n",
    "                                       nn.ReLU(),\n",
    "                                       nn.Dropout(p=p),\n",
    "                                       nn.Linear(20,1)) #change to 2 for predicting normal distribution\n",
    "\n",
    "        \n",
    "    def forward(self, x): #x = [batch_size,years,6]\n",
    "        \n",
    "#         x1 = self.linearIn(x[:,0,:]) #[batch_size,6]\n",
    "#         x2 = self.linearIn(x[:,1,:]) #[batch_size,6]\n",
    "#         x3 = self.linearIn(x[:,2,:]) #[batch_size,6]\n",
    "#         x1 = x1.unsqueeze(1) #[batch_size,1,6]\n",
    "#         x2 = x2.unsqueeze(1) #[batch_size,1,6]\n",
    "#         x3 = x3.unsqueeze(1) #[batch_size,1,6]     \n",
    "#         temp = []\n",
    "#         temp.append(x1)\n",
    "#         temp.append(x2)\n",
    "#         temp.append(x3)\n",
    "#         z = torch.cat(temp,dim=1) #[batch_size,3,6]\n",
    "        \n",
    "#         y = torch.cat((z,x),dim=2) #[batch_size,3,12]\n",
    "                                            \n",
    "        y,_ = self.rnn(x) #[batch_size,years,50]\n",
    "        \n",
    "        x = torch.cat((x,y),dim=2) #[batch_size,years,50+3]\n",
    "        \n",
    "        x = x.reshape(x.shape[0],-1) #[batch_size,(50+3)*years]\n",
    "                       \n",
    "        x = self.linearOut(x) #[batch_size,1], [batch_size,2] if predicting normal distribution\n",
    "        x = x.view(-1)\n",
    "        return x\n"
   ]
  },
  {
   "cell_type": "code",
   "execution_count": 20,
   "metadata": {},
   "outputs": [],
   "source": [
    "class RecurrentNet(nn.Module):\n",
    "    def __init__(self,years,p):\n",
    "        super(RecurrentNet, self).__init__()\n",
    "        \n",
    "#         self.linearIn = nn.Sequential(nn.Linear(in_features=years,out_features=6),\n",
    "#                                       nn.ReLU(),\n",
    "#                                       nn.Linear(6,10)) \n",
    "        self.rnn = nn.GRU(input_size=features,\n",
    "                          hidden_size=10,\n",
    "                          num_layers=years,\n",
    "                          batch_first=True)\n",
    "        self.linearOut = nn.Sequential(nn.Linear(in_features=10*years,out_features=50),\n",
    "                                       nn.ReLU(),\n",
    "                                       nn.Dropout(p=p),\n",
    "                                       nn.Linear(50,20),\n",
    "                                       nn.ReLU(),\n",
    "                                       nn.Dropout(p=p),\n",
    "                                       nn.Linear(20,1)) #change to 2 for predicting normal distribution\n",
    "\n",
    "        \n",
    "    def forward(self, x): #x = [batch_size,years,3]\n",
    "#         x1 = self.linearIn(x[:,0,:]) #[batch_size,6]\n",
    "#         x2 = self.linearIn(x[:,1,:]) #[batch_size,6]\n",
    "#         x3 = self.linearIn(x[:,2,:]) #[batch_size,6]\n",
    "#         x1 = x1.unsqueeze(1) #[batch_size,1,6]\n",
    "#         x2 = x2.unsqueeze(1) #[batch_size,1,6]\n",
    "#         x3 = x3.unsqueeze(1) #[batch_size,1,6]     \n",
    "#         temp = []\n",
    "#         temp.append(x1)\n",
    "#         temp.append(x2)\n",
    "#         temp.append(x3)\n",
    "#         x = torch.cat(temp,dim=1) #[batch_size,3,6]\n",
    "                                            \n",
    "        x,_ = self.rnn(x) #[batch_size,years,50]\n",
    "        \n",
    "        x = x.reshape(x.shape[0],-1) #[batch_size,50*years]\n",
    "                       \n",
    "        x = self.linearOut(x) #[batch_size,1], [batch_size,2] if predicting normal distribution\n",
    "        x = x.view(-1)\n",
    "        return x\n"
   ]
  },
  {
   "cell_type": "code",
   "execution_count": 21,
   "metadata": {},
   "outputs": [],
   "source": [
    "class LinearNet(nn.Module):\n",
    "    def __init__(self,years,p):\n",
    "        super(LinearNet, self).__init__()\n",
    "        \n",
    "        self.linear = nn.Sequential(nn.Linear(in_features=features*years,out_features=40),\n",
    "                                   nn.ReLU(),\n",
    "                                   nn.Dropout(p=p),\n",
    "                                   nn.Linear(40,60),\n",
    "                                   nn.ReLU(),\n",
    "                                   nn.Dropout(p=p),\n",
    "                                   nn.Linear(60,20),\n",
    "                                   nn.ReLU(),\n",
    "                                   nn.Dropout(p=p),\n",
    "                                   nn.Linear(20,1))\n",
    "\n",
    "        \n",
    "    def forward(self, x): #x = [batch_size,3,3]\n",
    "        x = x.view(x.shape[0],-1)\n",
    "        x = self.linear(x)\n",
    "        x = x.view(-1)\n",
    "        return x\n"
   ]
  },
  {
   "cell_type": "code",
   "execution_count": 22,
   "metadata": {},
   "outputs": [],
   "source": [
    "def cost(mu,sigma,y):\n",
    "    sigma = torch.abs(sigma)\n",
    "    dist = torch.distributions.normal.Normal(mu, sigma)\n",
    "    return torch.mean(-dist.log_prob(y))\n",
    "\n",
    "def percent_loss(pred,target):\n",
    "    count_bad_pred = 0\n",
    "    temp = pred < torch.ones(pred.shape[0])*1000\n",
    "    temp2 = pred > torch.ones(pred.shape[0])*-1000\n",
    "    for i in range(pred.shape[0]):\n",
    "        if temp[i] == temp2[i]:\n",
    "            count_bad_pred += 1\n",
    "\n",
    "    return torch.sum(torch.abs(torch.abs(pred-target)/(target+1)))+count_bad_pred*10000"
   ]
  },
  {
   "cell_type": "code",
   "execution_count": 23,
   "metadata": {},
   "outputs": [],
   "source": [
    "model1 = LinearNet(years,0.15)\n",
    "model2 = RecurrentNet(years,0.15)\n",
    "model3 = RecurrentNetSkip(years,0.15)\n",
    "model1.to(device)\n",
    "model2.to(device)\n",
    "model3.to(device)\n",
    "lr = 1e-3\n",
    "optimizer1 = optim.Adam(model1.parameters(), lr=lr)\n",
    "optimizer2 = optim.Adam(model2.parameters(), lr=lr)\n",
    "optimizer3 = optim.Adam(model3.parameters(), lr=lr)\n",
    "\n",
    "critirion = nn.SmoothL1Loss()"
   ]
  },
  {
   "cell_type": "code",
   "execution_count": 24,
   "metadata": {},
   "outputs": [
    {
     "data": {
      "application/vnd.jupyter.widget-view+json": {
       "model_id": "495676f22b2943679407ec879c3c727b",
       "version_major": 2,
       "version_minor": 0
      },
      "text/plain": [
       "HBox(children=(IntProgress(value=0, max=50), HTML(value='')))"
      ]
     },
     "metadata": {},
     "output_type": "display_data"
    },
    {
     "data": {
      "application/vnd.jupyter.widget-view+json": {
       "model_id": "e6d63c9f19454150898119059076b400",
       "version_major": 2,
       "version_minor": 0
      },
      "text/plain": [
       "HBox(children=(IntProgress(value=0, max=116), HTML(value='')))"
      ]
     },
     "metadata": {},
     "output_type": "display_data"
    },
    {
     "name": "stdout",
     "output_type": "stream",
     "text": [
      "\n",
      "train error 1: 44879.8\t test error 1: 20819.4\n",
      " train error 2: 44054.3\t test error 2: 28924.4\n",
      " train error 3: 44868.9\t test error 3: 20074.4\n"
     ]
    },
    {
     "data": {
      "application/vnd.jupyter.widget-view+json": {
       "model_id": "e9636883445e421794444828f21fe5f1",
       "version_major": 2,
       "version_minor": 0
      },
      "text/plain": [
       "HBox(children=(IntProgress(value=0, max=116), HTML(value='')))"
      ]
     },
     "metadata": {},
     "output_type": "display_data"
    },
    {
     "name": "stdout",
     "output_type": "stream",
     "text": [
      "\n",
      "train error 1: 29888.6\t test error 1: 11051.0\n",
      " train error 2: 44046.9\t test error 2: 28922.9\n",
      " train error 3: 28464.0\t test error 3: 10575.0\n"
     ]
    },
    {
     "data": {
      "application/vnd.jupyter.widget-view+json": {
       "model_id": "b7817c5fd5e1463abbb293de87bcd5bf",
       "version_major": 2,
       "version_minor": 0
      },
      "text/plain": [
       "HBox(children=(IntProgress(value=0, max=116), HTML(value='')))"
      ]
     },
     "metadata": {},
     "output_type": "display_data"
    },
    {
     "name": "stdout",
     "output_type": "stream",
     "text": [
      "\n",
      "train error 1: 23661.7\t test error 1: 10749.1\n",
      " train error 2: 44036.7\t test error 2: 28915.2\n",
      " train error 3: 25236.2\t test error 3: 9982.1\n"
     ]
    },
    {
     "data": {
      "application/vnd.jupyter.widget-view+json": {
       "model_id": "5a8cf900b1b14d0aac63d2771402e9f5",
       "version_major": 2,
       "version_minor": 0
      },
      "text/plain": [
       "HBox(children=(IntProgress(value=0, max=116), HTML(value='')))"
      ]
     },
     "metadata": {},
     "output_type": "display_data"
    },
    {
     "name": "stdout",
     "output_type": "stream",
     "text": [
      "\n",
      "train error 1: 26347.3\t test error 1: 10672.1\n",
      " train error 2: 44036.6\t test error 2: 28899.3\n",
      " train error 3: 25372.6\t test error 3: 10668.9\n"
     ]
    },
    {
     "data": {
      "application/vnd.jupyter.widget-view+json": {
       "model_id": "9ea45c5123784a85b20d2bc4e58616ca",
       "version_major": 2,
       "version_minor": 0
      },
      "text/plain": [
       "HBox(children=(IntProgress(value=0, max=116), HTML(value='')))"
      ]
     },
     "metadata": {},
     "output_type": "display_data"
    },
    {
     "name": "stdout",
     "output_type": "stream",
     "text": [
      "\n",
      "train error 1: 24696.0\t test error 1: 10800.8\n",
      " train error 2: 44066.8\t test error 2: 28879.8\n",
      " train error 3: 25497.1\t test error 3: 9629.6\n"
     ]
    },
    {
     "data": {
      "application/vnd.jupyter.widget-view+json": {
       "model_id": "5f6f3ee8ed2440729e390e449fabe4b7",
       "version_major": 2,
       "version_minor": 0
      },
      "text/plain": [
       "HBox(children=(IntProgress(value=0, max=116), HTML(value='')))"
      ]
     },
     "metadata": {},
     "output_type": "display_data"
    },
    {
     "name": "stdout",
     "output_type": "stream",
     "text": [
      "\n",
      "train error 1: 21347.7\t test error 1: 9913.7\n",
      " train error 2: 44038.8\t test error 2: 28863.0\n",
      " train error 3: 21151.6\t test error 3: 9463.5\n"
     ]
    },
    {
     "data": {
      "application/vnd.jupyter.widget-view+json": {
       "model_id": "0c2c32b5dedc4d449b6cf74bfbd4b0a2",
       "version_major": 2,
       "version_minor": 0
      },
      "text/plain": [
       "HBox(children=(IntProgress(value=0, max=116), HTML(value='')))"
      ]
     },
     "metadata": {},
     "output_type": "display_data"
    },
    {
     "name": "stdout",
     "output_type": "stream",
     "text": [
      "\n",
      "train error 1: 20570.1\t test error 1: 10479.9\n",
      " train error 2: 44025.8\t test error 2: 28832.0\n",
      " train error 3: 22698.9\t test error 3: 9035.1\n"
     ]
    },
    {
     "data": {
      "application/vnd.jupyter.widget-view+json": {
       "model_id": "e4b7b4d792a04a25b800af0cd1cdbb97",
       "version_major": 2,
       "version_minor": 0
      },
      "text/plain": [
       "HBox(children=(IntProgress(value=0, max=116), HTML(value='')))"
      ]
     },
     "metadata": {},
     "output_type": "display_data"
    },
    {
     "name": "stdout",
     "output_type": "stream",
     "text": [
      "\n",
      "train error 1: 20988.4\t test error 1: 10056.5\n",
      " train error 2: 43939.9\t test error 2: 28809.9\n",
      " train error 3: 19931.3\t test error 3: 9116.9\n"
     ]
    },
    {
     "data": {
      "application/vnd.jupyter.widget-view+json": {
       "model_id": "149f6bf2d12244b88112713b8257a8a8",
       "version_major": 2,
       "version_minor": 0
      },
      "text/plain": [
       "HBox(children=(IntProgress(value=0, max=116), HTML(value='')))"
      ]
     },
     "metadata": {},
     "output_type": "display_data"
    },
    {
     "name": "stdout",
     "output_type": "stream",
     "text": [
      "\n",
      "train error 1: 21758.7\t test error 1: 14592.2\n",
      " train error 2: 43911.9\t test error 2: 28769.1\n",
      " train error 3: 19181.4\t test error 3: 8770.4\n"
     ]
    },
    {
     "data": {
      "application/vnd.jupyter.widget-view+json": {
       "model_id": "ef147bfcd0a64cedbe2be84ce377131b",
       "version_major": 2,
       "version_minor": 0
      },
      "text/plain": [
       "HBox(children=(IntProgress(value=0, max=116), HTML(value='')))"
      ]
     },
     "metadata": {},
     "output_type": "display_data"
    },
    {
     "name": "stdout",
     "output_type": "stream",
     "text": [
      "\n",
      "train error 1: 20317.7\t test error 1: 10042.5\n",
      " train error 2: 43892.0\t test error 2: 28715.3\n",
      " train error 3: 19517.0\t test error 3: 12200.1\n"
     ]
    },
    {
     "data": {
      "application/vnd.jupyter.widget-view+json": {
       "model_id": "1c07fed2d81e4a75acc3d153ad2cc72f",
       "version_major": 2,
       "version_minor": 0
      },
      "text/plain": [
       "HBox(children=(IntProgress(value=0, max=116), HTML(value='')))"
      ]
     },
     "metadata": {},
     "output_type": "display_data"
    },
    {
     "name": "stdout",
     "output_type": "stream",
     "text": [
      "\n",
      "train error 1: 20625.3\t test error 1: 10747.4\n",
      " train error 2: 43781.8\t test error 2: 28662.4\n",
      " train error 3: 19902.3\t test error 3: 11569.5\n"
     ]
    },
    {
     "data": {
      "application/vnd.jupyter.widget-view+json": {
       "model_id": "cff511c1de0a40028e28e3444b5a4f74",
       "version_major": 2,
       "version_minor": 0
      },
      "text/plain": [
       "HBox(children=(IntProgress(value=0, max=116), HTML(value='')))"
      ]
     },
     "metadata": {},
     "output_type": "display_data"
    },
    {
     "name": "stdout",
     "output_type": "stream",
     "text": [
      "\n",
      "train error 1: 19688.9\t test error 1: 9081.8\n",
      " train error 2: 43695.6\t test error 2: 28598.0\n",
      " train error 3: 18669.2\t test error 3: 9138.3\n"
     ]
    },
    {
     "data": {
      "application/vnd.jupyter.widget-view+json": {
       "model_id": "cc9384931cfe43929cc3046b99a03239",
       "version_major": 2,
       "version_minor": 0
      },
      "text/plain": [
       "HBox(children=(IntProgress(value=0, max=116), HTML(value='')))"
      ]
     },
     "metadata": {},
     "output_type": "display_data"
    },
    {
     "name": "stdout",
     "output_type": "stream",
     "text": [
      "\n",
      "train error 1: 19274.7\t test error 1: 9162.8\n",
      " train error 2: 43693.8\t test error 2: 28528.6\n",
      " train error 3: 19013.0\t test error 3: 9147.3\n"
     ]
    },
    {
     "data": {
      "application/vnd.jupyter.widget-view+json": {
       "model_id": "3e39a37a478441b6b1d647a3c07f508b",
       "version_major": 2,
       "version_minor": 0
      },
      "text/plain": [
       "HBox(children=(IntProgress(value=0, max=116), HTML(value='')))"
      ]
     },
     "metadata": {},
     "output_type": "display_data"
    },
    {
     "name": "stdout",
     "output_type": "stream",
     "text": [
      "\n",
      "train error 1: 20425.8\t test error 1: 11976.0\n",
      " train error 2: 43548.9\t test error 2: 28459.1\n",
      " train error 3: 20343.5\t test error 3: 8254.7\n"
     ]
    },
    {
     "data": {
      "application/vnd.jupyter.widget-view+json": {
       "model_id": "f217d71b884d4c538535878ad707dfb9",
       "version_major": 2,
       "version_minor": 0
      },
      "text/plain": [
       "HBox(children=(IntProgress(value=0, max=116), HTML(value='')))"
      ]
     },
     "metadata": {},
     "output_type": "display_data"
    },
    {
     "name": "stdout",
     "output_type": "stream",
     "text": [
      "\n",
      "train error 1: 21174.1\t test error 1: 9724.7\n",
      " train error 2: 43519.4\t test error 2: 28392.2\n",
      " train error 3: 18092.4\t test error 3: 9028.1\n"
     ]
    },
    {
     "data": {
      "application/vnd.jupyter.widget-view+json": {
       "model_id": "a89f0f98fc284f8b84265c727b2d8ad0",
       "version_major": 2,
       "version_minor": 0
      },
      "text/plain": [
       "HBox(children=(IntProgress(value=0, max=116), HTML(value='')))"
      ]
     },
     "metadata": {},
     "output_type": "display_data"
    },
    {
     "name": "stdout",
     "output_type": "stream",
     "text": [
      "\n",
      "train error 1: 18806.7\t test error 1: 9200.3\n",
      " train error 2: 43364.1\t test error 2: 28272.8\n",
      " train error 3: 18835.8\t test error 3: 8742.0\n"
     ]
    },
    {
     "data": {
      "application/vnd.jupyter.widget-view+json": {
       "model_id": "387b4b04668e4f03b1613e57232b7ce3",
       "version_major": 2,
       "version_minor": 0
      },
      "text/plain": [
       "HBox(children=(IntProgress(value=0, max=116), HTML(value='')))"
      ]
     },
     "metadata": {},
     "output_type": "display_data"
    },
    {
     "name": "stdout",
     "output_type": "stream",
     "text": [
      "\n",
      "train error 1: 18938.4\t test error 1: 9047.6\n",
      " train error 2: 43398.1\t test error 2: 28190.5\n",
      " train error 3: 18777.4\t test error 3: 8151.8\n"
     ]
    },
    {
     "data": {
      "application/vnd.jupyter.widget-view+json": {
       "model_id": "dde4d777eed14c788f97d2f42c5adf4c",
       "version_major": 2,
       "version_minor": 0
      },
      "text/plain": [
       "HBox(children=(IntProgress(value=0, max=116), HTML(value='')))"
      ]
     },
     "metadata": {},
     "output_type": "display_data"
    },
    {
     "name": "stdout",
     "output_type": "stream",
     "text": [
      "\n",
      "train error 1: 20047.4\t test error 1: 9212.6\n",
      " train error 2: 43159.0\t test error 2: 28060.5\n",
      " train error 3: 18970.7\t test error 3: 7837.9\n"
     ]
    },
    {
     "data": {
      "application/vnd.jupyter.widget-view+json": {
       "model_id": "6c1313c415bc49588eac9998f5671b2d",
       "version_major": 2,
       "version_minor": 0
      },
      "text/plain": [
       "HBox(children=(IntProgress(value=0, max=116), HTML(value='')))"
      ]
     },
     "metadata": {},
     "output_type": "display_data"
    },
    {
     "name": "stdout",
     "output_type": "stream",
     "text": [
      "\n",
      "train error 1: 18067.9\t test error 1: 9160.2\n",
      " train error 2: 43233.1\t test error 2: 27956.6\n",
      " train error 3: 18163.6\t test error 3: 8068.6\n"
     ]
    },
    {
     "data": {
      "application/vnd.jupyter.widget-view+json": {
       "model_id": "1037de3ff2e34a7983a19b13ec2280ae",
       "version_major": 2,
       "version_minor": 0
      },
      "text/plain": [
       "HBox(children=(IntProgress(value=0, max=116), HTML(value='')))"
      ]
     },
     "metadata": {},
     "output_type": "display_data"
    },
    {
     "name": "stdout",
     "output_type": "stream",
     "text": [
      "\n",
      "train error 1: 19819.8\t test error 1: 10392.4\n",
      " train error 2: 42960.9\t test error 2: 27858.3\n",
      " train error 3: 17846.2\t test error 3: 7935.8\n"
     ]
    },
    {
     "data": {
      "application/vnd.jupyter.widget-view+json": {
       "model_id": "ff75d8087c89452cbb70fb500418684b",
       "version_major": 2,
       "version_minor": 0
      },
      "text/plain": [
       "HBox(children=(IntProgress(value=0, max=116), HTML(value='')))"
      ]
     },
     "metadata": {},
     "output_type": "display_data"
    },
    {
     "name": "stdout",
     "output_type": "stream",
     "text": [
      "\n",
      "train error 1: 18992.3\t test error 1: 10442.8\n",
      " train error 2: 42811.7\t test error 2: 27839.8\n",
      " train error 3: 17795.5\t test error 3: 7859.6\n"
     ]
    },
    {
     "data": {
      "application/vnd.jupyter.widget-view+json": {
       "model_id": "afcc4bff0dd24ef9a50c9f7caf432d90",
       "version_major": 2,
       "version_minor": 0
      },
      "text/plain": [
       "HBox(children=(IntProgress(value=0, max=116), HTML(value='')))"
      ]
     },
     "metadata": {},
     "output_type": "display_data"
    },
    {
     "name": "stdout",
     "output_type": "stream",
     "text": [
      "\n",
      "train error 1: 19005.6\t test error 1: 11163.2\n",
      " train error 2: 42729.2\t test error 2: 27690.1\n",
      " train error 3: 19078.5\t test error 3: 8693.8\n"
     ]
    },
    {
     "data": {
      "application/vnd.jupyter.widget-view+json": {
       "model_id": "1ec0f7bcdcaf475c9a0d7469417bd3e9",
       "version_major": 2,
       "version_minor": 0
      },
      "text/plain": [
       "HBox(children=(IntProgress(value=0, max=116), HTML(value='')))"
      ]
     },
     "metadata": {},
     "output_type": "display_data"
    },
    {
     "name": "stdout",
     "output_type": "stream",
     "text": [
      "\n",
      "train error 1: 19618.8\t test error 1: 9418.1\n",
      " train error 2: 42641.8\t test error 2: 27688.7\n",
      " train error 3: 17836.3\t test error 3: 7894.2\n"
     ]
    },
    {
     "data": {
      "application/vnd.jupyter.widget-view+json": {
       "model_id": "2ac26ecb625f405ba981a4342d5cd0b5",
       "version_major": 2,
       "version_minor": 0
      },
      "text/plain": [
       "HBox(children=(IntProgress(value=0, max=116), HTML(value='')))"
      ]
     },
     "metadata": {},
     "output_type": "display_data"
    },
    {
     "name": "stdout",
     "output_type": "stream",
     "text": [
      "\n",
      "train error 1: 18458.2\t test error 1: 8874.0\n",
      " train error 2: 42535.7\t test error 2: 27619.1\n",
      " train error 3: 16630.8\t test error 3: 8506.0\n"
     ]
    },
    {
     "data": {
      "application/vnd.jupyter.widget-view+json": {
       "model_id": "ca95011df59f4a909ad2ce78863d13ca",
       "version_major": 2,
       "version_minor": 0
      },
      "text/plain": [
       "HBox(children=(IntProgress(value=0, max=116), HTML(value='')))"
      ]
     },
     "metadata": {},
     "output_type": "display_data"
    },
    {
     "name": "stdout",
     "output_type": "stream",
     "text": [
      "\n",
      "train error 1: 18392.4\t test error 1: 8974.0\n",
      " train error 2: 42495.8\t test error 2: 27513.1\n",
      " train error 3: 18047.3\t test error 3: 7544.4\n"
     ]
    },
    {
     "data": {
      "application/vnd.jupyter.widget-view+json": {
       "model_id": "2a1cf0623933460ebad5e71329c009dd",
       "version_major": 2,
       "version_minor": 0
      },
      "text/plain": [
       "HBox(children=(IntProgress(value=0, max=116), HTML(value='')))"
      ]
     },
     "metadata": {},
     "output_type": "display_data"
    },
    {
     "name": "stdout",
     "output_type": "stream",
     "text": [
      "\n",
      "train error 1: 17610.4\t test error 1: 8532.9\n",
      " train error 2: 42386.6\t test error 2: 27441.7\n",
      " train error 3: 19593.2\t test error 3: 7883.4\n"
     ]
    },
    {
     "data": {
      "application/vnd.jupyter.widget-view+json": {
       "model_id": "f9ce0ab054a649a693616189cd535c89",
       "version_major": 2,
       "version_minor": 0
      },
      "text/plain": [
       "HBox(children=(IntProgress(value=0, max=116), HTML(value='')))"
      ]
     },
     "metadata": {},
     "output_type": "display_data"
    },
    {
     "name": "stdout",
     "output_type": "stream",
     "text": [
      "\n",
      "train error 1: 20015.7\t test error 1: 9176.0\n",
      " train error 2: 42295.1\t test error 2: 27364.7\n",
      " train error 3: 17684.0\t test error 3: 7625.1\n"
     ]
    },
    {
     "data": {
      "application/vnd.jupyter.widget-view+json": {
       "model_id": "1feccd5fe57144f4b1d21b056e85e7a3",
       "version_major": 2,
       "version_minor": 0
      },
      "text/plain": [
       "HBox(children=(IntProgress(value=0, max=116), HTML(value='')))"
      ]
     },
     "metadata": {},
     "output_type": "display_data"
    },
    {
     "name": "stdout",
     "output_type": "stream",
     "text": [
      "\n",
      "train error 1: 18417.5\t test error 1: 8338.7\n",
      " train error 2: 42245.7\t test error 2: 27319.2\n",
      " train error 3: 18120.3\t test error 3: 7326.2\n"
     ]
    },
    {
     "data": {
      "application/vnd.jupyter.widget-view+json": {
       "model_id": "387e68ad2d7a4bb0be61e0b2ff1e69a3",
       "version_major": 2,
       "version_minor": 0
      },
      "text/plain": [
       "HBox(children=(IntProgress(value=0, max=116), HTML(value='')))"
      ]
     },
     "metadata": {},
     "output_type": "display_data"
    },
    {
     "name": "stdout",
     "output_type": "stream",
     "text": [
      "\n",
      "train error 1: 18871.2\t test error 1: 8969.0\n",
      " train error 2: 42125.8\t test error 2: 27241.5\n",
      " train error 3: 17671.2\t test error 3: 7844.8\n"
     ]
    },
    {
     "data": {
      "application/vnd.jupyter.widget-view+json": {
       "model_id": "9eedc2120c2645a69de22126f9b468e7",
       "version_major": 2,
       "version_minor": 0
      },
      "text/plain": [
       "HBox(children=(IntProgress(value=0, max=116), HTML(value='')))"
      ]
     },
     "metadata": {},
     "output_type": "display_data"
    },
    {
     "name": "stdout",
     "output_type": "stream",
     "text": [
      "\n",
      "train error 1: 18696.5\t test error 1: 8461.6\n",
      " train error 2: 42122.1\t test error 2: 27182.8\n",
      " train error 3: 18434.2\t test error 3: 7854.4\n"
     ]
    },
    {
     "data": {
      "application/vnd.jupyter.widget-view+json": {
       "model_id": "d4e70f692b6e4516b66eb2f61e40a05c",
       "version_major": 2,
       "version_minor": 0
      },
      "text/plain": [
       "HBox(children=(IntProgress(value=0, max=116), HTML(value='')))"
      ]
     },
     "metadata": {},
     "output_type": "display_data"
    },
    {
     "name": "stdout",
     "output_type": "stream",
     "text": [
      "\n",
      "train error 1: 17899.3\t test error 1: 8852.4\n",
      " train error 2: 42071.0\t test error 2: 27150.1\n",
      " train error 3: 17525.9\t test error 3: 8162.2\n"
     ]
    },
    {
     "data": {
      "application/vnd.jupyter.widget-view+json": {
       "model_id": "35199d01cfc34184bddd727ca55425c1",
       "version_major": 2,
       "version_minor": 0
      },
      "text/plain": [
       "HBox(children=(IntProgress(value=0, max=116), HTML(value='')))"
      ]
     },
     "metadata": {},
     "output_type": "display_data"
    },
    {
     "name": "stdout",
     "output_type": "stream",
     "text": [
      "\n",
      "train error 1: 17177.0\t test error 1: 11044.4\n",
      " train error 2: 41960.7\t test error 2: 27095.1\n",
      " train error 3: 17053.6\t test error 3: 10800.9\n"
     ]
    },
    {
     "data": {
      "application/vnd.jupyter.widget-view+json": {
       "model_id": "5b5c34ccccfb4ec9bc3f054aefd585af",
       "version_major": 2,
       "version_minor": 0
      },
      "text/plain": [
       "HBox(children=(IntProgress(value=0, max=116), HTML(value='')))"
      ]
     },
     "metadata": {},
     "output_type": "display_data"
    },
    {
     "name": "stdout",
     "output_type": "stream",
     "text": [
      "\n",
      "train error 1: 16850.8\t test error 1: 10978.3\n",
      " train error 2: 42514.2\t test error 2: 27053.7\n",
      " train error 3: 17833.5\t test error 3: 9038.6\n"
     ]
    },
    {
     "data": {
      "application/vnd.jupyter.widget-view+json": {
       "model_id": "0cef0d45348e42d196bcd77f62a9b31f",
       "version_major": 2,
       "version_minor": 0
      },
      "text/plain": [
       "HBox(children=(IntProgress(value=0, max=116), HTML(value='')))"
      ]
     },
     "metadata": {},
     "output_type": "display_data"
    },
    {
     "name": "stdout",
     "output_type": "stream",
     "text": [
      "\n",
      "train error 1: 20987.7\t test error 1: 9140.5\n",
      " train error 2: 41817.3\t test error 2: 27036.2\n",
      " train error 3: 17099.5\t test error 3: 8194.5\n"
     ]
    },
    {
     "data": {
      "application/vnd.jupyter.widget-view+json": {
       "model_id": "bd89cc40058a451a9ed9d146bd0a2e3e",
       "version_major": 2,
       "version_minor": 0
      },
      "text/plain": [
       "HBox(children=(IntProgress(value=0, max=116), HTML(value='')))"
      ]
     },
     "metadata": {},
     "output_type": "display_data"
    },
    {
     "name": "stdout",
     "output_type": "stream",
     "text": [
      "\n",
      "train error 1: 18994.9\t test error 1: 9321.9\n",
      " train error 2: 41745.4\t test error 2: 26985.3\n",
      " train error 3: 17144.1\t test error 3: 7919.3\n"
     ]
    },
    {
     "data": {
      "application/vnd.jupyter.widget-view+json": {
       "model_id": "4384a1f775df4eeabdfbe6c7d1adea01",
       "version_major": 2,
       "version_minor": 0
      },
      "text/plain": [
       "HBox(children=(IntProgress(value=0, max=116), HTML(value='')))"
      ]
     },
     "metadata": {},
     "output_type": "display_data"
    },
    {
     "name": "stdout",
     "output_type": "stream",
     "text": [
      "\n",
      "train error 1: 18459.8\t test error 1: 10240.7\n",
      " train error 2: 41682.6\t test error 2: 26969.4\n",
      " train error 3: 17738.5\t test error 3: 9287.2\n"
     ]
    },
    {
     "data": {
      "application/vnd.jupyter.widget-view+json": {
       "model_id": "1ae2a0579bec4d1f96910bf7710dc4c4",
       "version_major": 2,
       "version_minor": 0
      },
      "text/plain": [
       "HBox(children=(IntProgress(value=0, max=116), HTML(value='')))"
      ]
     },
     "metadata": {},
     "output_type": "display_data"
    },
    {
     "name": "stdout",
     "output_type": "stream",
     "text": [
      "\n",
      "train error 1: 18549.7\t test error 1: 9335.2\n",
      " train error 2: 41646.6\t test error 2: 26940.5\n",
      " train error 3: 17464.0\t test error 3: 9030.1\n"
     ]
    },
    {
     "data": {
      "application/vnd.jupyter.widget-view+json": {
       "model_id": "9a3c35dd21a6489f80098a4ed1f73528",
       "version_major": 2,
       "version_minor": 0
      },
      "text/plain": [
       "HBox(children=(IntProgress(value=0, max=116), HTML(value='')))"
      ]
     },
     "metadata": {},
     "output_type": "display_data"
    },
    {
     "name": "stdout",
     "output_type": "stream",
     "text": [
      "\n",
      "train error 1: 19890.0\t test error 1: 8117.9\n",
      " train error 2: 41743.7\t test error 2: 26924.9\n",
      " train error 3: 17816.8\t test error 3: 7430.4\n"
     ]
    },
    {
     "data": {
      "application/vnd.jupyter.widget-view+json": {
       "model_id": "30fbab7ebeee4be983072e3d93f96632",
       "version_major": 2,
       "version_minor": 0
      },
      "text/plain": [
       "HBox(children=(IntProgress(value=0, max=116), HTML(value='')))"
      ]
     },
     "metadata": {},
     "output_type": "display_data"
    },
    {
     "name": "stdout",
     "output_type": "stream",
     "text": [
      "\n",
      "train error 1: 18443.9\t test error 1: 9120.0\n",
      " train error 2: 41613.9\t test error 2: 26897.0\n",
      " train error 3: 17439.2\t test error 3: 8054.1\n"
     ]
    },
    {
     "data": {
      "application/vnd.jupyter.widget-view+json": {
       "model_id": "7b37aff413bb49d69dc2e276a6d02e4c",
       "version_major": 2,
       "version_minor": 0
      },
      "text/plain": [
       "HBox(children=(IntProgress(value=0, max=116), HTML(value='')))"
      ]
     },
     "metadata": {},
     "output_type": "display_data"
    },
    {
     "name": "stdout",
     "output_type": "stream",
     "text": [
      "\n",
      "train error 1: 19034.6\t test error 1: 9162.9\n",
      " train error 2: 41610.3\t test error 2: 26923.3\n",
      " train error 3: 17347.0\t test error 3: 7225.4\n"
     ]
    },
    {
     "data": {
      "application/vnd.jupyter.widget-view+json": {
       "model_id": "114672ad3e294555acb4ba2cc78312fd",
       "version_major": 2,
       "version_minor": 0
      },
      "text/plain": [
       "HBox(children=(IntProgress(value=0, max=116), HTML(value='')))"
      ]
     },
     "metadata": {},
     "output_type": "display_data"
    },
    {
     "name": "stdout",
     "output_type": "stream",
     "text": [
      "\n",
      "train error 1: 17300.7\t test error 1: 8597.0\n",
      " train error 2: 41645.8\t test error 2: 26909.0\n",
      " train error 3: 17058.8\t test error 3: 7985.2\n"
     ]
    },
    {
     "data": {
      "application/vnd.jupyter.widget-view+json": {
       "model_id": "4009ac202afb4ce3a65a02b882e04c0f",
       "version_major": 2,
       "version_minor": 0
      },
      "text/plain": [
       "HBox(children=(IntProgress(value=0, max=116), HTML(value='')))"
      ]
     },
     "metadata": {},
     "output_type": "display_data"
    },
    {
     "name": "stdout",
     "output_type": "stream",
     "text": [
      "\n",
      "train error 1: 18030.1\t test error 1: 8944.9\n",
      " train error 2: 41518.4\t test error 2: 26873.9\n",
      " train error 3: 17721.1\t test error 3: 7316.1\n"
     ]
    },
    {
     "data": {
      "application/vnd.jupyter.widget-view+json": {
       "model_id": "85b1f399601b4bc5b8e6a3088d513450",
       "version_major": 2,
       "version_minor": 0
      },
      "text/plain": [
       "HBox(children=(IntProgress(value=0, max=116), HTML(value='')))"
      ]
     },
     "metadata": {},
     "output_type": "display_data"
    },
    {
     "name": "stdout",
     "output_type": "stream",
     "text": [
      "\n",
      "train error 1: 18220.9\t test error 1: 9601.5\n",
      " train error 2: 41482.3\t test error 2: 26872.9\n",
      " train error 3: 16609.7\t test error 3: 7630.6\n"
     ]
    },
    {
     "data": {
      "application/vnd.jupyter.widget-view+json": {
       "model_id": "29b80eba28e6423fbc22c25934ae5c0b",
       "version_major": 2,
       "version_minor": 0
      },
      "text/plain": [
       "HBox(children=(IntProgress(value=0, max=116), HTML(value='')))"
      ]
     },
     "metadata": {},
     "output_type": "display_data"
    },
    {
     "name": "stdout",
     "output_type": "stream",
     "text": [
      "\n",
      "train error 1: 18892.3\t test error 1: 8140.8\n",
      " train error 2: 41434.0\t test error 2: 26889.9\n",
      " train error 3: 16289.5\t test error 3: 7586.7\n"
     ]
    },
    {
     "data": {
      "application/vnd.jupyter.widget-view+json": {
       "model_id": "6c0a109a284c46439f7f5008250aaa8f",
       "version_major": 2,
       "version_minor": 0
      },
      "text/plain": [
       "HBox(children=(IntProgress(value=0, max=116), HTML(value='')))"
      ]
     },
     "metadata": {},
     "output_type": "display_data"
    },
    {
     "name": "stdout",
     "output_type": "stream",
     "text": [
      "\n",
      "train error 1: 18054.3\t test error 1: 7697.0\n",
      " train error 2: 41460.0\t test error 2: 26846.5\n",
      " train error 3: 17303.1\t test error 3: 7225.1\n"
     ]
    },
    {
     "data": {
      "application/vnd.jupyter.widget-view+json": {
       "model_id": "66b5360792984a12add48332abe86e30",
       "version_major": 2,
       "version_minor": 0
      },
      "text/plain": [
       "HBox(children=(IntProgress(value=0, max=116), HTML(value='')))"
      ]
     },
     "metadata": {},
     "output_type": "display_data"
    },
    {
     "name": "stdout",
     "output_type": "stream",
     "text": [
      "\n",
      "train error 1: 17587.0\t test error 1: 7901.3\n",
      " train error 2: 41376.0\t test error 2: 26841.5\n",
      " train error 3: 16491.3\t test error 3: 8151.7\n"
     ]
    },
    {
     "data": {
      "application/vnd.jupyter.widget-view+json": {
       "model_id": "a2627199a2444397a865f1ad3827d0d0",
       "version_major": 2,
       "version_minor": 0
      },
      "text/plain": [
       "HBox(children=(IntProgress(value=0, max=116), HTML(value='')))"
      ]
     },
     "metadata": {},
     "output_type": "display_data"
    },
    {
     "name": "stdout",
     "output_type": "stream",
     "text": [
      "\n",
      "train error 1: 17456.1\t test error 1: 8323.7\n",
      " train error 2: 41396.6\t test error 2: 26785.5\n",
      " train error 3: 17413.5\t test error 3: 8187.9\n"
     ]
    },
    {
     "data": {
      "application/vnd.jupyter.widget-view+json": {
       "model_id": "cfbb4c00ccd64cc69e629c33c748079b",
       "version_major": 2,
       "version_minor": 0
      },
      "text/plain": [
       "HBox(children=(IntProgress(value=0, max=116), HTML(value='')))"
      ]
     },
     "metadata": {},
     "output_type": "display_data"
    },
    {
     "name": "stdout",
     "output_type": "stream",
     "text": [
      "\n",
      "train error 1: 17858.9\t test error 1: 7928.8\n",
      " train error 2: 41375.2\t test error 2: 26810.1\n",
      " train error 3: 17313.6\t test error 3: 7474.7\n"
     ]
    },
    {
     "data": {
      "application/vnd.jupyter.widget-view+json": {
       "model_id": "307722457e2a46f69e2773f8d09bbf60",
       "version_major": 2,
       "version_minor": 0
      },
      "text/plain": [
       "HBox(children=(IntProgress(value=0, max=116), HTML(value='')))"
      ]
     },
     "metadata": {},
     "output_type": "display_data"
    },
    {
     "name": "stdout",
     "output_type": "stream",
     "text": [
      "\n",
      "train error 1: 18194.2\t test error 1: 8091.1\n",
      " train error 2: 41391.0\t test error 2: 26782.6\n",
      " train error 3: 16308.1\t test error 3: 7782.9\n"
     ]
    },
    {
     "data": {
      "application/vnd.jupyter.widget-view+json": {
       "model_id": "a065863195944e7391649962881410a7",
       "version_major": 2,
       "version_minor": 0
      },
      "text/plain": [
       "HBox(children=(IntProgress(value=0, max=116), HTML(value='')))"
      ]
     },
     "metadata": {},
     "output_type": "display_data"
    },
    {
     "name": "stdout",
     "output_type": "stream",
     "text": [
      "\n",
      "train error 1: 19307.2\t test error 1: 8789.2\n",
      " train error 2: 41342.3\t test error 2: 26776.8\n",
      " train error 3: 16224.6\t test error 3: 8072.5\n",
      "\n"
     ]
    }
   ],
   "source": [
    "#Training loop\n",
    "num_epochs = 50\n",
    "train_loss1 = []\n",
    "test_loss1 = []\n",
    "train_loss2 = []\n",
    "test_loss2 = []\n",
    "train_loss3 = []\n",
    "test_loss3 = []\n",
    "\n",
    "for epoch in tqdm(range(num_epochs), unit='epoch'):\n",
    "    #For each epoch\n",
    "    train_error1 = 0\n",
    "    train_error2 = 0\n",
    "    train_error3 = 0\n",
    "    model1.train()\n",
    "    model2.train()\n",
    "    model3.train()\n",
    "    for minibatch_no, (data, target) in tqdm(enumerate(train_loader), total=len(train_loader)):\n",
    "        data, target = data.to(device), target.to(device)\n",
    "        #Zero the gradients computed for each weight\n",
    "        optimizer1.zero_grad()\n",
    "        optimizer2.zero_grad()\n",
    "        optimizer3.zero_grad()\n",
    "        #Forward pass your image through the network\n",
    "        output1 = model1(data)\n",
    "        output2 = model2(data)\n",
    "        output3 = model3(data)\n",
    "        #Compute the loss\n",
    "#         loss1 = percent_loss(output1,target)\n",
    "#         loss2 = percent_loss(output2,target)\n",
    "#         loss3 = percent_loss(output3,target)\n",
    "        loss1 = critirion(output1,target)\n",
    "        loss2 = critirion(output2,target)\n",
    "        loss3 = critirion(output3,target)\n",
    "\n",
    "        #Backward pass through the network\n",
    "        loss1.backward()\n",
    "        loss2.backward()\n",
    "        loss3.backward()\n",
    "        #Update the weights\n",
    "        optimizer1.step()\n",
    "        optimizer2.step()\n",
    "        optimizer3.step()\n",
    "        train_error1 += loss1\n",
    "        train_error2 += loss2\n",
    "        train_error3 += loss3\n",
    "        \n",
    "        \n",
    "    #Comput the test accuracy\n",
    "    model1.eval()\n",
    "    model2.eval()\n",
    "    model3.eval()\n",
    "    test_error1 = 0\n",
    "    test_error2 = 0\n",
    "    test_error3 = 0\n",
    "    for data, target in test_loader:\n",
    "        data, target = data.to(device), target.to(device)\n",
    "        with torch.no_grad():\n",
    "            output1 = model1(data)\n",
    "            output2 = model2(data)\n",
    "            output3 = model3(data)\n",
    "#         test_error1 += percent_loss(output1,target)\n",
    "#         test_error2 += percent_loss(output2,target)\n",
    "#         test_error3 += percent_loss(output3,target)\n",
    "        test_error1 += critirion(output1,target)\n",
    "        test_error2 += critirion(output2,target)\n",
    "        test_error3 += critirion(output3,target)\n",
    "        \n",
    "    train_err1 = train_error1/len(trainset)\n",
    "    train_loss1.append(train_err1)\n",
    "    test_err1 = test_error1/len(testset)\n",
    "    test_loss1.append(test_err1)\n",
    "    train_err2 = train_error2/len(trainset)\n",
    "    train_loss2.append(train_err2)\n",
    "    test_err2 = test_error2/len(testset)\n",
    "    test_loss2.append(test_err2)\n",
    "    train_err3 = train_error3/len(trainset)\n",
    "    train_loss3.append(train_err3)\n",
    "    test_err3 = test_error3/len(testset)\n",
    "    test_loss3.append(test_err3)\n",
    "    print(\"train error 1: {train1:.1f}\\t test error 1: {test1:.1f}\\n train error 2: {train2:.1f}\\t test error 2: {test2:.1f}\\n train error 3: {train3:.1f}\\t test error 3: {test3:.1f}\".format(test1=test_err1, test2=test_err2, test3=test_err3, train1=train_err1, train2=train_err2, train3=train_err3))\n",
    "#     print(\"train error 1: {train1:.1f}\\t test error 1: {test1:.1f}\".format(test1=test_err1,train1=train_err1))"
   ]
  },
  {
   "cell_type": "code",
   "execution_count": 25,
   "metadata": {},
   "outputs": [
    {
     "name": "stdout",
     "output_type": "stream",
     "text": [
      "tensor([ 0.0000e+00, -3.2540e+03, -1.0125e+04,  1.1619e+06,  5.4599e+05,\n",
      "         6.9281e+06,  1.3573e+05,  4.4713e+07, -3.8750e+03, -1.6035e+04],\n",
      "       device='cuda:0')\n",
      "tensor([ 3.6924e+04, -4.7214e+00, -4.7214e+00,  1.1874e+06,  9.0168e+05,\n",
      "         3.8988e+06,  4.2377e+05,  3.0522e+07, -4.7214e+00, -4.7214e+00],\n",
      "       device='cuda:0', grad_fn=<ViewBackward>)\n"
     ]
    }
   ],
   "source": [
    "print(target[:10])\n",
    "temp =model1(data[:10])\n",
    "print(temp)"
   ]
  },
  {
   "cell_type": "code",
   "execution_count": 26,
   "metadata": {},
   "outputs": [
    {
     "data": {
      "application/vnd.jupyter.widget-view+json": {
       "model_id": "23b959af7d384d068dc31bea913cf799",
       "version_major": 2,
       "version_minor": 0
      },
      "text/plain": [
       "HBox(children=(IntProgress(value=0, max=116), HTML(value='')))"
      ]
     },
     "metadata": {},
     "output_type": "display_data"
    },
    {
     "name": "stdout",
     "output_type": "stream",
     "text": [
      "\n",
      "baseline error: 43746.0\n"
     ]
    }
   ],
   "source": [
    "#predicts the average over the last 3 years\n",
    "baseline_loss = 0\n",
    "for minibatch_no, (data, target) in tqdm(enumerate(train_loader), total=len(train_loader)):  \n",
    "    y_pred = data[:,:,0].mean(1)\n",
    "#     y_pred = data.mean(1)\n",
    "    loss = critirion(y_pred,target)\n",
    "#     loss = percent_loss(y_pred,target)\n",
    "    baseline_loss += loss.numpy()\n",
    "baseline_loss /= len(trainset)\n",
    "print(\"baseline error: {error:.1f}\".format(error =baseline_loss))"
   ]
  },
  {
   "cell_type": "code",
   "execution_count": 27,
   "metadata": {},
   "outputs": [
    {
     "data": {
      "image/png": "[encoded data removed]",
      "text/plain": [
       "<Figure size 432x288 with 1 Axes>"
      ]
     },
     "metadata": {
      "needs_background": "light"
     },
     "output_type": "display_data"
    }
   ],
   "source": [
    "plt.plot(train_loss1)\n",
    "plt.plot(test_loss1)\n",
    "plt.plot(np.ones(num_epochs)*baseline_loss)\n",
    "plt.legend([\"train loss\",\"test loss\",\"baseline\"])\n",
    "plt.title(\"Loss for linear network on medium companies\")\n",
    "plt.xlabel(\"epochs\")\n",
    "plt.ylabel(\"Average loss [DKK]\")\n",
    "plt.savefig(\"../images/linear_loss_{}_features_{}_years\".format(features,years))\n",
    "plt.show()"
   ]
  },
  {
   "cell_type": "code",
   "execution_count": 28,
   "metadata": {},
   "outputs": [
    {
     "data": {
      "image/png": "[encoded data removed]",
      "text/plain": [
       "<Figure size 432x288 with 1 Axes>"
      ]
     },
     "metadata": {
      "needs_background": "light"
     },
     "output_type": "display_data"
    }
   ],
   "source": [
    "plt.plot(train_loss2)\n",
    "plt.plot(test_loss2)\n",
    "plt.plot(np.ones(num_epochs)*baseline_loss)\n",
    "plt.legend([\"train loss\",\"test loss\",\"baseline\"])\n",
    "plt.title(\"Loss for recurrent network on medium companies\")\n",
    "plt.xlabel(\"epochs\")\n",
    "plt.ylabel(\"Average loss [DKK]\")\n",
    "plt.savefig(\"../images/recurrent_loss_{}_features_{}_years\".format(features,years))\n",
    "plt.show()"
   ]
  },
  {
   "cell_type": "code",
   "execution_count": 29,
   "metadata": {},
   "outputs": [
    {
     "data": {
      "image/png": "[encoded data removed]",
      "text/plain": [
       "<Figure size 432x288 with 1 Axes>"
      ]
     },
     "metadata": {
      "needs_background": "light"
     },
     "output_type": "display_data"
    }
   ],
   "source": [
    "plt.plot(train_loss3)\n",
    "plt.plot(test_loss3)\n",
    "plt.plot(np.ones(num_epochs)*baseline_loss)\n",
    "plt.legend([\"train loss\",\"test loss\",\"baseline\"])\n",
    "plt.title(\"Loss for recurrent network with skip-connections on medium companies\")\n",
    "plt.xlabel(\"epochs\")\n",
    "plt.ylabel(\"Average loss [DKK]\")\n",
    "plt.savefig(\"../images/recurrentskip_loss_{}_features_{}_years\".format(features,years))\n",
    "plt.show()"
   ]
  },
  {
   "cell_type": "code",
   "execution_count": 30,
   "metadata": {},
   "outputs": [],
   "source": [
    "torch.save(model1.state_dict(),\"linear_network_{}_features_{}_years\".format(features,years))\n",
    "torch.save(model2.state_dict(),\"recurrent_network_{}_features_{}_years\".format(features,years))\n",
    "torch.save(model3.state_dict(),\"recurrent_skip_network_{}_features_{}_years\".format(features,years))"
   ]
  }
 ],
 "metadata": {
  "kernelspec": {
   "display_name": "Python 3",
   "language": "python",
   "name": "python3"
  },
  "language_info": {
   "codemirror_mode": {
    "name": "ipython",
    "version": 3
   },
   "file_extension": ".py",
   "mimetype": "text/x-python",
   "name": "python",
   "nbconvert_exporter": "python",
   "pygments_lexer": "ipython3",
   "version": "3.6.9"
  }
 },
 "nbformat": 4,
 "nbformat_minor": 2
}
