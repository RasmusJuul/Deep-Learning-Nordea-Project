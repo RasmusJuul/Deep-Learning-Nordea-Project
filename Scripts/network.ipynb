{
 "cells": [
  {
   "cell_type": "code",
   "execution_count": 1,
   "metadata": {},
   "outputs": [],
   "source": [
    "import numpy as np\n",
    "import pandas as pd\n",
    "import matplotlib.pyplot as plt\n",
    "import os\n",
    "import torch\n",
    "from torch.autograd import Variable\n",
    "import torch.nn as nn\n",
    "import torch.optim as optim\n",
    "# from torchsummary import summary\n",
    "from torch.utils.data import DataLoader\n",
    "from torch.utils.data import Dataset\n",
    "from tqdm.notebook import tqdm\n",
    "from sklearn.model_selection import train_test_split\n",
    "from scipy.linalg import eigh\n",
    "from sklearn.preprocessing import normalize"
   ]
  },
  {
   "cell_type": "code",
   "execution_count": 2,
   "metadata": {},
   "outputs": [
    {
     "name": "stdout",
     "output_type": "stream",
     "text": [
      "The code will run on GPU. This is important so things run faster.\n"
     ]
    }
   ],
   "source": [
    "if torch.cuda.is_available():\n",
    "    print(\"The code will run on GPU. This is important so things run faster.\")\n",
    "else:\n",
    "    print(\"The code will run on CPU. You should probably not do this.\")\n",
    "device = torch.device('cuda' if torch.cuda.is_available() else 'cpu')"
   ]
  },
  {
   "cell_type": "code",
   "execution_count": 3,
   "metadata": {},
   "outputs": [],
   "source": [
    "class dataset:\n",
    "    def __init__(self,data,target):\n",
    "        self.data = data\n",
    "        self.target = target\n",
    "    \n",
    "    def __len__(self):\n",
    "        return len(self.data)\n",
    "    \n",
    "    def __getitem__(self,idx):\n",
    "        if torch.is_tensor(idx):\n",
    "            idx = idx.tolist()\n",
    "        X = self.data[idx]\n",
    "        y = self.target[idx]\n",
    "        \n",
    "        return X,y"
   ]
  },
  {
   "cell_type": "markdown",
   "metadata": {},
   "source": [
    "For data.npy\n",
    "\n",
    "0:ProfitLoss, 1:GrossResult, 2:GrossProfitLoss, 3:Revenue, 4:Assets, 5:AverageNumberOfEmployees, 6:CurrentAssets, 7:Equity, 8:Inventories, 9:AddressOfReportingEntityPostCodeIdentifier\n",
    "\n",
    "For data_grouped.npy\n",
    "\n",
    "0:ProfitLoss, 1:GrossResult, 2:Assets,3:AverageNumberOfEmployees, 4:Equity, 5:AddressOfReportingEntityPostCodeIdentifier"
   ]
  },
  {
   "cell_type": "code",
   "execution_count": 4,
   "metadata": {},
   "outputs": [],
   "source": [
    "data = np.load('data_grouped.npy',allow_pickle=True)\n",
    "target = np.load('target_grouped.npy',allow_pickle=True)"
   ]
  },
  {
   "cell_type": "code",
   "execution_count": 5,
   "metadata": {},
   "outputs": [],
   "source": [
    "#for data_grouped.npy\n",
    "data = data[:,:,2:] \n",
    "target = target[:,2:]\n",
    "for i in range(data.shape[0]):\n",
    "    for j in range(data.shape[1]):\n",
    "        try:\n",
    "            data[i,j,5] = int(str(data[i,j,5])[0])\n",
    "        except:\n",
    "            data[i,j,5] = 0\n",
    "for i in range(target.shape[0]):\n",
    "    try:\n",
    "        target[i,5] = int(str(target[i,5])[0])\n",
    "    except:\n",
    "        target[i,5] = 0"
   ]
  },
  {
   "cell_type": "code",
   "execution_count": 6,
   "metadata": {},
   "outputs": [],
   "source": [
    "# index_of_string = []\n",
    "# for i in range(data.shape[0]):\n",
    "#     for j in range(data.shape[1]):\n",
    "#         for k in range(data.shape[2]):\n",
    "#             try:\n",
    "#                 float(data[i,j,k])\n",
    "#             except:\n",
    "#                 index_of_string.append((i,j,k))\n",
    "# index_of_string"
   ]
  },
  {
   "cell_type": "code",
   "execution_count": 7,
   "metadata": {},
   "outputs": [],
   "source": [
    "data = np.delete(data,[52343,52344],axis=0)\n",
    "target = np.delete(target,[52343,52344],axis=0)"
   ]
  },
  {
   "cell_type": "code",
   "execution_count": 8,
   "metadata": {},
   "outputs": [],
   "source": [
    "#remove nan\n",
    "nan_ = []\n",
    "for i in range(data.shape[0]):\n",
    "    for j in range(data.shape[1]):\n",
    "        for k in range(data.shape[2]):\n",
    "            if np.isnan(data[i,j,k]):\n",
    "                nan_.append(i)\n",
    "nan_ = np.array(nan_)\n",
    "nan_ = np.unique(nan_)\n",
    "data = np.delete(data,nan_,axis=0)\n",
    "target = np.delete(target,nan_,axis=0)"
   ]
  },
  {
   "cell_type": "code",
   "execution_count": 9,
   "metadata": {},
   "outputs": [],
   "source": [
    "#removes any entry with a zero in profitloss, GrossResult, assets or equity\n",
    "has_zero = []\n",
    "for i in range(data.shape[0]):\n",
    "    for j in range(data.shape[1]):\n",
    "        if data[i,j,0] == 0 or data[i,j,1] == 0 or data[i,j,2] == 0 or data[i,j,4] == 0:\n",
    "            has_zero.append(i)\n",
    "has_zero = np.unique(np.array(has_zero))\n",
    "data = np.delete(data,has_zero,axis=0)\n",
    "target = np.delete(target,has_zero,axis=0)"
   ]
  },
  {
   "cell_type": "code",
   "execution_count": 10,
   "metadata": {},
   "outputs": [],
   "source": [
    "data = data.astype(\"float\")\n",
    "target = target.astype(\"float\")"
   ]
  },
  {
   "cell_type": "code",
   "execution_count": 11,
   "metadata": {},
   "outputs": [],
   "source": [
    "data = torch.from_numpy(data).float()\n",
    "# data = data.permute(0,2,1) # Needed if using CNN\n",
    "target = torch.from_numpy(target).float()\n",
    "\n",
    "train_idx,test_idx = train_test_split(np.arange(data.shape[0]),test_size=0.1)\n",
    "\n",
    "train_data = data[train_idx,:,0]\n",
    "train_target = target[train_idx,0] \n",
    "test_data = data[test_idx,:,0]\n",
    "test_target = target[test_idx,0]\n",
    "\n",
    "trainset = dataset(train_data,train_target)\n",
    "testset = dataset(test_data,test_target)"
   ]
  },
  {
   "cell_type": "code",
   "execution_count": 12,
   "metadata": {},
   "outputs": [
    {
     "name": "stdout",
     "output_type": "stream",
     "text": [
      "0:ProfitLoss, 1:GrossResult, 2:Assets,3:AverageNumberOfEmployees, 4:Equity, 5:AddressOfReportingEntityPostCodeIdentifier\n",
      "[0.         0.         0.         0.90784825 0.         0.23495961]\n"
     ]
    }
   ],
   "source": [
    "#for data_grouped.npy\n",
    "zeros_ = np.zeros(6)\n",
    "for i in range(6):\n",
    "    temp = data[:,:,i].clone()\n",
    "    zeros_[i] = temp[temp==0].shape[0]\n",
    "    \n",
    "pct_zeros = zeros_/(data.shape[0]*3)\n",
    "print('0:ProfitLoss, 1:GrossResult, 2:Assets,3:AverageNumberOfEmployees, 4:Equity, 5:AddressOfReportingEntityPostCodeIdentifier')\n",
    "print(pct_zeros)"
   ]
  },
  {
   "cell_type": "code",
   "execution_count": 13,
   "metadata": {},
   "outputs": [],
   "source": [
    "batch_size=100\n",
    "\n",
    "train_loader = DataLoader(trainset, batch_size=batch_size, shuffle=True, num_workers=0)\n",
    "test_loader = DataLoader(testset, batch_size=batch_size, shuffle=False, num_workers=0)"
   ]
  },
  {
   "cell_type": "code",
   "execution_count": 14,
   "metadata": {},
   "outputs": [
    {
     "data": {
      "image/png": "[encoded data removed]",
      "text/plain": [
       "<Figure size 432x288 with 1 Axes>"
      ]
     },
     "metadata": {
      "needs_background": "light"
     },
     "output_type": "display_data"
    },
    {
     "data": {
      "image/png": "[encoded data removed]",
      "text/plain": [
       "<Figure size 432x288 with 1 Axes>"
      ]
     },
     "metadata": {
      "needs_background": "light"
     },
     "output_type": "display_data"
    }
   ],
   "source": [
    "temp = data.clone()\n",
    "temp = temp.view(temp.shape[0]*temp.shape[1],temp.shape[2])\n",
    "temp = temp.numpy()\n",
    "\n",
    "# #standardize data \n",
    "temp = temp-np.ones((temp.shape[0],1))*temp.mean(0)\n",
    "temp = temp*(1/np.std(temp,0))\n",
    "#compute covariance matrix\n",
    "S = np.cov(temp.T)\n",
    "\n",
    "#obtain eigen values and eigen vectors\n",
    "eigenValues, eigenVectors = eigh(S)\n",
    "idx_ord = np.argsort(eigenValues)[::-1]\n",
    "eigenValues = eigenValues[idx_ord]\n",
    "eigenVectors = eigenVectors[:,idx_ord]\n",
    "\n",
    "#plot cummulative variance explained    \n",
    "summ = eigenValues.sum()\n",
    "cumsum = 0\n",
    "total_var_explained = np.zeros(6)\n",
    "for i in range(6):    \n",
    "    cumsum = cumsum + eigenValues[i]\n",
    "    total_var_explained[i]=(cumsum/summ)\n",
    "    \n",
    "fig, ax = plt.subplots()\n",
    "ax.plot(total_var_explained,'-o')\n",
    "#ax.axhline(0.90,linestyle='--')\n",
    "plt.grid();\n",
    "#plt.xlim(-1,50)\n",
    "#plt.ylim(0,1)\n",
    "plt.title('Variance explained' )\n",
    "plt.ylabel('Cummulative sum')\n",
    "plt.xlabel('Principle components')\n",
    "# plt.savefig(\"variance_explained\")\n",
    "plt.show()\n",
    "\n",
    "M=6\n",
    "pcs = np.arange(6)\n",
    "#pcs = np.array([3,10])\n",
    "legendStrs = ['PC'+str(e+1) for e in pcs]\n",
    "c = ['r','g','b']\n",
    "bw = .15\n",
    "r = np.arange(1,M+1)\n",
    "for i in pcs:    \n",
    "   plt.bar(r+i*bw/2, eigenVectors[:,i], width=bw)\n",
    "plt.xticks(r+bw, np.arange(1,13))\n",
    "plt.xlabel('Attributes')\n",
    "plt.ylabel('Component coefficients')\n",
    "plt.legend(legendStrs,loc=1, bbox_to_anchor=(1.2,1))\n",
    "plt.grid()\n",
    "plt.title('PCA Component Coefficients')\n",
    "plt.show()"
   ]
  },
  {
   "cell_type": "code",
   "execution_count": 15,
   "metadata": {},
   "outputs": [],
   "source": [
    "# #Picking principle components to project the data into\n",
    "# eigenvectors1 = eigenVectors[:, 0]\n",
    "# eigenvectors2 = eigenVectors[:, 1]\n",
    "# eigenvectors3 = eigenVectors[:, 2]\n",
    "# eigenvectors4 = eigenVectors[:, 3]\n",
    "# eigenvectors = np.vstack((eigenvectors1,eigenvectors2,eigenvectors3,eigenvectors4)).T\n",
    "\n",
    "# ## now we have to project our vectors in this new base\n",
    "# transformed_data = temp @ eigenvectors\n",
    "\n",
    "# fig,ax = plt.subplots(3,1,figsize=(10,15))\n",
    "# ax[0].scatter(transformed_data[:, 0], transformed_data[:, 1])\n",
    "# ax[0].set_title('Data projection into 2D PC space')\n",
    "# ax[0].set_xlabel('Principle component 1')\n",
    "# ax[0].set_ylabel('Principle component 2')\n",
    "# ax[1].scatter(transformed_data[:, 0], transformed_data[:, 2])\n",
    "# ax[1].set_title('Data projection into 2D PC space')\n",
    "# ax[1].set_xlabel('Principle component 1')\n",
    "# ax[1].set_ylabel('Principle component 3')\n",
    "# ax[2].scatter(transformed_data[:, 0], transformed_data[:, 3])\n",
    "# ax[2].set_title('Data projection into 2D PC space')\n",
    "# ax[2].set_xlabel('Principle component 1')\n",
    "# ax[2].set_ylabel('Principle component 4')\n",
    "# #plt.rcParams.update({'figure.autolayout': True})\n",
    "# plt.show()"
   ]
  },
  {
   "cell_type": "code",
   "execution_count": 16,
   "metadata": {},
   "outputs": [],
   "source": [
    "class RecurrentNet(nn.Module):\n",
    "    def __init__(self):\n",
    "        super(RecurrentNet, self).__init__()\n",
    "        \n",
    "        self.linearIn = nn.Sequential(nn.Linear(in_features=6,out_features=6),\n",
    "                                      nn.ReLU(),\n",
    "                                      nn.Linear(6,6)) \n",
    "        self.rnn = nn.LSTM(input_size=12,\n",
    "                          hidden_size=50,\n",
    "                          num_layers=2,\n",
    "                          batch_first=True)\n",
    "        self.linearOut = nn.Sequential(nn.Linear(in_features=186,out_features=140),\n",
    "                                       nn.BatchNorm1d(140),\n",
    "                                       nn.ReLU(),\n",
    "                                       nn.Dropout(),\n",
    "                                       nn.Linear(140,70),\n",
    "                                       nn.ReLU(),\n",
    "                                       nn.Dropout(),\n",
    "                                       nn.Linear(70,35),\n",
    "                                       nn.ReLU(),\n",
    "                                       nn.Dropout(),\n",
    "                                       nn.Linear(35,20),\n",
    "                                       nn.ReLU(),\n",
    "                                       nn.Dropout(),\n",
    "                                       nn.Linear(20,1)) #change to 2 for predicting normal distribution\n",
    "\n",
    "        \n",
    "    def forward(self, x): #x = [batch_size,3,6]\n",
    "        x1 = self.linearIn(x[:,0,:]) #[batch_size,6]\n",
    "        x2 = self.linearIn(x[:,1,:]) #[batch_size,6]\n",
    "        x3 = self.linearIn(x[:,2,:]) #[batch_size,6]\n",
    "        x1 = x1.unsqueeze(1) #[batch_size,1,6]\n",
    "        x2 = x2.unsqueeze(1) #[batch_size,1,6]\n",
    "        x3 = x3.unsqueeze(1) #[batch_size,1,6]     \n",
    "        temp = []\n",
    "        temp.append(x1)\n",
    "        temp.append(x2)\n",
    "        temp.append(x3)\n",
    "        z = torch.cat(temp,dim=1) #[batch_size,3,6]\n",
    "        \n",
    "        y = torch.cat((z,x),dim=2) #[batch_size,3,12]\n",
    "                                            \n",
    "        y,_ = self.rnn(y) #[batch_size,3,50]\n",
    "        \n",
    "        x = torch.cat((x,y,z),dim=2) #[batch_size,3,62]\n",
    "        \n",
    "        x = x.reshape(x.shape[0],-1) #[batch_size,186]\n",
    "                       \n",
    "        x = self.linearOut(x) #[batch_size,1], [batch_size,2] if predicting normal distribution\n",
    "        x = x.view(-1)\n",
    "        return x\n"
   ]
  },
  {
   "cell_type": "code",
   "execution_count": 40,
   "metadata": {},
   "outputs": [],
   "source": [
    "class LinearNet(nn.Module):\n",
    "    def __init__(self):\n",
    "        super(LinearNet, self).__init__()\n",
    "        \n",
    "        self.linear = nn.Sequential(nn.Linear(in_features=3,out_features=10),\n",
    "                                      nn.ReLU(),\n",
    "                                      nn.Dropout(p=0.25),\n",
    "                                      nn.Linear(10,20),\n",
    "                                      nn.ReLU(),\n",
    "                                      nn.Dropout(p=0.25),\n",
    "                                      nn.Linear(20,10),\n",
    "                                      nn.ReLU(),\n",
    "                                      nn.Dropout(p=0.25),\n",
    "                                      nn.Linear(10,5),\n",
    "                                      nn.ReLU(),\n",
    "                                      nn.Dropout(p=0.25),\n",
    "                                      nn.Linear(5,1))\n",
    "\n",
    "        \n",
    "    def forward(self, x): #x = [batch_size,3,1]\n",
    "        x = x.view(x.shape[0],-1)\n",
    "        x = self.linear(x)\n",
    "        x = x.view(-1)\n",
    "        return x\n"
   ]
  },
  {
   "cell_type": "code",
   "execution_count": 41,
   "metadata": {},
   "outputs": [],
   "source": [
    "class ConvNet(nn.Module):\n",
    "    def __init__(self):\n",
    "        super(ConvNet, self).__init__()\n",
    "        \n",
    "        self.conv = nn.Sequential(nn.BatchNorm1d(10),\n",
    "                                  nn.Conv1d(in_channels=10,out_channels=20,kernel_size=3,padding=1),\n",
    "                                  nn.ReLU(),\n",
    "                                  nn.BatchNorm1d(20),\n",
    "                                  nn.Conv1d(20,40,kernel_size=3,padding=1),\n",
    "                                  nn.ReLU(),\n",
    "                                  nn.BatchNorm1d(40),\n",
    "                                  nn.Conv1d(40,80,kernel_size=3,padding=1),\n",
    "                                  nn.ReLU(),\n",
    "                                  nn.BatchNorm1d(80),\n",
    "                                  nn.Conv1d(80,160,kernel_size=3,padding=1),\n",
    "                                  nn.ReLU(),\n",
    "                                  nn.Conv1d(160,320,kernel_size=3,padding=0))\n",
    "        \n",
    "        self.linear = nn.Sequential(nn.Linear(in_features=320,out_features=160),\n",
    "                                    nn.ReLU(),\n",
    "                                    nn.Dropout(),\n",
    "                                    nn.Linear(160,80),\n",
    "                                    nn.ReLU(),\n",
    "                                    nn.Dropout(),\n",
    "                                    nn.Linear(80,40),\n",
    "                                    nn.ReLU(),\n",
    "                                    nn.Dropout(),\n",
    "                                    nn.Linear(40,20),\n",
    "                                    nn.ReLU(),\n",
    "                                    nn.Dropout(),\n",
    "                                    nn.Linear(20,1))\n",
    "                                  \n",
    "        \n",
    "    def forward(self, x): #x = [batch_size,features,3]\n",
    "        x = self.conv(x) #[batch_size,160,1]\n",
    "        x = x.view(x.shape[0],-1) #[batch_size,160]\n",
    "        x = self.linear(x) #[batch_size,1]\n",
    "        \n",
    "        x = x.view(-1) #When prediction one value\n",
    "        return x"
   ]
  },
  {
   "cell_type": "code",
   "execution_count": 42,
   "metadata": {},
   "outputs": [],
   "source": [
    "def cost(mu,sigma,y):\n",
    "    sigma = torch.abs(sigma)\n",
    "    dist = torch.distributions.normal.Normal(mu, sigma)\n",
    "    return torch.mean(-dist.log_prob(y))"
   ]
  },
  {
   "cell_type": "code",
   "execution_count": 49,
   "metadata": {},
   "outputs": [],
   "source": [
    "# model = ConvNet()\n",
    "model = LinearNet()\n",
    "# model = RecurrentNet()\n",
    "model.to(device)\n",
    "lr = 1e-3\n",
    "optimizer = optim.Adam(model.parameters(), lr=lr)\n",
    "critirion = nn.L1Loss()"
   ]
  },
  {
   "cell_type": "code",
   "execution_count": 50,
   "metadata": {},
   "outputs": [
    {
     "data": {
      "application/vnd.jupyter.widget-view+json": {
       "model_id": "9651a2c647d645f5accf0677576d807f",
       "version_major": 2,
       "version_minor": 0
      },
      "text/plain": [
       "HBox(children=(IntProgress(value=0, max=20), HTML(value='')))"
      ]
     },
     "metadata": {},
     "output_type": "display_data"
    },
    {
     "data": {
      "application/vnd.jupyter.widget-view+json": {
       "model_id": "33945bf0b41242dc8caaf48bb7787398",
       "version_major": 2,
       "version_minor": 0
      },
      "text/plain": [
       "HBox(children=(IntProgress(value=0, max=253), HTML(value='')))"
      ]
     },
     "metadata": {},
     "output_type": "display_data"
    },
    {
     "name": "stdout",
     "output_type": "stream",
     "text": [
      "\n",
      "train error: 23875.9\t test error: 20234.4\n"
     ]
    },
    {
     "data": {
      "application/vnd.jupyter.widget-view+json": {
       "model_id": "833c21b2d94949049fe6481fa4301f48",
       "version_major": 2,
       "version_minor": 0
      },
      "text/plain": [
       "HBox(children=(IntProgress(value=0, max=253), HTML(value='')))"
      ]
     },
     "metadata": {},
     "output_type": "display_data"
    },
    {
     "name": "stdout",
     "output_type": "stream",
     "text": [
      "\n",
      "train error: 20908.8\t test error: 18156.3\n"
     ]
    },
    {
     "data": {
      "application/vnd.jupyter.widget-view+json": {
       "model_id": "a60868ecef5048c894ed6909a2ea5c39",
       "version_major": 2,
       "version_minor": 0
      },
      "text/plain": [
       "HBox(children=(IntProgress(value=0, max=253), HTML(value='')))"
      ]
     },
     "metadata": {},
     "output_type": "display_data"
    },
    {
     "name": "stdout",
     "output_type": "stream",
     "text": [
      "\n",
      "train error: 20863.9\t test error: 16825.1\n"
     ]
    },
    {
     "data": {
      "application/vnd.jupyter.widget-view+json": {
       "model_id": "57e8c4ab2adf4d38887598f9b0aaa788",
       "version_major": 2,
       "version_minor": 0
      },
      "text/plain": [
       "HBox(children=(IntProgress(value=0, max=253), HTML(value='')))"
      ]
     },
     "metadata": {},
     "output_type": "display_data"
    },
    {
     "name": "stdout",
     "output_type": "stream",
     "text": [
      "\n",
      "train error: 21444.3\t test error: 17465.5\n"
     ]
    },
    {
     "data": {
      "application/vnd.jupyter.widget-view+json": {
       "model_id": "b0631ac88cb44f66a862b34e3eb232b5",
       "version_major": 2,
       "version_minor": 0
      },
      "text/plain": [
       "HBox(children=(IntProgress(value=0, max=253), HTML(value='')))"
      ]
     },
     "metadata": {},
     "output_type": "display_data"
    },
    {
     "name": "stdout",
     "output_type": "stream",
     "text": [
      "\n",
      "train error: 19991.7\t test error: 17192.3\n"
     ]
    },
    {
     "data": {
      "application/vnd.jupyter.widget-view+json": {
       "model_id": "820ce63c79a041c6906e6ff944ac666c",
       "version_major": 2,
       "version_minor": 0
      },
      "text/plain": [
       "HBox(children=(IntProgress(value=0, max=253), HTML(value='')))"
      ]
     },
     "metadata": {},
     "output_type": "display_data"
    },
    {
     "name": "stdout",
     "output_type": "stream",
     "text": [
      "\n",
      "train error: 20154.0\t test error: 16677.1\n"
     ]
    },
    {
     "data": {
      "application/vnd.jupyter.widget-view+json": {
       "model_id": "54891424124042e180aad590b2c94438",
       "version_major": 2,
       "version_minor": 0
      },
      "text/plain": [
       "HBox(children=(IntProgress(value=0, max=253), HTML(value='')))"
      ]
     },
     "metadata": {},
     "output_type": "display_data"
    },
    {
     "name": "stdout",
     "output_type": "stream",
     "text": [
      "\n",
      "train error: 20539.6\t test error: 17800.0\n"
     ]
    },
    {
     "data": {
      "application/vnd.jupyter.widget-view+json": {
       "model_id": "9822e2475d4849ee99f563671911f25a",
       "version_major": 2,
       "version_minor": 0
      },
      "text/plain": [
       "HBox(children=(IntProgress(value=0, max=253), HTML(value='')))"
      ]
     },
     "metadata": {},
     "output_type": "display_data"
    },
    {
     "name": "stdout",
     "output_type": "stream",
     "text": [
      "\n",
      "train error: 20906.9\t test error: 16762.8\n"
     ]
    },
    {
     "data": {
      "application/vnd.jupyter.widget-view+json": {
       "model_id": "4f35425b0557418b8a7a5a62689d796e",
       "version_major": 2,
       "version_minor": 0
      },
      "text/plain": [
       "HBox(children=(IntProgress(value=0, max=253), HTML(value='')))"
      ]
     },
     "metadata": {},
     "output_type": "display_data"
    },
    {
     "name": "stdout",
     "output_type": "stream",
     "text": [
      "\n",
      "train error: 21228.1\t test error: 15934.6\n"
     ]
    },
    {
     "data": {
      "application/vnd.jupyter.widget-view+json": {
       "model_id": "841fb14acdd442868200da4fe8fa1b61",
       "version_major": 2,
       "version_minor": 0
      },
      "text/plain": [
       "HBox(children=(IntProgress(value=0, max=253), HTML(value='')))"
      ]
     },
     "metadata": {},
     "output_type": "display_data"
    },
    {
     "name": "stdout",
     "output_type": "stream",
     "text": [
      "\n",
      "train error: 20491.1\t test error: 16593.7\n"
     ]
    },
    {
     "data": {
      "application/vnd.jupyter.widget-view+json": {
       "model_id": "58b4140bf12c42bb989f9345fbfd6e1d",
       "version_major": 2,
       "version_minor": 0
      },
      "text/plain": [
       "HBox(children=(IntProgress(value=0, max=253), HTML(value='')))"
      ]
     },
     "metadata": {},
     "output_type": "display_data"
    },
    {
     "name": "stdout",
     "output_type": "stream",
     "text": [
      "\n",
      "train error: 19967.5\t test error: 16418.4\n"
     ]
    },
    {
     "data": {
      "application/vnd.jupyter.widget-view+json": {
       "model_id": "437323fb9fa94214b68ad0fea45b621e",
       "version_major": 2,
       "version_minor": 0
      },
      "text/plain": [
       "HBox(children=(IntProgress(value=0, max=253), HTML(value='')))"
      ]
     },
     "metadata": {},
     "output_type": "display_data"
    },
    {
     "name": "stdout",
     "output_type": "stream",
     "text": [
      "\n",
      "train error: 20420.2\t test error: 15964.7\n"
     ]
    },
    {
     "data": {
      "application/vnd.jupyter.widget-view+json": {
       "model_id": "ff9c498ea2eb4377921c4301797a9688",
       "version_major": 2,
       "version_minor": 0
      },
      "text/plain": [
       "HBox(children=(IntProgress(value=0, max=253), HTML(value='')))"
      ]
     },
     "metadata": {},
     "output_type": "display_data"
    },
    {
     "name": "stdout",
     "output_type": "stream",
     "text": [
      "\n",
      "train error: 19846.7\t test error: 16344.6\n"
     ]
    },
    {
     "data": {
      "application/vnd.jupyter.widget-view+json": {
       "model_id": "e5aa7114f0e841eb9de34b6590d0d401",
       "version_major": 2,
       "version_minor": 0
      },
      "text/plain": [
       "HBox(children=(IntProgress(value=0, max=253), HTML(value='')))"
      ]
     },
     "metadata": {},
     "output_type": "display_data"
    },
    {
     "name": "stdout",
     "output_type": "stream",
     "text": [
      "\n",
      "train error: 20186.6\t test error: 16055.2\n"
     ]
    },
    {
     "data": {
      "application/vnd.jupyter.widget-view+json": {
       "model_id": "f73c208731404aa881ca29adabe6a291",
       "version_major": 2,
       "version_minor": 0
      },
      "text/plain": [
       "HBox(children=(IntProgress(value=0, max=253), HTML(value='')))"
      ]
     },
     "metadata": {},
     "output_type": "display_data"
    },
    {
     "name": "stdout",
     "output_type": "stream",
     "text": [
      "\n",
      "train error: 20156.1\t test error: 16344.2\n"
     ]
    },
    {
     "data": {
      "application/vnd.jupyter.widget-view+json": {
       "model_id": "6ed5eab937714aaf97613dd5cf400a00",
       "version_major": 2,
       "version_minor": 0
      },
      "text/plain": [
       "HBox(children=(IntProgress(value=0, max=253), HTML(value='')))"
      ]
     },
     "metadata": {},
     "output_type": "display_data"
    },
    {
     "name": "stdout",
     "output_type": "stream",
     "text": [
      "\n",
      "train error: 20399.5\t test error: 16166.3\n"
     ]
    },
    {
     "data": {
      "application/vnd.jupyter.widget-view+json": {
       "model_id": "fc1bac4a7f684440b441814c0eff04c6",
       "version_major": 2,
       "version_minor": 0
      },
      "text/plain": [
       "HBox(children=(IntProgress(value=0, max=253), HTML(value='')))"
      ]
     },
     "metadata": {},
     "output_type": "display_data"
    },
    {
     "name": "stdout",
     "output_type": "stream",
     "text": [
      "\n",
      "train error: 19820.9\t test error: 16205.5\n"
     ]
    },
    {
     "data": {
      "application/vnd.jupyter.widget-view+json": {
       "model_id": "f2647d862d5344ffad68f420255635d3",
       "version_major": 2,
       "version_minor": 0
      },
      "text/plain": [
       "HBox(children=(IntProgress(value=0, max=253), HTML(value='')))"
      ]
     },
     "metadata": {},
     "output_type": "display_data"
    },
    {
     "name": "stdout",
     "output_type": "stream",
     "text": [
      "\n",
      "train error: 18981.2\t test error: 16304.4\n"
     ]
    },
    {
     "data": {
      "application/vnd.jupyter.widget-view+json": {
       "model_id": "15eeb3eff5e94c6b9ff7c73ddbdf2fd8",
       "version_major": 2,
       "version_minor": 0
      },
      "text/plain": [
       "HBox(children=(IntProgress(value=0, max=253), HTML(value='')))"
      ]
     },
     "metadata": {},
     "output_type": "display_data"
    },
    {
     "name": "stdout",
     "output_type": "stream",
     "text": [
      "\n",
      "train error: 19524.2\t test error: 16319.2\n"
     ]
    },
    {
     "data": {
      "application/vnd.jupyter.widget-view+json": {
       "model_id": "ccd6ef1f39ef467bbf39b6cff44cbb28",
       "version_major": 2,
       "version_minor": 0
      },
      "text/plain": [
       "HBox(children=(IntProgress(value=0, max=253), HTML(value='')))"
      ]
     },
     "metadata": {},
     "output_type": "display_data"
    },
    {
     "name": "stdout",
     "output_type": "stream",
     "text": [
      "\n",
      "train error: 19855.1\t test error: 16057.9\n",
      "\n"
     ]
    }
   ],
   "source": [
    "#Training loop\n",
    "num_epochs = 20\n",
    "train_loss = []\n",
    "test_loss = []\n",
    "\n",
    "for epoch in tqdm(range(num_epochs), unit='epoch'):\n",
    "    #For each epoch\n",
    "    train_error = 0\n",
    "    model.train()   \n",
    "    for minibatch_no, (data, target) in tqdm(enumerate(train_loader), total=len(train_loader)):\n",
    "        data, target = data.to(device), target.to(device)\n",
    "        #Zero the gradients computed for each weight\n",
    "        optimizer.zero_grad()\n",
    "        #Forward pass your image through the network\n",
    "        output = model(data)\n",
    "        #Compute the loss\n",
    "        loss = critirion(output,target)\n",
    "#         loss = cost(output[:,0],output[:,1], target)\n",
    "#         print(loss)\n",
    "        #Backward pass through the network\n",
    "        loss.backward()\n",
    "        #Update the weights\n",
    "        optimizer.step()\n",
    "        train_error += loss\n",
    "        train_loss.append(loss.cpu().detach().numpy())\n",
    "        \n",
    "    #Comput the test accuracy\n",
    "    model.eval()\n",
    "    test_error = 0\n",
    "    for data, target in test_loader:\n",
    "        data, target = data.to(device), target.to(device)\n",
    "        with torch.no_grad():\n",
    "            output = model(data)\n",
    "#         loss += cost(output[:,0],output[:,1],target)\n",
    "        loss = critirion(output,target)\n",
    "        test_loss.append(loss.cpu().detach().numpy())\n",
    "        test_error += loss\n",
    "    train_err = train_error/len(trainset)\n",
    "    test_err = test_error/len(testset)\n",
    "    print(\"train error: {train:.1f}\\t test error: {test:.1f}\".format(test=test_err, train=train_err))"
   ]
  },
  {
   "cell_type": "code",
   "execution_count": 51,
   "metadata": {},
   "outputs": [
    {
     "name": "stdout",
     "output_type": "stream",
     "text": [
      "tensor([159145.,  10888.], device='cuda:0')\n",
      "tensor([4.0461e+04, 2.0384e+00], device='cuda:0', grad_fn=<ViewBackward>)\n"
     ]
    }
   ],
   "source": [
    "print(target)\n",
    "temp =model(data)\n",
    "print(temp)"
   ]
  },
  {
   "cell_type": "code",
   "execution_count": 52,
   "metadata": {},
   "outputs": [
    {
     "data": {
      "application/vnd.jupyter.widget-view+json": {
       "model_id": "59feadad73094da5881362e7dbb795a6",
       "version_major": 2,
       "version_minor": 0
      },
      "text/plain": [
       "HBox(children=(IntProgress(value=0, max=29), HTML(value='')))"
      ]
     },
     "metadata": {},
     "output_type": "display_data"
    },
    {
     "name": "stdout",
     "output_type": "stream",
     "text": [
      "\n",
      "baseline error: 1974.9\n"
     ]
    }
   ],
   "source": [
    "#predicts the average over the last 3 years\n",
    "baseline_loss = 0\n",
    "for minibatch_no, (data, target) in tqdm(enumerate(test_loader), total=len(test_loader)):  \n",
    "#     y_pred = data[:,:,0].mean(1)\n",
    "    y_pred = data.mean(1)\n",
    "    loss = critirion(y_pred,target)\n",
    "    baseline_loss += loss.numpy()\n",
    "baseline_loss /= len(trainset)\n",
    "print(\"baseline error: {error:.1f}\".format(error =baseline_loss))"
   ]
  },
  {
   "cell_type": "code",
   "execution_count": null,
   "metadata": {},
   "outputs": [],
   "source": [
    "# torch.save(model.state_dict(),\"Current_Assets\")"
   ]
  }
 ],
 "metadata": {
  "kernelspec": {
   "display_name": "Python 3",
   "language": "python",
   "name": "python3"
  },
  "language_info": {
   "codemirror_mode": {
    "name": "ipython",
    "version": 3
   },
   "file_extension": ".py",
   "mimetype": "text/x-python",
   "name": "python",
   "nbconvert_exporter": "python",
   "pygments_lexer": "ipython3",
   "version": "3.6.9"
  }
 },
 "nbformat": 4,
 "nbformat_minor": 2
}
