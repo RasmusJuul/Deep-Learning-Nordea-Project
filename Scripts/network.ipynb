{
 "cells": [
  {
   "cell_type": "code",
   "execution_count": 1,
   "metadata": {},
   "outputs": [],
   "source": [
    "import numpy as np\n",
    "import pandas as pd\n",
    "import matplotlib.pyplot as plt\n",
    "import os\n",
    "import torch\n",
    "from torch.autograd import Variable\n",
    "import torch.nn as nn\n",
    "import torch.optim as optim"
   ]
  },
  {
   "cell_type": "code",
   "execution_count": null,
   "metadata": {},
   "outputs": [],
   "source": [
    "class Net(nn.Module):\n",
    "    def __init__(self):\n",
    "        super(Net, self).__init__()\n",
    "        \n",
    "        self.linearIn = nn.Sequential(nn.Linear(in_features=5,out_features=30\n",
    "                                   nn.ReLU(),\n",
    "                                   nn.Linear(30,100),\n",
    "                                   nn.ReLU(),\n",
    "                                   nn.Linear(100,50)) \n",
    "        self.rnn = nn.LSTM(input_size=50,\n",
    "                          hidden_size=100,\n",
    "                          num_layers=5,\n",
    "                          batch_first=True)\n",
    "        self.linearOut = nn.Seqential(nn.Linear(in_features=300,out_features=500),\n",
    "                                     nn.ReLU(),\n",
    "                                     nn.Linear(500,250),\n",
    "                                     nn.ReLU(),\n",
    "                                     nn.Linear(250,100),\n",
    "                                     nn.ReLU(),\n",
    "                                     nn.Linear(100,25),\n",
    "                                     nn.ReLU(),\n",
    "                                     nn.Linear(25,2))\n",
    "\n",
    "        \n",
    "    def forward(self, x):\n",
    "        x1 = self.linearIn(x[:,0,:]) #[batch_size,50]\n",
    "        x2 = self.linearIn(x[:,1,:]) #[batch_size,50]\n",
    "        x3 = self.linearIn(x[:,2,:]) #[batch_size,50]\n",
    "        x1 = x1.unsqueeze(1) #[batch_size,1,50]\n",
    "        x2 = x2.unsqueeze(1) #[batch_size,1,50]\n",
    "        x3 = x3.unsqueeze(1) #[batch_size,1,50]     \n",
    "        temp = []\n",
    "        temp.append(x1)\n",
    "        temp.append(x2)\n",
    "        temp.append(x3)\n",
    "        x = torch.cat(temp,dim=1)                        \n",
    "                                            \n",
    "        x,_ = self.rnn(x) #[batch_size,3,100]\n",
    "        x = x.view(x.shape[0],-1) #[batch_size,300]\n",
    "                       \n",
    "        x = self.linearOut(x) #[batch_size,2]\n",
    "\n",
    "        return x\n"
   ]
  },
  {
   "cell_type": "code",
   "execution_count": null,
   "metadata": {},
   "outputs": [],
   "source": [
    "def cost(mu,sigma,y):\n",
    "    dist = torch.distributions.normal.Normal(mu, sigma)\n",
    "    return torch.mean(-dist.log_prob(y))"
   ]
  },
  {
   "cell_type": "code",
   "execution_count": null,
   "metadata": {},
   "outputs": [],
   "source": []
  }
 ],
 "metadata": {
  "kernelspec": {
   "display_name": "Python 3",
   "language": "python",
   "name": "python3"
  },
  "language_info": {
   "codemirror_mode": {
    "name": "ipython",
    "version": 3
   },
   "file_extension": ".py",
   "mimetype": "text/x-python",
   "name": "python",
   "nbconvert_exporter": "python",
   "pygments_lexer": "ipython3",
   "version": "3.6.5"
  }
 },
 "nbformat": 4,
 "nbformat_minor": 2
}
