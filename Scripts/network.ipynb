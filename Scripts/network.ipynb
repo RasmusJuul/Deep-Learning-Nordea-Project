{
 "cells": [
  {
   "cell_type": "code",
   "execution_count": 1,
   "metadata": {},
   "outputs": [],
   "source": [
    "import numpy as np\n",
    "import pandas as pd\n",
    "import matplotlib.pyplot as plt\n",
    "import os\n",
    "import torch\n",
    "from torch.autograd import Variable\n",
    "import torch.nn as nn\n",
    "import torch.optim as optim\n",
    "# from torchsummary import summary\n",
    "from torch.utils.data import DataLoader\n",
    "from torch.utils.data import Dataset\n",
    "# from tqdm.notebook import tqdm\n",
    "from tqdm import tqdm_notebook as tqdm\n",
    "from sklearn.model_selection import train_test_split\n",
    "from scipy.linalg import eigh\n",
    "from sklearn.preprocessing import normalize"
   ]
  },
  {
   "cell_type": "code",
   "execution_count": 2,
   "metadata": {},
   "outputs": [
    {
     "name": "stdout",
     "output_type": "stream",
     "text": [
      "The code will run on CPU. You should probably not do this.\n"
     ]
    }
   ],
   "source": [
    "if torch.cuda.is_available():\n",
    "    print(\"The code will run on GPU. This is important so things run faster.\")\n",
    "else:\n",
    "    print(\"The code will run on CPU. You should probably not do this.\")\n",
    "device = torch.device('cuda' if torch.cuda.is_available() else 'cpu')"
   ]
  },
  {
   "cell_type": "code",
   "execution_count": 3,
   "metadata": {},
   "outputs": [],
   "source": [
    "class dataset:\n",
    "    def __init__(self,data,target):\n",
    "        self.data = data\n",
    "        self.target = target\n",
    "    \n",
    "    def __len__(self):\n",
    "        return len(self.data)\n",
    "    \n",
    "    def __getitem__(self,idx):\n",
    "        if torch.is_tensor(idx):\n",
    "            idx = idx.tolist()\n",
    "        X = self.data[idx]\n",
    "        y = self.target[idx]\n",
    "        \n",
    "        return X,y"
   ]
  },
  {
   "cell_type": "markdown",
   "metadata": {},
   "source": [
    "For data.npy\n",
    "\n",
    "0:ProfitLoss, 1:GrossResult, 2:GrossProfitLoss, 3:Revenue, 4:Assets, 5:AverageNumberOfEmployees, 6:CurrentAssets, 7:Equity, 8:Inventories, 9:AddressOfReportingEntityPostCodeIdentifier\n",
    "\n",
    "For data_grouped.npy\n",
    "\n",
    "0:ProfitLoss, 1:GrossResult, 2:Assets,3:AverageNumberOfEmployees, 4:Equity, 5:AddressOfReportingEntityPostCodeIdentifier"
   ]
  },
  {
   "cell_type": "code",
   "execution_count": 4,
   "metadata": {},
   "outputs": [],
   "source": [
    "data = np.load('data_grouped.npy',allow_pickle=True)\n",
    "target = np.load('target_grouped.npy',allow_pickle=True)"
   ]
  },
  {
   "cell_type": "code",
   "execution_count": 5,
   "metadata": {},
   "outputs": [],
   "source": [
    "#for data_grouped.npy\n",
    "data = data[:,:,2:] \n",
    "target = target[:,2:]\n",
    "for i in range(data.shape[0]):\n",
    "    for j in range(data.shape[1]):\n",
    "        try:\n",
    "            data[i,j,5] = int(str(data[i,j,5])[0])\n",
    "        except:\n",
    "            data[i,j,5] = 0\n",
    "for i in range(target.shape[0]):\n",
    "    try:\n",
    "        target[i,5] = int(str(target[i,5])[0])\n",
    "    except:\n",
    "        target[i,5] = 0"
   ]
  },
  {
   "cell_type": "code",
   "execution_count": 6,
   "metadata": {},
   "outputs": [],
   "source": [
    "# index_of_string = []\n",
    "# for i in range(data.shape[0]):\n",
    "#     for j in range(data.shape[1]):\n",
    "#         for k in range(data.shape[2]):\n",
    "#             try:\n",
    "#                 float(data[i,j,k])\n",
    "#             except:\n",
    "#                 index_of_string.append((i,j,k))\n",
    "# index_of_string"
   ]
  },
  {
   "cell_type": "code",
   "execution_count": 7,
   "metadata": {},
   "outputs": [],
   "source": [
    "data = np.delete(data,[52343,52344],axis=0)\n",
    "target = np.delete(target,[52343,52344],axis=0)"
   ]
  },
  {
   "cell_type": "code",
   "execution_count": 8,
   "metadata": {},
   "outputs": [],
   "source": [
    "#remove nan\n",
    "nan_ = []\n",
    "for i in range(data.shape[0]):\n",
    "    for j in range(data.shape[1]):\n",
    "        for k in range(data.shape[2]):\n",
    "            if np.isnan(data[i,j,k]):\n",
    "                nan_.append(i)\n",
    "nan_ = np.array(nan_)\n",
    "nan_ = np.unique(nan_)\n",
    "data = np.delete(data,nan_,axis=0)\n",
    "target = np.delete(target,nan_,axis=0)"
   ]
  },
  {
   "cell_type": "code",
   "execution_count": 9,
   "metadata": {},
   "outputs": [],
   "source": [
    "#removes any entry with a zero in profitloss, GrossResult, assets or equity\n",
    "has_zero = []\n",
    "for i in range(data.shape[0]):\n",
    "    for j in range(data.shape[1]):\n",
    "        if data[i,j,0] == 0 or data[i,j,1] == 0 or data[i,j,2] == 0 or data[i,j,4] == 0:\n",
    "            has_zero.append(i)\n",
    "has_zero = np.unique(np.array(has_zero))\n",
    "data = np.delete(data,has_zero,axis=0)\n",
    "target = np.delete(target,has_zero,axis=0)"
   ]
  },
  {
   "cell_type": "code",
   "execution_count": 10,
   "metadata": {},
   "outputs": [],
   "source": [
    "big_company = []\n",
    "medium_company = []\n",
    "small_company = []\n",
    "for i in range(data.shape[0]):\n",
    "    if abs(data[i,:,0].mean()) < 100000:\n",
    "        small_company.append(i)\n",
    "    elif abs(data[i,:,0].mean()) > 100000 and data[i,:,0].mean() < 10000000:\n",
    "        medium_company.append(i)\n",
    "    else:\n",
    "        big_company.append(i)"
   ]
  },
  {
   "cell_type": "code",
   "execution_count": 11,
   "metadata": {},
   "outputs": [
    {
     "data": {
      "text/plain": [
       "10819"
      ]
     },
     "execution_count": 11,
     "metadata": {},
     "output_type": "execute_result"
    }
   ],
   "source": [
    "len(small_company)"
   ]
  },
  {
   "cell_type": "code",
   "execution_count": 12,
   "metadata": {},
   "outputs": [
    {
     "data": {
      "text/plain": [
       "16671"
      ]
     },
     "execution_count": 12,
     "metadata": {},
     "output_type": "execute_result"
    }
   ],
   "source": [
    "len(medium_company)"
   ]
  },
  {
   "cell_type": "code",
   "execution_count": 13,
   "metadata": {},
   "outputs": [
    {
     "data": {
      "text/plain": [
       "529"
      ]
     },
     "execution_count": 13,
     "metadata": {},
     "output_type": "execute_result"
    }
   ],
   "source": [
    "len(big_company)"
   ]
  },
  {
   "cell_type": "code",
   "execution_count": 14,
   "metadata": {},
   "outputs": [],
   "source": [
    "data = data.astype(\"float\")\n",
    "target = target.astype(\"float\")"
   ]
  },
  {
   "cell_type": "code",
   "execution_count": 15,
   "metadata": {},
   "outputs": [],
   "source": [
    "data_small = data[small_company]\n",
    "target_small = target[small_company]\n",
    "data_medium = data[medium_company]\n",
    "target_medium = target[medium_company]"
   ]
  },
  {
   "cell_type": "code",
   "execution_count": 16,
   "metadata": {},
   "outputs": [],
   "source": [
    "# #use small companies\n",
    "# data = data_small\n",
    "# target = target_small"
   ]
  },
  {
   "cell_type": "code",
   "execution_count": 17,
   "metadata": {},
   "outputs": [],
   "source": [
    "#use medium companies\n",
    "data = data_medium\n",
    "target = target_medium"
   ]
  },
  {
   "cell_type": "code",
   "execution_count": 18,
   "metadata": {},
   "outputs": [],
   "source": [
    "data = torch.from_numpy(data).float()\n",
    "# data = data.permute(0,2,1) # Needed if using CNN\n",
    "target = torch.from_numpy(target).float()\n",
    "\n",
    "train_idx,test_idx = train_test_split(np.arange(data.shape[0]),test_size=0.1)\n",
    "\n",
    "train_data = data[train_idx,:,:]\n",
    "train_target = target[train_idx,0] \n",
    "test_data = data[test_idx,:,:]\n",
    "test_target = target[test_idx,0]\n",
    "\n",
    "trainset = dataset(train_data,train_target)\n",
    "testset = dataset(test_data,test_target)"
   ]
  },
  {
   "cell_type": "code",
   "execution_count": 19,
   "metadata": {},
   "outputs": [
    {
     "name": "stdout",
     "output_type": "stream",
     "text": [
      "0:ProfitLoss, 1:GrossResult, 2:Assets,3:AverageNumberOfEmployees, 4:Equity, 5:AddressOfReportingEntityPostCodeIdentifier\n",
      "[0.         0.         0.         0.88894887 0.         0.2292204 ]\n"
     ]
    }
   ],
   "source": [
    "#for data_grouped.npy\n",
    "zeros_ = np.zeros(6)\n",
    "for i in range(6):\n",
    "    temp = data[:,:,i].clone()\n",
    "    zeros_[i] = temp[temp==0].shape[0]\n",
    "    \n",
    "pct_zeros = zeros_/(data.shape[0]*3)\n",
    "print('0:ProfitLoss, 1:GrossResult, 2:Assets,3:AverageNumberOfEmployees, 4:Equity, 5:AddressOfReportingEntityPostCodeIdentifier')\n",
    "print(pct_zeros)"
   ]
  },
  {
   "cell_type": "code",
   "execution_count": 20,
   "metadata": {},
   "outputs": [],
   "source": [
    "batch_size=100\n",
    "\n",
    "train_loader = DataLoader(trainset, batch_size=batch_size, shuffle=True, num_workers=0)\n",
    "test_loader = DataLoader(testset, batch_size=batch_size, shuffle=False, num_workers=0)"
   ]
  },
  {
   "cell_type": "code",
   "execution_count": 21,
   "metadata": {},
   "outputs": [
    {
     "data": {
      "image/png": "[encoded data removed]",
      "text/plain": [
       "<Figure size 432x288 with 1 Axes>"
      ]
     },
     "metadata": {},
     "output_type": "display_data"
    },
    {
     "data": {
      "image/png": "[encoded data removed]",
      "text/plain": [
       "<Figure size 432x288 with 1 Axes>"
      ]
     },
     "metadata": {},
     "output_type": "display_data"
    }
   ],
   "source": [
    "temp = data.clone()\n",
    "temp = temp.view(temp.shape[0]*temp.shape[1],temp.shape[2])\n",
    "temp = temp.numpy()\n",
    "\n",
    "# #standardize data \n",
    "temp = temp-np.ones((temp.shape[0],1))*temp.mean(0)\n",
    "temp = temp*(1/np.std(temp,0))\n",
    "#compute covariance matrix\n",
    "S = np.cov(temp.T)\n",
    "\n",
    "#obtain eigen values and eigen vectors\n",
    "eigenValues, eigenVectors = eigh(S)\n",
    "idx_ord = np.argsort(eigenValues)[::-1]\n",
    "eigenValues = eigenValues[idx_ord]\n",
    "eigenVectors = eigenVectors[:,idx_ord]\n",
    "\n",
    "#plot cummulative variance explained    \n",
    "summ = eigenValues.sum()\n",
    "cumsum = 0\n",
    "total_var_explained = np.zeros(6)\n",
    "for i in range(6):    \n",
    "    cumsum = cumsum + eigenValues[i]\n",
    "    total_var_explained[i]=(cumsum/summ)\n",
    "    \n",
    "fig, ax = plt.subplots()\n",
    "ax.plot(total_var_explained,'-o')\n",
    "#ax.axhline(0.90,linestyle='--')\n",
    "plt.grid();\n",
    "#plt.xlim(-1,50)\n",
    "#plt.ylim(0,1)\n",
    "plt.title('Variance explained' )\n",
    "plt.ylabel('Cummulative sum')\n",
    "plt.xlabel('Principle components')\n",
    "# plt.savefig(\"variance_explained\")\n",
    "plt.show()\n",
    "\n",
    "M=6\n",
    "pcs = np.arange(6)\n",
    "#pcs = np.array([3,10])\n",
    "legendStrs = ['PC'+str(e+1) for e in pcs]\n",
    "c = ['r','g','b']\n",
    "bw = .15\n",
    "r = np.arange(1,M+1)\n",
    "for i in pcs:    \n",
    "   plt.bar(r+i*bw/2, eigenVectors[:,i], width=bw)\n",
    "plt.xticks(r+bw, np.arange(1,13))\n",
    "plt.xlabel('Attributes')\n",
    "plt.ylabel('Component coefficients')\n",
    "plt.legend(legendStrs,loc=1, bbox_to_anchor=(1.2,1))\n",
    "plt.grid()\n",
    "plt.title('PCA Component Coefficients')\n",
    "plt.show()"
   ]
  },
  {
   "cell_type": "code",
   "execution_count": 22,
   "metadata": {},
   "outputs": [],
   "source": [
    "# #Picking principle components to project the data into\n",
    "# eigenvectors1 = eigenVectors[:, 0]\n",
    "# eigenvectors2 = eigenVectors[:, 1]\n",
    "# eigenvectors3 = eigenVectors[:, 2]\n",
    "# eigenvectors4 = eigenVectors[:, 3]\n",
    "# eigenvectors = np.vstack((eigenvectors1,eigenvectors2,eigenvectors3,eigenvectors4)).T\n",
    "\n",
    "# ## now we have to project our vectors in this new base\n",
    "# transformed_data = temp @ eigenvectors\n",
    "\n",
    "# fig,ax = plt.subplots(3,1,figsize=(10,15))\n",
    "# ax[0].scatter(transformed_data[:, 0], transformed_data[:, 1])\n",
    "# ax[0].set_title('Data projection into 2D PC space')\n",
    "# ax[0].set_xlabel('Principle component 1')\n",
    "# ax[0].set_ylabel('Principle component 2')\n",
    "# ax[1].scatter(transformed_data[:, 0], transformed_data[:, 2])\n",
    "# ax[1].set_title('Data projection into 2D PC space')\n",
    "# ax[1].set_xlabel('Principle component 1')\n",
    "# ax[1].set_ylabel('Principle component 3')\n",
    "# ax[2].scatter(transformed_data[:, 0], transformed_data[:, 3])\n",
    "# ax[2].set_title('Data projection into 2D PC space')\n",
    "# ax[2].set_xlabel('Principle component 1')\n",
    "# ax[2].set_ylabel('Principle component 4')\n",
    "# #plt.rcParams.update({'figure.autolayout': True})\n",
    "# plt.show()"
   ]
  },
  {
   "cell_type": "code",
   "execution_count": 29,
   "metadata": {},
   "outputs": [],
   "source": [
    "class RecurrentNet(nn.Module):\n",
    "    def __init__(self):\n",
    "        super(RecurrentNet, self).__init__()\n",
    "        \n",
    "        self.linearIn = nn.Sequential(nn.Linear(in_features=6,out_features=6),\n",
    "                                      nn.ReLU(),\n",
    "                                      nn.Linear(6,6)) \n",
    "        self.rnn = nn.GRU(input_size=12,\n",
    "                          hidden_size=50,\n",
    "                          num_layers=4,\n",
    "                          batch_first=True)\n",
    "        self.linearOut = nn.Sequential(nn.Linear(in_features=62*3,out_features=50),\n",
    "                                       nn.BatchNorm1d(50),\n",
    "                                       nn.ReLU(),\n",
    "                                       nn.Dropout(),\n",
    "                                       nn.Linear(50,20),\n",
    "                                       nn.ReLU(),\n",
    "                                       nn.Dropout(),\n",
    "                                       nn.Linear(20,1)) #change to 2 for predicting normal distribution\n",
    "\n",
    "        \n",
    "    def forward(self, x): #x = [batch_size,3,6]\n",
    "        x1 = self.linearIn(x[:,0,:]) #[batch_size,6]\n",
    "        x2 = self.linearIn(x[:,1,:]) #[batch_size,6]\n",
    "        x3 = self.linearIn(x[:,2,:]) #[batch_size,6]\n",
    "        x1 = x1.unsqueeze(1) #[batch_size,1,6]\n",
    "        x2 = x2.unsqueeze(1) #[batch_size,1,6]\n",
    "        x3 = x3.unsqueeze(1) #[batch_size,1,6]     \n",
    "        temp = []\n",
    "        temp.append(x1)\n",
    "        temp.append(x2)\n",
    "        temp.append(x3)\n",
    "        z = torch.cat(temp,dim=1) #[batch_size,3,6]\n",
    "        \n",
    "        y = torch.cat((z,x),dim=2) #[batch_size,3,12]\n",
    "                                            \n",
    "        y,_ = self.rnn(y) #[batch_size,3,50]\n",
    "        \n",
    "        x = torch.cat((x,y,z),dim=2) #[batch_size,3,62]\n",
    "        \n",
    "        x = x.reshape(x.shape[0],-1) #[batch_size,62*3]\n",
    "                       \n",
    "        x = self.linearOut(x) #[batch_size,1], [batch_size,2] if predicting normal distribution\n",
    "        x = x.view(-1)\n",
    "        return x\n"
   ]
  },
  {
   "cell_type": "code",
   "execution_count": 30,
   "metadata": {},
   "outputs": [],
   "source": [
    "class LinearNet(nn.Module):\n",
    "    def __init__(self):\n",
    "        super(LinearNet, self).__init__()\n",
    "        \n",
    "        self.linear = nn.Sequential(nn.Linear(in_features=18,out_features=20),\n",
    "                                      nn.ReLU(),\n",
    "                                      nn.Dropout(p=0.25),\n",
    "                                      nn.Linear(20,40),\n",
    "                                      nn.ReLU(),\n",
    "                                      nn.Dropout(p=0.25),\n",
    "                                      nn.Linear(40,20),\n",
    "                                      nn.ReLU(),\n",
    "                                      nn.Dropout(p=0.25),\n",
    "                                      nn.Linear(20,10),\n",
    "                                      nn.ReLU(),\n",
    "                                      nn.Dropout(p=0.25),\n",
    "                                      nn.Linear(10,1))\n",
    "\n",
    "        \n",
    "    def forward(self, x): #x = [batch_size,3,6]\n",
    "        x = x.view(x.shape[0],-1)\n",
    "        x = self.linear(x)\n",
    "        x = x.view(-1)\n",
    "        return x\n"
   ]
  },
  {
   "cell_type": "code",
   "execution_count": 31,
   "metadata": {},
   "outputs": [],
   "source": [
    "class ConvNet(nn.Module):\n",
    "    def __init__(self):\n",
    "        super(ConvNet, self).__init__()\n",
    "        \n",
    "        self.conv = nn.Sequential(nn.BatchNorm1d(10),\n",
    "                                  nn.Conv1d(in_channels=10,out_channels=20,kernel_size=3,padding=1),\n",
    "                                  nn.ReLU(),\n",
    "                                  nn.BatchNorm1d(20),\n",
    "                                  nn.Conv1d(20,40,kernel_size=3,padding=1),\n",
    "                                  nn.ReLU(),\n",
    "                                  nn.BatchNorm1d(40),\n",
    "                                  nn.Conv1d(40,80,kernel_size=3,padding=1),\n",
    "                                  nn.ReLU(),\n",
    "                                  nn.BatchNorm1d(80),\n",
    "                                  nn.Conv1d(80,160,kernel_size=3,padding=1),\n",
    "                                  nn.ReLU(),\n",
    "                                  nn.Conv1d(160,320,kernel_size=3,padding=0))\n",
    "        \n",
    "        self.linear = nn.Sequential(nn.Linear(in_features=320,out_features=160),\n",
    "                                    nn.ReLU(),\n",
    "                                    nn.Dropout(),\n",
    "                                    nn.Linear(160,80),\n",
    "                                    nn.ReLU(),\n",
    "                                    nn.Dropout(),\n",
    "                                    nn.Linear(80,40),\n",
    "                                    nn.ReLU(),\n",
    "                                    nn.Dropout(),\n",
    "                                    nn.Linear(40,20),\n",
    "                                    nn.ReLU(),\n",
    "                                    nn.Dropout(),\n",
    "                                    nn.Linear(20,1))\n",
    "                                  \n",
    "        \n",
    "    def forward(self, x): #x = [batch_size,features,3]\n",
    "        x = self.conv(x) #[batch_size,160,1]\n",
    "        x = x.view(x.shape[0],-1) #[batch_size,160]\n",
    "        x = self.linear(x) #[batch_size,1]\n",
    "        \n",
    "        x = x.view(-1) #When prediction one value\n",
    "        return x"
   ]
  },
  {
   "cell_type": "code",
   "execution_count": 32,
   "metadata": {},
   "outputs": [],
   "source": [
    "def cost(mu,sigma,y):\n",
    "    sigma = torch.abs(sigma)\n",
    "    dist = torch.distributions.normal.Normal(mu, sigma)\n",
    "    return torch.mean(-dist.log_prob(y))"
   ]
  },
  {
   "cell_type": "code",
   "execution_count": 46,
   "metadata": {},
   "outputs": [],
   "source": [
    "# model = ConvNet()\n",
    "# model = LinearNet()\n",
    "model = RecurrentNet()\n",
    "model.to(device)\n",
    "lr = 5e-3\n",
    "optimizer = optim.Adam(model.parameters(), lr=lr)\n",
    "critirion = nn.L1Loss()"
   ]
  },
  {
   "cell_type": "code",
   "execution_count": 47,
   "metadata": {},
   "outputs": [
    {
     "data": {
      "application/vnd.jupyter.widget-view+json": {
       "model_id": "d2d09d04899d4a4b87ccf81e8261bc7b",
       "version_major": 2,
       "version_minor": 0
      },
      "text/plain": [
       "HBox(children=(IntProgress(value=0, max=30), HTML(value='')))"
      ]
     },
     "metadata": {},
     "output_type": "display_data"
    },
    {
     "data": {
      "application/vnd.jupyter.widget-view+json": {
       "model_id": "396f9ccd03b342759a7c394457ec63b1",
       "version_major": 2,
       "version_minor": 0
      },
      "text/plain": [
       "HBox(children=(IntProgress(value=0, max=151), HTML(value='')))"
      ]
     },
     "metadata": {},
     "output_type": "display_data"
    },
    {
     "name": "stdout",
     "output_type": "stream",
     "text": [
      "train error: 18770.9\t test error: 16997.8\n"
     ]
    },
    {
     "data": {
      "application/vnd.jupyter.widget-view+json": {
       "model_id": "7a2af01f4d874a71bce25dfd765730d8",
       "version_major": 2,
       "version_minor": 0
      },
      "text/plain": [
       "HBox(children=(IntProgress(value=0, max=151), HTML(value='')))"
      ]
     },
     "metadata": {},
     "output_type": "display_data"
    },
    {
     "name": "stdout",
     "output_type": "stream",
     "text": [
      "train error: 18674.0\t test error: 16959.0\n"
     ]
    },
    {
     "data": {
      "application/vnd.jupyter.widget-view+json": {
       "model_id": "cf0f81bc1ce9412081206697c606c9e0",
       "version_major": 2,
       "version_minor": 0
      },
      "text/plain": [
       "HBox(children=(IntProgress(value=0, max=151), HTML(value='')))"
      ]
     },
     "metadata": {},
     "output_type": "display_data"
    },
    {
     "name": "stdout",
     "output_type": "stream",
     "text": [
      "train error: 18566.0\t test error: 16851.9\n"
     ]
    },
    {
     "data": {
      "application/vnd.jupyter.widget-view+json": {
       "model_id": "746113be69634baa9b5cfd06f1d6f22b",
       "version_major": 2,
       "version_minor": 0
      },
      "text/plain": [
       "HBox(children=(IntProgress(value=0, max=151), HTML(value='')))"
      ]
     },
     "metadata": {},
     "output_type": "display_data"
    },
    {
     "name": "stdout",
     "output_type": "stream",
     "text": [
      "train error: 18418.8\t test error: 16689.8\n"
     ]
    },
    {
     "data": {
      "application/vnd.jupyter.widget-view+json": {
       "model_id": "294e2c8f45f245648cf1a16330412c18",
       "version_major": 2,
       "version_minor": 0
      },
      "text/plain": [
       "HBox(children=(IntProgress(value=0, max=151), HTML(value='')))"
      ]
     },
     "metadata": {},
     "output_type": "display_data"
    },
    {
     "name": "stdout",
     "output_type": "stream",
     "text": [
      "train error: 18187.8\t test error: 16431.3\n"
     ]
    },
    {
     "data": {
      "application/vnd.jupyter.widget-view+json": {
       "model_id": "068fe96c9bf741fcb4e51e8ede72fc71",
       "version_major": 2,
       "version_minor": 0
      },
      "text/plain": [
       "HBox(children=(IntProgress(value=0, max=151), HTML(value='')))"
      ]
     },
     "metadata": {},
     "output_type": "display_data"
    },
    {
     "name": "stdout",
     "output_type": "stream",
     "text": [
      "train error: 17924.2\t test error: 16088.5\n"
     ]
    },
    {
     "data": {
      "application/vnd.jupyter.widget-view+json": {
       "model_id": "14d2329ec6c14a1a99b9bc34144ec50d",
       "version_major": 2,
       "version_minor": 0
      },
      "text/plain": [
       "HBox(children=(IntProgress(value=0, max=151), HTML(value='')))"
      ]
     },
     "metadata": {},
     "output_type": "display_data"
    },
    {
     "name": "stdout",
     "output_type": "stream",
     "text": [
      "train error: 17610.8\t test error: 16048.5\n"
     ]
    },
    {
     "data": {
      "application/vnd.jupyter.widget-view+json": {
       "model_id": "844a3f83f396414e8a05d3f820384b41",
       "version_major": 2,
       "version_minor": 0
      },
      "text/plain": [
       "HBox(children=(IntProgress(value=0, max=151), HTML(value='')))"
      ]
     },
     "metadata": {},
     "output_type": "display_data"
    },
    {
     "name": "stdout",
     "output_type": "stream",
     "text": [
      "train error: 17409.2\t test error: 16175.8\n"
     ]
    },
    {
     "data": {
      "application/vnd.jupyter.widget-view+json": {
       "model_id": "e07b467367374b93abfcb139f4026d25",
       "version_major": 2,
       "version_minor": 0
      },
      "text/plain": [
       "HBox(children=(IntProgress(value=0, max=151), HTML(value='')))"
      ]
     },
     "metadata": {},
     "output_type": "display_data"
    },
    {
     "name": "stdout",
     "output_type": "stream",
     "text": [
      "train error: 17225.5\t test error: 15878.2\n"
     ]
    },
    {
     "data": {
      "application/vnd.jupyter.widget-view+json": {
       "model_id": "2113bacab4a2498585bc9b5d55ec237e",
       "version_major": 2,
       "version_minor": 0
      },
      "text/plain": [
       "HBox(children=(IntProgress(value=0, max=151), HTML(value='')))"
      ]
     },
     "metadata": {},
     "output_type": "display_data"
    },
    {
     "name": "stdout",
     "output_type": "stream",
     "text": [
      "train error: 17076.2\t test error: 15193.9\n"
     ]
    },
    {
     "data": {
      "application/vnd.jupyter.widget-view+json": {
       "model_id": "fba715ee88ae46bd95ef48e42da81f43",
       "version_major": 2,
       "version_minor": 0
      },
      "text/plain": [
       "HBox(children=(IntProgress(value=0, max=151), HTML(value='')))"
      ]
     },
     "metadata": {},
     "output_type": "display_data"
    },
    {
     "name": "stdout",
     "output_type": "stream",
     "text": [
      "train error: 16906.8\t test error: 15080.5\n"
     ]
    },
    {
     "data": {
      "application/vnd.jupyter.widget-view+json": {
       "model_id": "51e49547445041aeb25d3ec2ac84e10b",
       "version_major": 2,
       "version_minor": 0
      },
      "text/plain": [
       "HBox(children=(IntProgress(value=0, max=151), HTML(value='')))"
      ]
     },
     "metadata": {},
     "output_type": "display_data"
    },
    {
     "name": "stdout",
     "output_type": "stream",
     "text": [
      "train error: 16848.7\t test error: 15438.5\n"
     ]
    },
    {
     "data": {
      "application/vnd.jupyter.widget-view+json": {
       "model_id": "8bb5de8211434d149c2422410821b896",
       "version_major": 2,
       "version_minor": 0
      },
      "text/plain": [
       "HBox(children=(IntProgress(value=0, max=151), HTML(value='')))"
      ]
     },
     "metadata": {},
     "output_type": "display_data"
    },
    {
     "name": "stdout",
     "output_type": "stream",
     "text": [
      "train error: 16759.7\t test error: 15077.2\n"
     ]
    },
    {
     "data": {
      "application/vnd.jupyter.widget-view+json": {
       "model_id": "38b4fd74a8f84a2680b341cd8d7db211",
       "version_major": 2,
       "version_minor": 0
      },
      "text/plain": [
       "HBox(children=(IntProgress(value=0, max=151), HTML(value='')))"
      ]
     },
     "metadata": {},
     "output_type": "display_data"
    },
    {
     "name": "stdout",
     "output_type": "stream",
     "text": [
      "train error: 16739.2\t test error: 15110.9\n"
     ]
    },
    {
     "data": {
      "application/vnd.jupyter.widget-view+json": {
       "model_id": "408bb4542efa4972a004af13f80f1655",
       "version_major": 2,
       "version_minor": 0
      },
      "text/plain": [
       "HBox(children=(IntProgress(value=0, max=151), HTML(value='')))"
      ]
     },
     "metadata": {},
     "output_type": "display_data"
    },
    {
     "name": "stdout",
     "output_type": "stream",
     "text": [
      "train error: 16648.9\t test error: 15267.0\n"
     ]
    },
    {
     "data": {
      "application/vnd.jupyter.widget-view+json": {
       "model_id": "fdc26f5da65742c8be57d933229e1a9f",
       "version_major": 2,
       "version_minor": 0
      },
      "text/plain": [
       "HBox(children=(IntProgress(value=0, max=151), HTML(value='')))"
      ]
     },
     "metadata": {},
     "output_type": "display_data"
    },
    {
     "name": "stdout",
     "output_type": "stream",
     "text": [
      "train error: 16587.3\t test error: 15661.9\n"
     ]
    },
    {
     "data": {
      "application/vnd.jupyter.widget-view+json": {
       "model_id": "6ae50d3e5eff4e8da9f7b553c100ee2f",
       "version_major": 2,
       "version_minor": 0
      },
      "text/plain": [
       "HBox(children=(IntProgress(value=0, max=151), HTML(value='')))"
      ]
     },
     "metadata": {},
     "output_type": "display_data"
    },
    {
     "name": "stdout",
     "output_type": "stream",
     "text": [
      "train error: 16643.2\t test error: 15225.7\n"
     ]
    },
    {
     "data": {
      "application/vnd.jupyter.widget-view+json": {
       "model_id": "4fe89f839d8547cbb1b23e174630239d",
       "version_major": 2,
       "version_minor": 0
      },
      "text/plain": [
       "HBox(children=(IntProgress(value=0, max=151), HTML(value='')))"
      ]
     },
     "metadata": {},
     "output_type": "display_data"
    },
    {
     "name": "stdout",
     "output_type": "stream",
     "text": [
      "train error: 16597.6\t test error: 14850.4\n"
     ]
    },
    {
     "data": {
      "application/vnd.jupyter.widget-view+json": {
       "model_id": "40e8a25fa52e4b94b6a13bc5e173c50c",
       "version_major": 2,
       "version_minor": 0
      },
      "text/plain": [
       "HBox(children=(IntProgress(value=0, max=151), HTML(value='')))"
      ]
     },
     "metadata": {},
     "output_type": "display_data"
    },
    {
     "name": "stdout",
     "output_type": "stream",
     "text": [
      "train error: 16602.2\t test error: 14807.0\n"
     ]
    },
    {
     "data": {
      "application/vnd.jupyter.widget-view+json": {
       "model_id": "025e50831ae3433c932f610a897ff6fd",
       "version_major": 2,
       "version_minor": 0
      },
      "text/plain": [
       "HBox(children=(IntProgress(value=0, max=151), HTML(value='')))"
      ]
     },
     "metadata": {},
     "output_type": "display_data"
    },
    {
     "name": "stdout",
     "output_type": "stream",
     "text": [
      "train error: 16600.0\t test error: 15183.9\n"
     ]
    },
    {
     "data": {
      "application/vnd.jupyter.widget-view+json": {
       "model_id": "0a9138578a15489695ecb6dfba85e709",
       "version_major": 2,
       "version_minor": 0
      },
      "text/plain": [
       "HBox(children=(IntProgress(value=0, max=151), HTML(value='')))"
      ]
     },
     "metadata": {},
     "output_type": "display_data"
    },
    {
     "name": "stdout",
     "output_type": "stream",
     "text": [
      "train error: 16601.5\t test error: 14705.0\n"
     ]
    },
    {
     "data": {
      "application/vnd.jupyter.widget-view+json": {
       "model_id": "284bb563808943afab6f31ba9264d549",
       "version_major": 2,
       "version_minor": 0
      },
      "text/plain": [
       "HBox(children=(IntProgress(value=0, max=151), HTML(value='')))"
      ]
     },
     "metadata": {},
     "output_type": "display_data"
    },
    {
     "name": "stdout",
     "output_type": "stream",
     "text": [
      "train error: 16659.2\t test error: 15225.9\n"
     ]
    },
    {
     "data": {
      "application/vnd.jupyter.widget-view+json": {
       "model_id": "5f2ce715978b491ba2dda8a347ada35e",
       "version_major": 2,
       "version_minor": 0
      },
      "text/plain": [
       "HBox(children=(IntProgress(value=0, max=151), HTML(value='')))"
      ]
     },
     "metadata": {},
     "output_type": "display_data"
    },
    {
     "name": "stdout",
     "output_type": "stream",
     "text": [
      "train error: 16662.5\t test error: 14698.4\n"
     ]
    },
    {
     "data": {
      "application/vnd.jupyter.widget-view+json": {
       "model_id": "22038e87417f4bc6b3007f4e9aa07446",
       "version_major": 2,
       "version_minor": 0
      },
      "text/plain": [
       "HBox(children=(IntProgress(value=0, max=151), HTML(value='')))"
      ]
     },
     "metadata": {},
     "output_type": "display_data"
    },
    {
     "name": "stdout",
     "output_type": "stream",
     "text": [
      "train error: 16550.7\t test error: 15387.0\n"
     ]
    },
    {
     "data": {
      "application/vnd.jupyter.widget-view+json": {
       "model_id": "ea5f2e0fa61d40ddbcf83adb0fdbca6b",
       "version_major": 2,
       "version_minor": 0
      },
      "text/plain": [
       "HBox(children=(IntProgress(value=0, max=151), HTML(value='')))"
      ]
     },
     "metadata": {},
     "output_type": "display_data"
    },
    {
     "name": "stdout",
     "output_type": "stream",
     "text": [
      "train error: 16549.1\t test error: 14870.7\n"
     ]
    },
    {
     "data": {
      "application/vnd.jupyter.widget-view+json": {
       "model_id": "b9d710c04270477786d7f7aa54b4a065",
       "version_major": 2,
       "version_minor": 0
      },
      "text/plain": [
       "HBox(children=(IntProgress(value=0, max=151), HTML(value='')))"
      ]
     },
     "metadata": {},
     "output_type": "display_data"
    },
    {
     "name": "stdout",
     "output_type": "stream",
     "text": [
      "train error: 16619.0\t test error: 14624.6\n"
     ]
    },
    {
     "data": {
      "application/vnd.jupyter.widget-view+json": {
       "model_id": "c6eaafe1c58e4f4aa4f93dec1fec9066",
       "version_major": 2,
       "version_minor": 0
      },
      "text/plain": [
       "HBox(children=(IntProgress(value=0, max=151), HTML(value='')))"
      ]
     },
     "metadata": {},
     "output_type": "display_data"
    },
    {
     "name": "stdout",
     "output_type": "stream",
     "text": [
      "train error: 16493.9\t test error: 14639.8\n"
     ]
    },
    {
     "data": {
      "application/vnd.jupyter.widget-view+json": {
       "model_id": "d6ffc5a4080848b8a584ab03de0b1c67",
       "version_major": 2,
       "version_minor": 0
      },
      "text/plain": [
       "HBox(children=(IntProgress(value=0, max=151), HTML(value='')))"
      ]
     },
     "metadata": {},
     "output_type": "display_data"
    },
    {
     "name": "stdout",
     "output_type": "stream",
     "text": [
      "train error: 16604.0\t test error: 14814.1\n"
     ]
    },
    {
     "data": {
      "application/vnd.jupyter.widget-view+json": {
       "model_id": "f87d22fc4a744f998fd16aae7f1e3482",
       "version_major": 2,
       "version_minor": 0
      },
      "text/plain": [
       "HBox(children=(IntProgress(value=0, max=151), HTML(value='')))"
      ]
     },
     "metadata": {},
     "output_type": "display_data"
    },
    {
     "name": "stdout",
     "output_type": "stream",
     "text": [
      "train error: 16520.7\t test error: 14954.8\n"
     ]
    },
    {
     "data": {
      "application/vnd.jupyter.widget-view+json": {
       "model_id": "ccd6a3f598b842f9bd8de8b4b9f68c99",
       "version_major": 2,
       "version_minor": 0
      },
      "text/plain": [
       "HBox(children=(IntProgress(value=0, max=151), HTML(value='')))"
      ]
     },
     "metadata": {},
     "output_type": "display_data"
    },
    {
     "name": "stdout",
     "output_type": "stream",
     "text": [
      "train error: 16592.9\t test error: 14609.5\n",
      "\n"
     ]
    }
   ],
   "source": [
    "#Training loop\n",
    "num_epochs = 30\n",
    "train_loss = []\n",
    "test_loss = []\n",
    "\n",
    "for epoch in tqdm(range(num_epochs), unit='epoch'):\n",
    "    #For each epoch\n",
    "    train_error = 0\n",
    "    model.train()   \n",
    "    for minibatch_no, (data, target) in tqdm(enumerate(train_loader), total=len(train_loader)):\n",
    "        data, target = data.to(device), target.to(device)\n",
    "        #Zero the gradients computed for each weight\n",
    "        optimizer.zero_grad()\n",
    "        #Forward pass your image through the network\n",
    "        output = model(data)\n",
    "        #Compute the loss\n",
    "        loss = critirion(output,target)\n",
    "#         loss = cost(output[:,0],output[:,1], target)\n",
    "#         print(loss)\n",
    "        #Backward pass through the network\n",
    "        loss.backward()\n",
    "        #Update the weights\n",
    "        optimizer.step()\n",
    "        train_error += loss\n",
    "        \n",
    "        \n",
    "    #Comput the test accuracy\n",
    "    model.eval()\n",
    "    test_error = 0\n",
    "    for data, target in test_loader:\n",
    "        data, target = data.to(device), target.to(device)\n",
    "        with torch.no_grad():\n",
    "            output = model(data)\n",
    "#         loss += cost(output[:,0],output[:,1],target)\n",
    "        loss = critirion(output,target)\n",
    "        test_error += loss\n",
    "    train_err = train_error/len(trainset)\n",
    "    train_loss.append(train_err)\n",
    "    test_err = test_error/len(testset)\n",
    "    test_loss.append(test_err)\n",
    "    print(\"train error: {train:.1f}\\t test error: {test:.1f}\".format(test=test_err, train=train_err))"
   ]
  },
  {
   "cell_type": "code",
   "execution_count": 39,
   "metadata": {},
   "outputs": [
    {
     "name": "stdout",
     "output_type": "stream",
     "text": [
      "tensor([ 534097., -107338., -354858.])\n",
      "tensor([403455.4062, 200663.4844, 204492.6719], grad_fn=<ViewBackward>)\n"
     ]
    }
   ],
   "source": [
    "print(target)\n",
    "temp =model(data)\n",
    "print(temp)"
   ]
  },
  {
   "cell_type": "code",
   "execution_count": 56,
   "metadata": {},
   "outputs": [],
   "source": [
    "test_loss = np.array(test_loss)/len(testset)"
   ]
  },
  {
   "cell_type": "code",
   "execution_count": 63,
   "metadata": {},
   "outputs": [
    {
     "data": {
      "image/png": "[encoded data removed]",
      "text/plain": [
       "<Figure size 432x288 with 1 Axes>"
      ]
     },
     "metadata": {},
     "output_type": "display_data"
    }
   ],
   "source": [
    "plt.plot(train_loss)\n",
    "plt.plot(test_loss)\n",
    "plt.legend([\"train loss\",\"test loss\"])\n",
    "plt.title(\"Loss for recurrent network on medium companies\")\n",
    "plt.xlabel(\"epochs\")\n",
    "# plt.savefig(\"loss_plot_mc\")\n",
    "plt.show()"
   ]
  },
  {
   "cell_type": "code",
   "execution_count": 64,
   "metadata": {},
   "outputs": [
    {
     "data": {
      "application/vnd.jupyter.widget-view+json": {
       "model_id": "6d3c6532705c495aa4ff560f5456f751",
       "version_major": 2,
       "version_minor": 0
      },
      "text/plain": [
       "HBox(children=(IntProgress(value=0, max=151), HTML(value='')))"
      ]
     },
     "metadata": {},
     "output_type": "display_data"
    },
    {
     "name": "stdout",
     "output_type": "stream",
     "text": [
      "\n",
      "baseline error: 20367.4\n"
     ]
    }
   ],
   "source": [
    "#predicts the average over the last 3 years\n",
    "baseline_loss = 0\n",
    "for minibatch_no, (data, target) in tqdm(enumerate(train_loader), total=len(train_loader)):  \n",
    "    y_pred = data[:,:,0].mean(1)\n",
    "#     y_pred = data.mean(1)\n",
    "    loss = critirion(y_pred,target)\n",
    "    baseline_loss += loss.numpy()\n",
    "baseline_loss /= len(trainset)\n",
    "print(\"baseline error: {error:.1f}\".format(error =baseline_loss))"
   ]
  },
  {
   "cell_type": "code",
   "execution_count": null,
   "metadata": {},
   "outputs": [],
   "source": [
    "# torch.save(model.state_dict(),\"Current_Assets\")"
   ]
  }
 ],
 "metadata": {
  "kernelspec": {
   "display_name": "Python 3",
   "language": "python",
   "name": "python3"
  },
  "language_info": {
   "codemirror_mode": {
    "name": "ipython",
    "version": 3
   },
   "file_extension": ".py",
   "mimetype": "text/x-python",
   "name": "python",
   "nbconvert_exporter": "python",
   "pygments_lexer": "ipython3",
   "version": "3.6.5"
  }
 },
 "nbformat": 4,
 "nbformat_minor": 2
}
