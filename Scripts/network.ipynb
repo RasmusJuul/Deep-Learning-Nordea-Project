{
 "cells": [
  {
   "cell_type": "code",
   "execution_count": 1,
   "metadata": {},
   "outputs": [],
   "source": [
    "import numpy as np\n",
    "import pandas as pd\n",
    "import matplotlib.pyplot as plt\n",
    "import os\n",
    "import torch\n",
    "from torch.autograd import Variable\n",
    "import torch.nn as nn\n",
    "import torch.optim as optim\n",
    "# from torchsummary import summary\n",
    "from torch.utils.data import DataLoader\n",
    "from torch.utils.data import Dataset\n",
    "from tqdm.notebook import tqdm\n",
    "# from tqdm import tqdm_notebook as tqdm\n",
    "from sklearn.model_selection import train_test_split\n",
    "from scipy.linalg import eigh\n",
    "from sklearn.preprocessing import normalize"
   ]
  },
  {
   "cell_type": "code",
   "execution_count": 2,
   "metadata": {},
   "outputs": [
    {
     "name": "stdout",
     "output_type": "stream",
     "text": [
      "The code will run on GPU. This is important so things run faster.\n"
     ]
    }
   ],
   "source": [
    "if torch.cuda.is_available():\n",
    "    print(\"The code will run on GPU. This is important so things run faster.\")\n",
    "else:\n",
    "    print(\"The code will run on CPU. You should probably not do this.\")\n",
    "device = torch.device('cuda' if torch.cuda.is_available() else 'cpu')"
   ]
  },
  {
   "cell_type": "code",
   "execution_count": 3,
   "metadata": {},
   "outputs": [],
   "source": [
    "class dataset:\n",
    "    def __init__(self,data,target):\n",
    "        self.data = data\n",
    "        self.target = target\n",
    "    \n",
    "    def __len__(self):\n",
    "        return len(self.data)\n",
    "    \n",
    "    def __getitem__(self,idx):\n",
    "        if torch.is_tensor(idx):\n",
    "            idx = idx.tolist()\n",
    "        X = self.data[idx]\n",
    "        y = self.target[idx]\n",
    "        \n",
    "        return X,y"
   ]
  },
  {
   "cell_type": "markdown",
   "metadata": {},
   "source": [
    "0:year,1:Start_date,2:ProfitLoss,3:GrossResult,4:Assets,5:AverageNumberOfEmployees,6:Equity,7:AddressOfReportingEntityPostCodeIdentifier"
   ]
  },
  {
   "cell_type": "code",
   "execution_count": 4,
   "metadata": {},
   "outputs": [],
   "source": [
    "years = 6\n",
    "data = np.load('data_train_{}.npy'.format(years),allow_pickle=True)\n",
    "target = np.load('data_target_{}.npy'.format(years),allow_pickle=True)"
   ]
  },
  {
   "cell_type": "code",
   "execution_count": 5,
   "metadata": {},
   "outputs": [],
   "source": [
    "#Changes address to first number in postcode or 0 if there isn't one\n",
    "data = data[:,:,2:] \n",
    "target = target[:,2:]\n",
    "'''\n",
    "0:ProfitLoss,1:GrossResult,2:Assets,3:AverageNumberOfEmployees,4:Equity,5:AddressOfReportingEntityPostCodeIdentifier\n",
    "'''\n",
    "for i in range(data.shape[0]):\n",
    "    for j in range(data.shape[1]):\n",
    "        try:\n",
    "            data[i,j,5] = int(str(data[i,j,5])[0])\n",
    "        except:\n",
    "            data[i,j,5] = 0\n",
    "for i in range(target.shape[0]):\n",
    "    try:\n",
    "        target[i,5] = int(str(target[i,5])[0])\n",
    "    except:\n",
    "        target[i,5] = 0"
   ]
  },
  {
   "cell_type": "code",
   "execution_count": 6,
   "metadata": {},
   "outputs": [
    {
     "name": "stderr",
     "output_type": "stream",
     "text": [
      "D:\\Programmer\\Anaconda\\envs\\Deep learning\\lib\\site-packages\\ipykernel_launcher.py:13: DeprecationWarning: using a non-integer array as obj in delete will result in an error in the future\n",
      "  del sys.path[0]\n",
      "D:\\Programmer\\Anaconda\\envs\\Deep learning\\lib\\site-packages\\ipykernel_launcher.py:14: DeprecationWarning: using a non-integer array as obj in delete will result in an error in the future\n",
      "  \n"
     ]
    }
   ],
   "source": [
    "#remove remaining strings\n",
    "index_of_string = []\n",
    "for i in range(data.shape[0]):\n",
    "    for j in range(data.shape[1]):\n",
    "        for k in range(data.shape[2]):\n",
    "            try:\n",
    "                float(data[i,j,k])\n",
    "            except:\n",
    "                index_of_string.append((i))\n",
    "                \n",
    "index_of_string = np.array(index_of_string)\n",
    "index_of_string = np.unique(index_of_string)                \n",
    "data = np.delete(data,index_of_string,axis=0)\n",
    "target = np.delete(target,index_of_string,axis=0)"
   ]
  },
  {
   "cell_type": "code",
   "execution_count": 7,
   "metadata": {},
   "outputs": [
    {
     "name": "stderr",
     "output_type": "stream",
     "text": [
      "D:\\Programmer\\Anaconda\\envs\\Deep learning\\lib\\site-packages\\ipykernel_launcher.py:10: DeprecationWarning: using a non-integer array as obj in delete will result in an error in the future\n",
      "  # Remove the CWD from sys.path while we load stuff.\n",
      "D:\\Programmer\\Anaconda\\envs\\Deep learning\\lib\\site-packages\\ipykernel_launcher.py:11: DeprecationWarning: using a non-integer array as obj in delete will result in an error in the future\n",
      "  # This is added back by InteractiveShellApp.init_path()\n"
     ]
    }
   ],
   "source": [
    "#remove nan\n",
    "nan_ = []\n",
    "for i in range(data.shape[0]):\n",
    "    for j in range(data.shape[1]):\n",
    "        for k in range(data.shape[2]):\n",
    "            if np.isnan(data[i,j,k]):\n",
    "                nan_.append(i)\n",
    "nan_ = np.array(nan_)\n",
    "nan_ = np.unique(nan_)\n",
    "data = np.delete(data,nan_,axis=0)\n",
    "target = np.delete(target,nan_,axis=0)"
   ]
  },
  {
   "cell_type": "code",
   "execution_count": 8,
   "metadata": {},
   "outputs": [],
   "source": [
    "#removes any entry with a zero in profitloss, GrossResult, assets or equity\n",
    "has_zero = []\n",
    "for i in range(data.shape[0]):\n",
    "    for j in range(data.shape[1]):\n",
    "        if data[i,j,0] == 0 or data[i,j,1] == 0 or data[i,j,2] == 0 or data[i,j,4] == 0:\n",
    "            has_zero.append(i)\n",
    "has_zero = np.unique(np.array(has_zero))\n",
    "data = np.delete(data,has_zero,axis=0)\n",
    "target = np.delete(target,has_zero,axis=0)"
   ]
  },
  {
   "cell_type": "code",
   "execution_count": 9,
   "metadata": {},
   "outputs": [
    {
     "name": "stdout",
     "output_type": "stream",
     "text": [
      "86\n",
      "19\n",
      "1666\n",
      "2568\n",
      "516\n",
      "878\n"
     ]
    }
   ],
   "source": [
    "big_company_pos = []\n",
    "medium_company_pos = []\n",
    "small_company_pos = []\n",
    "big_company_neg = []\n",
    "medium_company_neg = []\n",
    "small_company_neg = []\n",
    "\n",
    "for i in range(data.shape[0]):\n",
    "    if np.median(data[i,:,1]) < 0:\n",
    "        if np.mean(data[i,:,2]) < 100000:\n",
    "            small_company_neg.append(i)\n",
    "        elif np.mean(data[i,:,2]) > 100000 and np.mean(data[i,:,2]) < 10000000:\n",
    "            medium_company_neg.append(i)\n",
    "        else:\n",
    "            big_company_neg.append(i)\n",
    "    else:\n",
    "        if np.mean(data[i,:,2]) < 100000:\n",
    "            small_company_pos.append(i)\n",
    "        elif np.mean(data[i,:,2]) > 100000 and np.mean(data[i,:,2]) < 10000000:\n",
    "            medium_company_pos.append(i)\n",
    "        else:\n",
    "            big_company_pos.append(i)\n",
    "\n",
    "print(len(small_company_neg))\n",
    "print(len(small_company_pos))\n",
    "print(len(medium_company_neg))\n",
    "print(len(medium_company_pos))\n",
    "print(len(big_company_neg))\n",
    "print(len(big_company_pos))"
   ]
  },
  {
   "cell_type": "code",
   "execution_count": 10,
   "metadata": {},
   "outputs": [],
   "source": [
    "# small_company = []\n",
    "# medium_company = []\n",
    "# big_company = []\n",
    "# for i in range(data.shape[0]):\n",
    "#     if np.mean(data[i,:,2]) < 100000:\n",
    "#         small_company.append(i)\n",
    "#     elif np.mean(data[i,:,2]) > 100000 and np.mean(data[i,:,2]) < 10000000:\n",
    "#         medium_company.append(i)\n",
    "#     else:\n",
    "#         big_company.append(i)\n",
    "        \n",
    "# print(len(small_company))        \n",
    "# print(len(medium_company))\n",
    "# print(len(big_company))"
   ]
  },
  {
   "cell_type": "code",
   "execution_count": 11,
   "metadata": {},
   "outputs": [],
   "source": [
    "data = data.astype(\"float\")\n",
    "target = target.astype(\"float\")"
   ]
  },
  {
   "cell_type": "code",
   "execution_count": 12,
   "metadata": {},
   "outputs": [],
   "source": [
    "data = data[medium_company_pos]\n",
    "target = target[medium_company_pos]\n",
    "# data_small = data[small_company]\n",
    "# target_small = target[small_company]\n",
    "# data_medium = data[medium_company]\n",
    "# target_medium = target[medium_company]"
   ]
  },
  {
   "cell_type": "code",
   "execution_count": 13,
   "metadata": {},
   "outputs": [],
   "source": [
    "data = data[:,:,0:3]\n",
    "features = data.shape[2]"
   ]
  },
  {
   "cell_type": "code",
   "execution_count": 14,
   "metadata": {},
   "outputs": [],
   "source": [
    "data = torch.from_numpy(data).float()\n",
    "# data = data.permute(0,2,1) # Needed if using CNN\n",
    "target = torch.from_numpy(target).float()\n",
    "\n",
    "#target index\n",
    "target_index = 1\n",
    "\n",
    "train_idx,test_idx = train_test_split(np.arange(data.shape[0]),test_size=0.1)\n",
    "\n",
    "train_data = data[train_idx,:,:]\n",
    "train_target = target[train_idx,target_index] \n",
    "test_data = data[test_idx,:,:]\n",
    "test_target = target[test_idx,target_index]\n",
    "\n",
    "trainset = dataset(train_data,train_target)\n",
    "testset = dataset(test_data,test_target)"
   ]
  },
  {
   "cell_type": "code",
   "execution_count": 15,
   "metadata": {},
   "outputs": [],
   "source": [
    "# #for data_grouped.npy\n",
    "# zeros_ = np.zeros(6)\n",
    "# for i in range(6):\n",
    "#     temp = data[:,:,i].clone()\n",
    "#     zeros_[i] = temp[temp==0].shape[0]\n",
    "    \n",
    "# pct_zeros = zeros_/(data.shape[0]*3)\n",
    "# print('0:ProfitLoss, 1:GrossResult, 2:Assets,3:AverageNumberOfEmployees, 4:Equity, 5:AddressOfReportingEntityPostCodeIdentifier')\n",
    "# print(pct_zeros)"
   ]
  },
  {
   "cell_type": "code",
   "execution_count": 16,
   "metadata": {},
   "outputs": [],
   "source": [
    "batch_size=100\n",
    "\n",
    "train_loader = DataLoader(trainset, batch_size=batch_size, shuffle=True, num_workers=0)\n",
    "test_loader = DataLoader(testset, batch_size=batch_size, shuffle=False, num_workers=0)"
   ]
  },
  {
   "cell_type": "code",
   "execution_count": 17,
   "metadata": {},
   "outputs": [
    {
     "data": {
      "image/png": "[encoded data removed]",
      "text/plain": [
       "<Figure size 432x288 with 1 Axes>"
      ]
     },
     "metadata": {
      "needs_background": "light"
     },
     "output_type": "display_data"
    },
    {
     "data": {
      "image/png": "[encoded data removed]",
      "text/plain": [
       "<Figure size 432x288 with 1 Axes>"
      ]
     },
     "metadata": {
      "needs_background": "light"
     },
     "output_type": "display_data"
    }
   ],
   "source": [
    "temp = data.clone()\n",
    "temp = temp.view(temp.shape[0]*temp.shape[1],temp.shape[2])\n",
    "temp = temp.numpy()\n",
    "\n",
    "# #standardize data \n",
    "temp = temp-np.ones((temp.shape[0],1))*temp.mean(0)\n",
    "temp = temp*(1/np.std(temp,0))\n",
    "#compute covariance matrix\n",
    "S = np.cov(temp.T)\n",
    "\n",
    "#obtain eigen values and eigen vectors\n",
    "eigenValues, eigenVectors = eigh(S)\n",
    "idx_ord = np.argsort(eigenValues)[::-1]\n",
    "eigenValues = eigenValues[idx_ord]\n",
    "eigenVectors = eigenVectors[:,idx_ord]\n",
    "\n",
    "#plot cummulative variance explained    \n",
    "summ = eigenValues.sum()\n",
    "cumsum = 0\n",
    "total_var_explained = np.zeros(features)\n",
    "for i in range(features):    \n",
    "    cumsum = cumsum + eigenValues[i]\n",
    "    total_var_explained[i]=(cumsum/summ)\n",
    "    \n",
    "fig, ax = plt.subplots()\n",
    "ax.plot(total_var_explained,'-o')\n",
    "#ax.axhline(0.90,linestyle='--')\n",
    "plt.grid();\n",
    "#plt.xlim(-1,50)\n",
    "#plt.ylim(0,1)\n",
    "plt.title('Variance explained' )\n",
    "plt.ylabel('Cummulative sum')\n",
    "plt.xlabel('Principle components')\n",
    "# plt.savefig(\"variance_explained\")\n",
    "plt.show()\n",
    "\n",
    "M=features\n",
    "pcs = np.arange(features)\n",
    "#pcs = np.array([3,10])\n",
    "legendStrs = ['PC'+str(e+1) for e in pcs]\n",
    "c = ['r','g','b']\n",
    "bw = .15\n",
    "r = np.arange(1,M+1)\n",
    "for i in pcs:    \n",
    "   plt.bar(r+i*bw/2, eigenVectors[:,i], width=bw)\n",
    "plt.xticks(r+bw, np.arange(1,13))\n",
    "plt.xlabel('Attributes')\n",
    "plt.ylabel('Component coefficients')\n",
    "plt.legend(legendStrs,loc=1, bbox_to_anchor=(1.2,1))\n",
    "plt.grid()\n",
    "plt.title('PCA Component Coefficients')\n",
    "plt.show()"
   ]
  },
  {
   "cell_type": "code",
   "execution_count": 18,
   "metadata": {},
   "outputs": [],
   "source": [
    "# #Picking principle components to project the data into\n",
    "# eigenvectors1 = eigenVectors[:, 0]\n",
    "# eigenvectors2 = eigenVectors[:, 1]\n",
    "# eigenvectors3 = eigenVectors[:, 2]\n",
    "# eigenvectors4 = eigenVectors[:, 3]\n",
    "# eigenvectors = np.vstack((eigenvectors1,eigenvectors2,eigenvectors3,eigenvectors4)).T\n",
    "\n",
    "# ## now we have to project our vectors in this new base\n",
    "# transformed_data = temp @ eigenvectors\n",
    "\n",
    "# fig,ax = plt.subplots(3,1,figsize=(10,15))\n",
    "# ax[0].scatter(transformed_data[:, 0], transformed_data[:, 1])\n",
    "# ax[0].set_title('Data projection into 2D PC space')\n",
    "# ax[0].set_xlabel('Principle component 1')\n",
    "# ax[0].set_ylabel('Principle component 2')\n",
    "# ax[1].scatter(transformed_data[:, 0], transformed_data[:, 2])\n",
    "# ax[1].set_title('Data projection into 2D PC space')\n",
    "# ax[1].set_xlabel('Principle component 1')\n",
    "# ax[1].set_ylabel('Principle component 3')\n",
    "# ax[2].scatter(transformed_data[:, 0], transformed_data[:, 3])\n",
    "# ax[2].set_title('Data projection into 2D PC space')\n",
    "# ax[2].set_xlabel('Principle component 1')\n",
    "# ax[2].set_ylabel('Principle component 4')\n",
    "# #plt.rcParams.update({'figure.autolayout': True})\n",
    "# plt.show()"
   ]
  },
  {
   "cell_type": "code",
   "execution_count": 19,
   "metadata": {},
   "outputs": [],
   "source": [
    "class RecurrentNetSkip(nn.Module):\n",
    "    def __init__(self,years,p):\n",
    "        super(RecurrentNetSkip, self).__init__()\n",
    "        \n",
    "#         self.linearIn = nn.Sequential(nn.Linear(in_features=years,out_features=6),\n",
    "#                                       nn.ReLU(),\n",
    "#                                       nn.Linear(6,10)) \n",
    "        self.rnn = nn.GRU(input_size=features,\n",
    "                          hidden_size=10,\n",
    "                          num_layers=years,\n",
    "                          batch_first=True)\n",
    "        self.linearOut = nn.Sequential(nn.Linear(in_features=(10+features)*years,out_features=50),\n",
    "                                       nn.ReLU(),\n",
    "                                       nn.Dropout(p=p),\n",
    "                                       nn.Linear(50,20),\n",
    "                                       nn.ReLU(),\n",
    "                                       nn.Dropout(p=p),\n",
    "                                       nn.Linear(20,1)) #change to 2 for predicting normal distribution\n",
    "\n",
    "        \n",
    "    def forward(self, x): #x = [batch_size,years,6]\n",
    "        \n",
    "#         x1 = self.linearIn(x[:,0,:]) #[batch_size,6]\n",
    "#         x2 = self.linearIn(x[:,1,:]) #[batch_size,6]\n",
    "#         x3 = self.linearIn(x[:,2,:]) #[batch_size,6]\n",
    "#         x1 = x1.unsqueeze(1) #[batch_size,1,6]\n",
    "#         x2 = x2.unsqueeze(1) #[batch_size,1,6]\n",
    "#         x3 = x3.unsqueeze(1) #[batch_size,1,6]     \n",
    "#         temp = []\n",
    "#         temp.append(x1)\n",
    "#         temp.append(x2)\n",
    "#         temp.append(x3)\n",
    "#         z = torch.cat(temp,dim=1) #[batch_size,3,6]\n",
    "        \n",
    "#         y = torch.cat((z,x),dim=2) #[batch_size,3,12]\n",
    "                                            \n",
    "        y,_ = self.rnn(x) #[batch_size,years,50]\n",
    "        \n",
    "        x = torch.cat((x,y),dim=2) #[batch_size,years,50+3]\n",
    "        \n",
    "        x = x.reshape(x.shape[0],-1) #[batch_size,(50+3)*years]\n",
    "                       \n",
    "        x = self.linearOut(x) #[batch_size,1], [batch_size,2] if predicting normal distribution\n",
    "        x = x.view(-1)\n",
    "        return x\n"
   ]
  },
  {
   "cell_type": "code",
   "execution_count": 20,
   "metadata": {},
   "outputs": [],
   "source": [
    "class RecurrentNet(nn.Module):\n",
    "    def __init__(self,years,p):\n",
    "        super(RecurrentNet, self).__init__()\n",
    "        \n",
    "#         self.linearIn = nn.Sequential(nn.Linear(in_features=years,out_features=6),\n",
    "#                                       nn.ReLU(),\n",
    "#                                       nn.Linear(6,10)) \n",
    "        self.rnn = nn.GRU(input_size=features,\n",
    "                          hidden_size=10,\n",
    "                          num_layers=years,\n",
    "                          batch_first=True)\n",
    "        self.linearOut = nn.Sequential(nn.Linear(in_features=10*years,out_features=50),\n",
    "                                       nn.ReLU(),\n",
    "                                       nn.Dropout(p=p),\n",
    "                                       nn.Linear(50,20),\n",
    "                                       nn.ReLU(),\n",
    "                                       nn.Dropout(p=p),\n",
    "                                       nn.Linear(20,1)) #change to 2 for predicting normal distribution\n",
    "\n",
    "        \n",
    "    def forward(self, x): #x = [batch_size,years,3]\n",
    "#         x1 = self.linearIn(x[:,0,:]) #[batch_size,6]\n",
    "#         x2 = self.linearIn(x[:,1,:]) #[batch_size,6]\n",
    "#         x3 = self.linearIn(x[:,2,:]) #[batch_size,6]\n",
    "#         x1 = x1.unsqueeze(1) #[batch_size,1,6]\n",
    "#         x2 = x2.unsqueeze(1) #[batch_size,1,6]\n",
    "#         x3 = x3.unsqueeze(1) #[batch_size,1,6]     \n",
    "#         temp = []\n",
    "#         temp.append(x1)\n",
    "#         temp.append(x2)\n",
    "#         temp.append(x3)\n",
    "#         x = torch.cat(temp,dim=1) #[batch_size,3,6]\n",
    "                                            \n",
    "        x,_ = self.rnn(x) #[batch_size,years,50]\n",
    "        \n",
    "        x = x.reshape(x.shape[0],-1) #[batch_size,50*years]\n",
    "                       \n",
    "        x = self.linearOut(x) #[batch_size,1], [batch_size,2] if predicting normal distribution\n",
    "        x = x.view(-1)\n",
    "        return x\n"
   ]
  },
  {
   "cell_type": "code",
   "execution_count": 21,
   "metadata": {},
   "outputs": [],
   "source": [
    "class LinearNet(nn.Module):\n",
    "    def __init__(self,years,p):\n",
    "        super(LinearNet, self).__init__()\n",
    "        \n",
    "        self.linear = nn.Sequential(nn.Linear(in_features=features*years,out_features=40),\n",
    "                                   nn.ReLU(),\n",
    "                                   nn.Dropout(p=p),\n",
    "                                   nn.Linear(40,60),\n",
    "                                   nn.ReLU(),\n",
    "                                   nn.Dropout(p=p),\n",
    "                                   nn.Linear(60,20),\n",
    "                                   nn.ReLU(),\n",
    "                                   nn.Dropout(p=p),\n",
    "                                   nn.Linear(20,1))\n",
    "\n",
    "        \n",
    "    def forward(self, x): #x = [batch_size,3,3]\n",
    "        x = x.view(x.shape[0],-1)\n",
    "        x = self.linear(x)\n",
    "        x = x.view(-1)\n",
    "        return x\n"
   ]
  },
  {
   "cell_type": "code",
   "execution_count": 22,
   "metadata": {},
   "outputs": [],
   "source": [
    "def cost(mu,sigma,y):\n",
    "    sigma = torch.abs(sigma)\n",
    "    dist = torch.distributions.normal.Normal(mu, sigma)\n",
    "    return torch.mean(-dist.log_prob(y))\n",
    "\n",
    "def percent_loss(pred,target):\n",
    "    count_bad_pred = 0\n",
    "    temp = pred < torch.ones(pred.shape[0])*1000\n",
    "    temp2 = pred > torch.ones(pred.shape[0])*-1000\n",
    "    for i in range(pred.shape[0]):\n",
    "        if temp[i] == temp2[i]:\n",
    "            count_bad_pred += 1\n",
    "\n",
    "    return torch.sum(torch.abs(torch.abs(pred-target)/(target+1)))+count_bad_pred*10000"
   ]
  },
  {
   "cell_type": "code",
   "execution_count": 36,
   "metadata": {},
   "outputs": [],
   "source": [
    "model1 = LinearNet(years,0.15)\n",
    "model2 = RecurrentNet(years,0.15)\n",
    "model3 = RecurrentNetSkip(years,0.15)\n",
    "\n",
    "# model1 = RecurrentNet(years,0.15)\n",
    "\n",
    "model1.to(device)\n",
    "model2.to(device)\n",
    "model3.to(device)\n",
    "lr = 1e-3\n",
    "optimizer1 = optim.Adam(model1.parameters(), lr=lr)\n",
    "optimizer2 = optim.Adam(model2.parameters(), lr=lr)\n",
    "optimizer3 = optim.Adam(model3.parameters(), lr=lr)\n",
    "\n",
    "critirion = nn.SmoothL1Loss()"
   ]
  },
  {
   "cell_type": "code",
   "execution_count": 37,
   "metadata": {},
   "outputs": [
    {
     "data": {
      "application/vnd.jupyter.widget-view+json": {
       "model_id": "0341c509356748df83fda0c4aa30e411",
       "version_major": 2,
       "version_minor": 0
      },
      "text/plain": [
       "HBox(children=(IntProgress(value=0, max=50), HTML(value='')))"
      ]
     },
     "metadata": {},
     "output_type": "display_data"
    },
    {
     "data": {
      "application/vnd.jupyter.widget-view+json": {
       "model_id": "1e5e1d3008d14172b8ede4eee2e6730c",
       "version_major": 2,
       "version_minor": 0
      },
      "text/plain": [
       "HBox(children=(IntProgress(value=0, max=24), HTML(value='')))"
      ]
     },
     "metadata": {},
     "output_type": "display_data"
    },
    {
     "name": "stdout",
     "output_type": "stream",
     "text": [
      "\n",
      "train error 1: 16891.8\t test error 1: 16571.4\n",
      " train error 2: 19910.3\t test error 2: 23976.1\n",
      " train error 3: 18945.1\t test error 3: 19334.7\n"
     ]
    },
    {
     "data": {
      "application/vnd.jupyter.widget-view+json": {
       "model_id": "226b1e3436cf430480bda052f1606b0b",
       "version_major": 2,
       "version_minor": 0
      },
      "text/plain": [
       "HBox(children=(IntProgress(value=0, max=24), HTML(value='')))"
      ]
     },
     "metadata": {},
     "output_type": "display_data"
    },
    {
     "name": "stdout",
     "output_type": "stream",
     "text": [
      "\n",
      "train error 1: 11349.8\t test error 1: 11092.6\n",
      " train error 2: 19590.8\t test error 2: 23976.1\n",
      " train error 3: 14042.2\t test error 3: 13799.2\n"
     ]
    },
    {
     "data": {
      "application/vnd.jupyter.widget-view+json": {
       "model_id": "04536bf0ac6843da8875afbfc37c1686",
       "version_major": 2,
       "version_minor": 0
      },
      "text/plain": [
       "HBox(children=(IntProgress(value=0, max=24), HTML(value='')))"
      ]
     },
     "metadata": {},
     "output_type": "display_data"
    },
    {
     "name": "stdout",
     "output_type": "stream",
     "text": [
      "\n",
      "train error 1: 7830.2\t test error 1: 9664.1\n",
      " train error 2: 19911.2\t test error 2: 23975.9\n",
      " train error 3: 9190.2\t test error 3: 9759.1\n"
     ]
    },
    {
     "data": {
      "application/vnd.jupyter.widget-view+json": {
       "model_id": "9826b7edda7449bca791177b39bc6163",
       "version_major": 2,
       "version_minor": 0
      },
      "text/plain": [
       "HBox(children=(IntProgress(value=0, max=24), HTML(value='')))"
      ]
     },
     "metadata": {},
     "output_type": "display_data"
    },
    {
     "name": "stdout",
     "output_type": "stream",
     "text": [
      "\n",
      "train error 1: 7449.6\t test error 1: 8673.0\n",
      " train error 2: 19814.3\t test error 2: 23975.6\n",
      " train error 3: 7901.9\t test error 3: 8642.6\n"
     ]
    },
    {
     "data": {
      "application/vnd.jupyter.widget-view+json": {
       "model_id": "d4d16672e5854e098c5ceebe4aa9ac4b",
       "version_major": 2,
       "version_minor": 0
      },
      "text/plain": [
       "HBox(children=(IntProgress(value=0, max=24), HTML(value='')))"
      ]
     },
     "metadata": {},
     "output_type": "display_data"
    },
    {
     "name": "stdout",
     "output_type": "stream",
     "text": [
      "\n",
      "train error 1: 6950.1\t test error 1: 8374.4\n",
      " train error 2: 19645.5\t test error 2: 23975.0\n",
      " train error 3: 6991.3\t test error 3: 8022.1\n"
     ]
    },
    {
     "data": {
      "application/vnd.jupyter.widget-view+json": {
       "model_id": "a133f560c6544e4f9c351b6d26c139a4",
       "version_major": 2,
       "version_minor": 0
      },
      "text/plain": [
       "HBox(children=(IntProgress(value=0, max=24), HTML(value='')))"
      ]
     },
     "metadata": {},
     "output_type": "display_data"
    },
    {
     "name": "stdout",
     "output_type": "stream",
     "text": [
      "\n",
      "train error 1: 6937.7\t test error 1: 7796.0\n",
      " train error 2: 19851.1\t test error 2: 23974.0\n",
      " train error 3: 6955.0\t test error 3: 7375.1\n"
     ]
    },
    {
     "data": {
      "application/vnd.jupyter.widget-view+json": {
       "model_id": "c2055a0606684f6f95aa55a22b41f576",
       "version_major": 2,
       "version_minor": 0
      },
      "text/plain": [
       "HBox(children=(IntProgress(value=0, max=24), HTML(value='')))"
      ]
     },
     "metadata": {},
     "output_type": "display_data"
    },
    {
     "name": "stdout",
     "output_type": "stream",
     "text": [
      "\n",
      "train error 1: 6736.7\t test error 1: 7826.3\n",
      " train error 2: 20105.2\t test error 2: 23972.5\n",
      " train error 3: 6582.0\t test error 3: 7283.2\n"
     ]
    },
    {
     "data": {
      "application/vnd.jupyter.widget-view+json": {
       "model_id": "8108a1022d314579857a2045bf0730b8",
       "version_major": 2,
       "version_minor": 0
      },
      "text/plain": [
       "HBox(children=(IntProgress(value=0, max=24), HTML(value='')))"
      ]
     },
     "metadata": {},
     "output_type": "display_data"
    },
    {
     "name": "stdout",
     "output_type": "stream",
     "text": [
      "\n",
      "train error 1: 7070.1\t test error 1: 7687.7\n",
      " train error 2: 20238.3\t test error 2: 23970.4\n",
      " train error 3: 6942.2\t test error 3: 7542.2\n"
     ]
    },
    {
     "data": {
      "application/vnd.jupyter.widget-view+json": {
       "model_id": "6b1e43775ac748dbb7d3feccb2582487",
       "version_major": 2,
       "version_minor": 0
      },
      "text/plain": [
       "HBox(children=(IntProgress(value=0, max=24), HTML(value='')))"
      ]
     },
     "metadata": {},
     "output_type": "display_data"
    },
    {
     "name": "stdout",
     "output_type": "stream",
     "text": [
      "\n",
      "train error 1: 6609.2\t test error 1: 7643.1\n",
      " train error 2: 19846.5\t test error 2: 23967.6\n",
      " train error 3: 6309.2\t test error 3: 7208.4\n"
     ]
    },
    {
     "data": {
      "application/vnd.jupyter.widget-view+json": {
       "model_id": "8406e3f1a9d94bb684e0a619aa565ed7",
       "version_major": 2,
       "version_minor": 0
      },
      "text/plain": [
       "HBox(children=(IntProgress(value=0, max=24), HTML(value='')))"
      ]
     },
     "metadata": {},
     "output_type": "display_data"
    },
    {
     "name": "stdout",
     "output_type": "stream",
     "text": [
      "\n",
      "train error 1: 6270.2\t test error 1: 7412.3\n",
      " train error 2: 19737.6\t test error 2: 23964.0\n",
      " train error 3: 6323.7\t test error 3: 7148.7\n"
     ]
    },
    {
     "data": {
      "application/vnd.jupyter.widget-view+json": {
       "model_id": "6f9814da17ce46e186e701f22b70bb60",
       "version_major": 2,
       "version_minor": 0
      },
      "text/plain": [
       "HBox(children=(IntProgress(value=0, max=24), HTML(value='')))"
      ]
     },
     "metadata": {},
     "output_type": "display_data"
    },
    {
     "name": "stdout",
     "output_type": "stream",
     "text": [
      "\n",
      "train error 1: 6878.4\t test error 1: 7226.6\n",
      " train error 2: 20492.7\t test error 2: 23959.6\n",
      " train error 3: 6560.0\t test error 3: 6863.8\n"
     ]
    },
    {
     "data": {
      "application/vnd.jupyter.widget-view+json": {
       "model_id": "4d25408ff3dc4a30bb547a86d791cef5",
       "version_major": 2,
       "version_minor": 0
      },
      "text/plain": [
       "HBox(children=(IntProgress(value=0, max=24), HTML(value='')))"
      ]
     },
     "metadata": {},
     "output_type": "display_data"
    },
    {
     "name": "stdout",
     "output_type": "stream",
     "text": [
      "\n",
      "train error 1: 6335.1\t test error 1: 7102.4\n",
      " train error 2: 19641.1\t test error 2: 23954.2\n",
      " train error 3: 6234.4\t test error 3: 6623.3\n"
     ]
    },
    {
     "data": {
      "application/vnd.jupyter.widget-view+json": {
       "model_id": "80e6f0ca9ad1475ebe998afd2588f79f",
       "version_major": 2,
       "version_minor": 0
      },
      "text/plain": [
       "HBox(children=(IntProgress(value=0, max=24), HTML(value='')))"
      ]
     },
     "metadata": {},
     "output_type": "display_data"
    },
    {
     "name": "stdout",
     "output_type": "stream",
     "text": [
      "\n",
      "train error 1: 6666.6\t test error 1: 6999.9\n",
      " train error 2: 20168.5\t test error 2: 23947.8\n",
      " train error 3: 6278.3\t test error 3: 6653.3\n"
     ]
    },
    {
     "data": {
      "application/vnd.jupyter.widget-view+json": {
       "model_id": "9a7e14a01e0842388cd27dfb9e3d36a0",
       "version_major": 2,
       "version_minor": 0
      },
      "text/plain": [
       "HBox(children=(IntProgress(value=0, max=24), HTML(value='')))"
      ]
     },
     "metadata": {},
     "output_type": "display_data"
    },
    {
     "name": "stdout",
     "output_type": "stream",
     "text": [
      "\n",
      "train error 1: 6271.9\t test error 1: 7656.2\n",
      " train error 2: 19724.6\t test error 2: 23940.3\n",
      " train error 3: 6257.9\t test error 3: 6823.8\n"
     ]
    },
    {
     "data": {
      "application/vnd.jupyter.widget-view+json": {
       "model_id": "a4baf4fc6d664d5c83fe59162d8e23bf",
       "version_major": 2,
       "version_minor": 0
      },
      "text/plain": [
       "HBox(children=(IntProgress(value=0, max=24), HTML(value='')))"
      ]
     },
     "metadata": {},
     "output_type": "display_data"
    },
    {
     "name": "stdout",
     "output_type": "stream",
     "text": [
      "\n",
      "train error 1: 6281.4\t test error 1: 7419.8\n",
      " train error 2: 20181.2\t test error 2: 23931.5\n",
      " train error 3: 6317.5\t test error 3: 6534.5\n"
     ]
    },
    {
     "data": {
      "application/vnd.jupyter.widget-view+json": {
       "model_id": "9ab108d021f246faad0824516050cd19",
       "version_major": 2,
       "version_minor": 0
      },
      "text/plain": [
       "HBox(children=(IntProgress(value=0, max=24), HTML(value='')))"
      ]
     },
     "metadata": {},
     "output_type": "display_data"
    },
    {
     "name": "stdout",
     "output_type": "stream",
     "text": [
      "\n",
      "train error 1: 6311.4\t test error 1: 7748.3\n",
      " train error 2: 19688.3\t test error 2: 23921.5\n",
      " train error 3: 5911.0\t test error 3: 6510.2\n"
     ]
    },
    {
     "data": {
      "application/vnd.jupyter.widget-view+json": {
       "model_id": "73d1626a388e4623b0e76af028f5f512",
       "version_major": 2,
       "version_minor": 0
      },
      "text/plain": [
       "HBox(children=(IntProgress(value=0, max=24), HTML(value='')))"
      ]
     },
     "metadata": {},
     "output_type": "display_data"
    },
    {
     "name": "stdout",
     "output_type": "stream",
     "text": [
      "\n",
      "train error 1: 6454.5\t test error 1: 7789.7\n",
      " train error 2: 19671.6\t test error 2: 23910.2\n",
      " train error 3: 6015.2\t test error 3: 6784.7\n"
     ]
    },
    {
     "data": {
      "application/vnd.jupyter.widget-view+json": {
       "model_id": "c2d2530af3084e1888dd399f1164165a",
       "version_major": 2,
       "version_minor": 0
      },
      "text/plain": [
       "HBox(children=(IntProgress(value=0, max=24), HTML(value='')))"
      ]
     },
     "metadata": {},
     "output_type": "display_data"
    },
    {
     "name": "stdout",
     "output_type": "stream",
     "text": [
      "\n",
      "train error 1: 6203.5\t test error 1: 7012.2\n",
      " train error 2: 19775.0\t test error 2: 23897.9\n",
      " train error 3: 6129.8\t test error 3: 6782.8\n"
     ]
    },
    {
     "data": {
      "application/vnd.jupyter.widget-view+json": {
       "model_id": "208facbcf86745fa9890cd0ec20d264a",
       "version_major": 2,
       "version_minor": 0
      },
      "text/plain": [
       "HBox(children=(IntProgress(value=0, max=24), HTML(value='')))"
      ]
     },
     "metadata": {},
     "output_type": "display_data"
    },
    {
     "name": "stdout",
     "output_type": "stream",
     "text": [
      "\n",
      "train error 1: 6142.5\t test error 1: 7472.7\n",
      " train error 2: 20032.8\t test error 2: 23883.8\n",
      " train error 3: 6036.7\t test error 3: 6806.5\n"
     ]
    },
    {
     "data": {
      "application/vnd.jupyter.widget-view+json": {
       "model_id": "04df19d295f142b9840a216f16790d68",
       "version_major": 2,
       "version_minor": 0
      },
      "text/plain": [
       "HBox(children=(IntProgress(value=0, max=24), HTML(value='')))"
      ]
     },
     "metadata": {},
     "output_type": "display_data"
    },
    {
     "name": "stdout",
     "output_type": "stream",
     "text": [
      "\n",
      "train error 1: 5956.9\t test error 1: 7104.2\n",
      " train error 2: 19922.9\t test error 2: 23868.2\n",
      " train error 3: 5787.6\t test error 3: 6618.0\n"
     ]
    },
    {
     "data": {
      "application/vnd.jupyter.widget-view+json": {
       "model_id": "555abff370cb426cba7eaeefa432429d",
       "version_major": 2,
       "version_minor": 0
      },
      "text/plain": [
       "HBox(children=(IntProgress(value=0, max=24), HTML(value='')))"
      ]
     },
     "metadata": {},
     "output_type": "display_data"
    },
    {
     "name": "stdout",
     "output_type": "stream",
     "text": [
      "\n",
      "train error 1: 6117.5\t test error 1: 7392.9\n",
      " train error 2: 20428.0\t test error 2: 23851.2\n",
      " train error 3: 6403.0\t test error 3: 6552.1\n"
     ]
    },
    {
     "data": {
      "application/vnd.jupyter.widget-view+json": {
       "model_id": "17f7e189c05d484e9a3ad9becc7bb490",
       "version_major": 2,
       "version_minor": 0
      },
      "text/plain": [
       "HBox(children=(IntProgress(value=0, max=24), HTML(value='')))"
      ]
     },
     "metadata": {},
     "output_type": "display_data"
    },
    {
     "name": "stdout",
     "output_type": "stream",
     "text": [
      "\n",
      "train error 1: 6022.7\t test error 1: 7785.5\n",
      " train error 2: 19613.0\t test error 2: 23832.4\n",
      " train error 3: 5635.4\t test error 3: 6456.4\n"
     ]
    },
    {
     "data": {
      "application/vnd.jupyter.widget-view+json": {
       "model_id": "bd58c50fa3b94719999977534b78414f",
       "version_major": 2,
       "version_minor": 0
      },
      "text/plain": [
       "HBox(children=(IntProgress(value=0, max=24), HTML(value='')))"
      ]
     },
     "metadata": {},
     "output_type": "display_data"
    },
    {
     "name": "stdout",
     "output_type": "stream",
     "text": [
      "\n",
      "train error 1: 5978.7\t test error 1: 6917.3\n",
      " train error 2: 19562.1\t test error 2: 23812.1\n",
      " train error 3: 5597.5\t test error 3: 6379.6\n"
     ]
    },
    {
     "data": {
      "application/vnd.jupyter.widget-view+json": {
       "model_id": "6b3734d3fc854dab99ea76f993859290",
       "version_major": 2,
       "version_minor": 0
      },
      "text/plain": [
       "HBox(children=(IntProgress(value=0, max=24), HTML(value='')))"
      ]
     },
     "metadata": {},
     "output_type": "display_data"
    },
    {
     "name": "stdout",
     "output_type": "stream",
     "text": [
      "\n",
      "train error 1: 5977.4\t test error 1: 6747.3\n",
      " train error 2: 19986.0\t test error 2: 23790.6\n",
      " train error 3: 5718.1\t test error 3: 6331.6\n"
     ]
    },
    {
     "data": {
      "application/vnd.jupyter.widget-view+json": {
       "model_id": "82d0bc96ed834ada91fbe8bfc533796c",
       "version_major": 2,
       "version_minor": 0
      },
      "text/plain": [
       "HBox(children=(IntProgress(value=0, max=24), HTML(value='')))"
      ]
     },
     "metadata": {},
     "output_type": "display_data"
    },
    {
     "name": "stdout",
     "output_type": "stream",
     "text": [
      "\n",
      "train error 1: 6053.9\t test error 1: 6903.0\n",
      " train error 2: 19684.2\t test error 2: 23767.0\n",
      " train error 3: 5612.0\t test error 3: 6639.0\n"
     ]
    },
    {
     "data": {
      "application/vnd.jupyter.widget-view+json": {
       "model_id": "71a5ffb3cf364570b9eeb66f8e764b2a",
       "version_major": 2,
       "version_minor": 0
      },
      "text/plain": [
       "HBox(children=(IntProgress(value=0, max=24), HTML(value='')))"
      ]
     },
     "metadata": {},
     "output_type": "display_data"
    },
    {
     "name": "stdout",
     "output_type": "stream",
     "text": [
      "\n",
      "train error 1: 5775.4\t test error 1: 7300.3\n",
      " train error 2: 19239.1\t test error 2: 23741.7\n",
      " train error 3: 5674.0\t test error 3: 6589.9\n"
     ]
    },
    {
     "data": {
      "application/vnd.jupyter.widget-view+json": {
       "model_id": "ba313a2040104a80a50bfc3a810a1e27",
       "version_major": 2,
       "version_minor": 0
      },
      "text/plain": [
       "HBox(children=(IntProgress(value=0, max=24), HTML(value='')))"
      ]
     },
     "metadata": {},
     "output_type": "display_data"
    },
    {
     "name": "stdout",
     "output_type": "stream",
     "text": [
      "\n",
      "train error 1: 5931.4\t test error 1: 6983.7\n",
      " train error 2: 20367.1\t test error 2: 23714.5\n",
      " train error 3: 5540.7\t test error 3: 6461.5\n"
     ]
    },
    {
     "data": {
      "application/vnd.jupyter.widget-view+json": {
       "model_id": "e88c619ba1c14261b33cbdd879059fe6",
       "version_major": 2,
       "version_minor": 0
      },
      "text/plain": [
       "HBox(children=(IntProgress(value=0, max=24), HTML(value='')))"
      ]
     },
     "metadata": {},
     "output_type": "display_data"
    },
    {
     "name": "stdout",
     "output_type": "stream",
     "text": [
      "\n",
      "train error 1: 5957.8\t test error 1: 6773.5\n",
      " train error 2: 19534.6\t test error 2: 23685.5\n",
      " train error 3: 5698.6\t test error 3: 6378.1\n"
     ]
    },
    {
     "data": {
      "application/vnd.jupyter.widget-view+json": {
       "model_id": "00fccd4c7819451e9b2851b374dd5331",
       "version_major": 2,
       "version_minor": 0
      },
      "text/plain": [
       "HBox(children=(IntProgress(value=0, max=24), HTML(value='')))"
      ]
     },
     "metadata": {},
     "output_type": "display_data"
    },
    {
     "name": "stdout",
     "output_type": "stream",
     "text": [
      "\n",
      "train error 1: 6176.0\t test error 1: 6754.4\n",
      " train error 2: 20046.7\t test error 2: 23655.8\n",
      " train error 3: 5994.3\t test error 3: 6553.7\n"
     ]
    },
    {
     "data": {
      "application/vnd.jupyter.widget-view+json": {
       "model_id": "7d52d3f049004b4b9063b18a36299fbe",
       "version_major": 2,
       "version_minor": 0
      },
      "text/plain": [
       "HBox(children=(IntProgress(value=0, max=24), HTML(value='')))"
      ]
     },
     "metadata": {},
     "output_type": "display_data"
    },
    {
     "name": "stdout",
     "output_type": "stream",
     "text": [
      "\n",
      "train error 1: 5875.7\t test error 1: 6779.6\n",
      " train error 2: 19401.6\t test error 2: 23624.0\n",
      " train error 3: 5672.1\t test error 3: 6382.5\n"
     ]
    },
    {
     "data": {
      "application/vnd.jupyter.widget-view+json": {
       "model_id": "38f09f160af24295a1c4129696660697",
       "version_major": 2,
       "version_minor": 0
      },
      "text/plain": [
       "HBox(children=(IntProgress(value=0, max=24), HTML(value='')))"
      ]
     },
     "metadata": {},
     "output_type": "display_data"
    },
    {
     "name": "stdout",
     "output_type": "stream",
     "text": [
      "\n",
      "train error 1: 6070.6\t test error 1: 7034.9\n",
      " train error 2: 19575.9\t test error 2: 23590.4\n",
      " train error 3: 5538.1\t test error 3: 6577.2\n"
     ]
    },
    {
     "data": {
      "application/vnd.jupyter.widget-view+json": {
       "model_id": "e88f8ba376e24a2fb2365214319f347f",
       "version_major": 2,
       "version_minor": 0
      },
      "text/plain": [
       "HBox(children=(IntProgress(value=0, max=24), HTML(value='')))"
      ]
     },
     "metadata": {},
     "output_type": "display_data"
    },
    {
     "name": "stdout",
     "output_type": "stream",
     "text": [
      "\n",
      "train error 1: 6060.8\t test error 1: 6810.0\n",
      " train error 2: 19894.2\t test error 2: 23555.0\n",
      " train error 3: 5792.0\t test error 3: 6767.4\n"
     ]
    },
    {
     "data": {
      "application/vnd.jupyter.widget-view+json": {
       "model_id": "adf4650bf4b64fec8718dcbaf45aa66d",
       "version_major": 2,
       "version_minor": 0
      },
      "text/plain": [
       "HBox(children=(IntProgress(value=0, max=24), HTML(value='')))"
      ]
     },
     "metadata": {},
     "output_type": "display_data"
    },
    {
     "name": "stdout",
     "output_type": "stream",
     "text": [
      "\n",
      "train error 1: 5794.1\t test error 1: 6668.7\n",
      " train error 2: 19675.3\t test error 2: 23518.6\n",
      " train error 3: 5792.8\t test error 3: 6502.7\n"
     ]
    },
    {
     "data": {
      "application/vnd.jupyter.widget-view+json": {
       "model_id": "910441bc28144496987dc14051ce7734",
       "version_major": 2,
       "version_minor": 0
      },
      "text/plain": [
       "HBox(children=(IntProgress(value=0, max=24), HTML(value='')))"
      ]
     },
     "metadata": {},
     "output_type": "display_data"
    },
    {
     "name": "stdout",
     "output_type": "stream",
     "text": [
      "\n",
      "train error 1: 5890.8\t test error 1: 6606.8\n",
      " train error 2: 19031.8\t test error 2: 23481.3\n",
      " train error 3: 5636.4\t test error 3: 6682.7\n"
     ]
    },
    {
     "data": {
      "application/vnd.jupyter.widget-view+json": {
       "model_id": "b023ba4d8ac646199458771e232d74d3",
       "version_major": 2,
       "version_minor": 0
      },
      "text/plain": [
       "HBox(children=(IntProgress(value=0, max=24), HTML(value='')))"
      ]
     },
     "metadata": {},
     "output_type": "display_data"
    },
    {
     "name": "stdout",
     "output_type": "stream",
     "text": [
      "\n",
      "train error 1: 6571.8\t test error 1: 6738.5\n",
      " train error 2: 20452.5\t test error 2: 23442.6\n",
      " train error 3: 6258.5\t test error 3: 6358.9\n"
     ]
    },
    {
     "data": {
      "application/vnd.jupyter.widget-view+json": {
       "model_id": "459ec0df6c9140ed9ff537826069cd13",
       "version_major": 2,
       "version_minor": 0
      },
      "text/plain": [
       "HBox(children=(IntProgress(value=0, max=24), HTML(value='')))"
      ]
     },
     "metadata": {},
     "output_type": "display_data"
    },
    {
     "name": "stdout",
     "output_type": "stream",
     "text": [
      "\n",
      "train error 1: 6131.5\t test error 1: 7830.8\n",
      " train error 2: 19923.9\t test error 2: 23402.7\n",
      " train error 3: 5832.1\t test error 3: 7283.1\n"
     ]
    },
    {
     "data": {
      "application/vnd.jupyter.widget-view+json": {
       "model_id": "b1d8f5691b4c456a8e60c7ab7ad2fe8b",
       "version_major": 2,
       "version_minor": 0
      },
      "text/plain": [
       "HBox(children=(IntProgress(value=0, max=24), HTML(value='')))"
      ]
     },
     "metadata": {},
     "output_type": "display_data"
    },
    {
     "name": "stdout",
     "output_type": "stream",
     "text": [
      "\n",
      "train error 1: 6331.0\t test error 1: 7496.0\n",
      " train error 2: 19818.8\t test error 2: 23360.0\n",
      " train error 3: 5981.5\t test error 3: 6919.0\n"
     ]
    },
    {
     "data": {
      "application/vnd.jupyter.widget-view+json": {
       "model_id": "5e016a19a5a84545a2d1e9576ffa4cb1",
       "version_major": 2,
       "version_minor": 0
      },
      "text/plain": [
       "HBox(children=(IntProgress(value=0, max=24), HTML(value='')))"
      ]
     },
     "metadata": {},
     "output_type": "display_data"
    },
    {
     "name": "stdout",
     "output_type": "stream",
     "text": [
      "\n",
      "train error 1: 5845.6\t test error 1: 6968.3\n",
      " train error 2: 19311.2\t test error 2: 23316.6\n",
      " train error 3: 5793.7\t test error 3: 6854.7\n"
     ]
    },
    {
     "data": {
      "application/vnd.jupyter.widget-view+json": {
       "model_id": "b6c5f148988a4a73815a5aa0108c6933",
       "version_major": 2,
       "version_minor": 0
      },
      "text/plain": [
       "HBox(children=(IntProgress(value=0, max=24), HTML(value='')))"
      ]
     },
     "metadata": {},
     "output_type": "display_data"
    },
    {
     "name": "stdout",
     "output_type": "stream",
     "text": [
      "\n",
      "train error 1: 5429.3\t test error 1: 6672.6\n",
      " train error 2: 18968.7\t test error 2: 23271.5\n",
      " train error 3: 5774.5\t test error 3: 6453.3\n"
     ]
    },
    {
     "data": {
      "application/vnd.jupyter.widget-view+json": {
       "model_id": "42a581fb4e294acc9708c7aaa30a398f",
       "version_major": 2,
       "version_minor": 0
      },
      "text/plain": [
       "HBox(children=(IntProgress(value=0, max=24), HTML(value='')))"
      ]
     },
     "metadata": {},
     "output_type": "display_data"
    },
    {
     "name": "stdout",
     "output_type": "stream",
     "text": [
      "\n",
      "train error 1: 5758.2\t test error 1: 6871.2\n",
      " train error 2: 19224.9\t test error 2: 23228.4\n",
      " train error 3: 5571.4\t test error 3: 6466.9\n"
     ]
    },
    {
     "data": {
      "application/vnd.jupyter.widget-view+json": {
       "model_id": "c81222d8d2aa4cc6a437a38d6fdf0763",
       "version_major": 2,
       "version_minor": 0
      },
      "text/plain": [
       "HBox(children=(IntProgress(value=0, max=24), HTML(value='')))"
      ]
     },
     "metadata": {},
     "output_type": "display_data"
    },
    {
     "name": "stdout",
     "output_type": "stream",
     "text": [
      "\n",
      "train error 1: 5677.6\t test error 1: 6643.7\n",
      " train error 2: 19137.4\t test error 2: 23182.1\n",
      " train error 3: 5613.9\t test error 3: 6628.4\n"
     ]
    },
    {
     "data": {
      "application/vnd.jupyter.widget-view+json": {
       "model_id": "9dfaec2c8146480aa2599235ec04885c",
       "version_major": 2,
       "version_minor": 0
      },
      "text/plain": [
       "HBox(children=(IntProgress(value=0, max=24), HTML(value='')))"
      ]
     },
     "metadata": {},
     "output_type": "display_data"
    },
    {
     "name": "stdout",
     "output_type": "stream",
     "text": [
      "\n",
      "train error 1: 5827.9\t test error 1: 6851.1\n",
      " train error 2: 18969.7\t test error 2: 23134.9\n",
      " train error 3: 5564.2\t test error 3: 6440.1\n"
     ]
    },
    {
     "data": {
      "application/vnd.jupyter.widget-view+json": {
       "model_id": "c970d56879ec4a62a6d0d29245d4bb70",
       "version_major": 2,
       "version_minor": 0
      },
      "text/plain": [
       "HBox(children=(IntProgress(value=0, max=24), HTML(value='')))"
      ]
     },
     "metadata": {},
     "output_type": "display_data"
    },
    {
     "name": "stdout",
     "output_type": "stream",
     "text": [
      "\n",
      "train error 1: 5962.3\t test error 1: 6814.8\n",
      " train error 2: 19439.9\t test error 2: 23087.5\n",
      " train error 3: 5903.7\t test error 3: 6771.6\n"
     ]
    },
    {
     "data": {
      "application/vnd.jupyter.widget-view+json": {
       "model_id": "5bfaf24d7977445cbc5df1be7fb243c6",
       "version_major": 2,
       "version_minor": 0
      },
      "text/plain": [
       "HBox(children=(IntProgress(value=0, max=24), HTML(value='')))"
      ]
     },
     "metadata": {},
     "output_type": "display_data"
    },
    {
     "name": "stdout",
     "output_type": "stream",
     "text": [
      "\n",
      "train error 1: 5670.9\t test error 1: 6840.9\n",
      " train error 2: 18933.7\t test error 2: 23039.5\n",
      " train error 3: 5475.8\t test error 3: 6420.7\n"
     ]
    },
    {
     "data": {
      "application/vnd.jupyter.widget-view+json": {
       "model_id": "df1d032421ac4580a597c6d37b6c2821",
       "version_major": 2,
       "version_minor": 0
      },
      "text/plain": [
       "HBox(children=(IntProgress(value=0, max=24), HTML(value='')))"
      ]
     },
     "metadata": {},
     "output_type": "display_data"
    },
    {
     "name": "stdout",
     "output_type": "stream",
     "text": [
      "\n",
      "train error 1: 5692.0\t test error 1: 6798.8\n",
      " train error 2: 18712.4\t test error 2: 22992.3\n",
      " train error 3: 5453.1\t test error 3: 6660.7\n"
     ]
    },
    {
     "data": {
      "application/vnd.jupyter.widget-view+json": {
       "model_id": "cb417282d85241e6924d04925a692eb8",
       "version_major": 2,
       "version_minor": 0
      },
      "text/plain": [
       "HBox(children=(IntProgress(value=0, max=24), HTML(value='')))"
      ]
     },
     "metadata": {},
     "output_type": "display_data"
    },
    {
     "name": "stdout",
     "output_type": "stream",
     "text": [
      "\n",
      "train error 1: 5537.7\t test error 1: 7192.4\n",
      " train error 2: 18842.0\t test error 2: 22946.7\n",
      " train error 3: 5619.4\t test error 3: 6774.1\n"
     ]
    },
    {
     "data": {
      "application/vnd.jupyter.widget-view+json": {
       "model_id": "7bfe9ad5847445998ee4b43543276d05",
       "version_major": 2,
       "version_minor": 0
      },
      "text/plain": [
       "HBox(children=(IntProgress(value=0, max=24), HTML(value='')))"
      ]
     },
     "metadata": {},
     "output_type": "display_data"
    },
    {
     "name": "stdout",
     "output_type": "stream",
     "text": [
      "\n",
      "train error 1: 5874.8\t test error 1: 6660.6\n",
      " train error 2: 19389.9\t test error 2: 22901.3\n",
      " train error 3: 5589.5\t test error 3: 6612.9\n"
     ]
    },
    {
     "data": {
      "application/vnd.jupyter.widget-view+json": {
       "model_id": "342a18e71be04234a5c76bccba2a5b39",
       "version_major": 2,
       "version_minor": 0
      },
      "text/plain": [
       "HBox(children=(IntProgress(value=0, max=24), HTML(value='')))"
      ]
     },
     "metadata": {},
     "output_type": "display_data"
    },
    {
     "name": "stdout",
     "output_type": "stream",
     "text": [
      "\n",
      "train error 1: 5647.2\t test error 1: 7257.3\n",
      " train error 2: 18654.9\t test error 2: 22854.8\n",
      " train error 3: 5556.2\t test error 3: 6567.4\n"
     ]
    },
    {
     "data": {
      "application/vnd.jupyter.widget-view+json": {
       "model_id": "9c33b5e390d24844a640c2d6840cecf6",
       "version_major": 2,
       "version_minor": 0
      },
      "text/plain": [
       "HBox(children=(IntProgress(value=0, max=24), HTML(value='')))"
      ]
     },
     "metadata": {},
     "output_type": "display_data"
    },
    {
     "name": "stdout",
     "output_type": "stream",
     "text": [
      "\n",
      "train error 1: 5669.3\t test error 1: 6893.4\n",
      " train error 2: 19197.5\t test error 2: 22809.6\n",
      " train error 3: 5563.8\t test error 3: 6429.3\n"
     ]
    },
    {
     "data": {
      "application/vnd.jupyter.widget-view+json": {
       "model_id": "7bcc8467a56c495283c3b93ace1acb65",
       "version_major": 2,
       "version_minor": 0
      },
      "text/plain": [
       "HBox(children=(IntProgress(value=0, max=24), HTML(value='')))"
      ]
     },
     "metadata": {},
     "output_type": "display_data"
    },
    {
     "name": "stdout",
     "output_type": "stream",
     "text": [
      "\n",
      "train error 1: 5677.2\t test error 1: 6871.5\n",
      " train error 2: 18634.6\t test error 2: 22762.5\n",
      " train error 3: 5602.3\t test error 3: 6705.8\n",
      "\n"
     ]
    }
   ],
   "source": [
    "#Training loop\n",
    "num_epochs = 50\n",
    "train_loss1 = []\n",
    "test_loss1 = []\n",
    "train_loss2 = []\n",
    "test_loss2 = []\n",
    "train_loss3 = []\n",
    "test_loss3 = []\n",
    "\n",
    "for epoch in tqdm(range(num_epochs), unit='epoch'):\n",
    "    #For each epoch\n",
    "    train_error1 = 0\n",
    "    train_error2 = 0\n",
    "    train_error3 = 0\n",
    "    model1.train()\n",
    "    model2.train()\n",
    "    model3.train()\n",
    "    for minibatch_no, (data, target) in tqdm(enumerate(train_loader), total=len(train_loader)):\n",
    "        data, target = data.to(device), target.to(device)\n",
    "        #Zero the gradients computed for each weight\n",
    "        optimizer1.zero_grad()\n",
    "        optimizer2.zero_grad()\n",
    "        optimizer3.zero_grad()\n",
    "        #Forward pass your image through the network\n",
    "        output1 = model1(data)\n",
    "        output2 = model2(data)\n",
    "        output3 = model3(data)\n",
    "        #Compute the loss\n",
    "#         loss1 = percent_loss(output1,target)\n",
    "#         loss2 = percent_loss(output2,target)\n",
    "#         loss3 = percent_loss(output3,target)\n",
    "        loss1 = critirion(output1,target)\n",
    "        loss2 = critirion(output2,target)\n",
    "        loss3 = critirion(output3,target)\n",
    "\n",
    "        #Backward pass through the network\n",
    "        loss1.backward()\n",
    "        loss2.backward()\n",
    "        loss3.backward()\n",
    "        #Update the weights\n",
    "        optimizer1.step()\n",
    "        optimizer2.step()\n",
    "        optimizer3.step()\n",
    "        train_error1 += loss1\n",
    "        train_error2 += loss2\n",
    "        train_error3 += loss3\n",
    "        \n",
    "        \n",
    "    #Comput the test accuracy\n",
    "    model1.eval()\n",
    "    model2.eval()\n",
    "    model3.eval()\n",
    "    test_error1 = 0\n",
    "    test_error2 = 0\n",
    "    test_error3 = 0\n",
    "    for data, target in test_loader:\n",
    "        data, target = data.to(device), target.to(device)\n",
    "        with torch.no_grad():\n",
    "            output1 = model1(data)\n",
    "            output2 = model2(data)\n",
    "            output3 = model3(data)\n",
    "#         test_error1 += percent_loss(output1,target)\n",
    "#         test_error2 += percent_loss(output2,target)\n",
    "#         test_error3 += percent_loss(output3,target)\n",
    "        test_error1 += critirion(output1,target)\n",
    "        test_error2 += critirion(output2,target)\n",
    "        test_error3 += critirion(output3,target)\n",
    "        \n",
    "    train_err1 = train_error1/len(trainset)\n",
    "    train_loss1.append(train_err1)\n",
    "    test_err1 = test_error1/len(testset)\n",
    "    test_loss1.append(test_err1)\n",
    "    train_err2 = train_error2/len(trainset)\n",
    "    train_loss2.append(train_err2)\n",
    "    test_err2 = test_error2/len(testset)\n",
    "    test_loss2.append(test_err2)\n",
    "    train_err3 = train_error3/len(trainset)\n",
    "    train_loss3.append(train_err3)\n",
    "    test_err3 = test_error3/len(testset)\n",
    "    test_loss3.append(test_err3)\n",
    "    print(\"train error 1: {train1:.1f}\\t test error 1: {test1:.1f}\\n train error 2: {train2:.1f}\\t test error 2: {test2:.1f}\\n train error 3: {train3:.1f}\\t test error 3: {test3:.1f}\".format(test1=test_err1, test2=test_err2, test3=test_err3, train1=train_err1, train2=train_err2, train3=train_err3))\n",
    "#     print(\"train error 1: {train1:.1f}\\t test error 1: {test1:.1f}\".format(test1=test_err1,train1=train_err1))"
   ]
  },
  {
   "cell_type": "code",
   "execution_count": 38,
   "metadata": {},
   "outputs": [
    {
     "name": "stdout",
     "output_type": "stream",
     "text": [
      "tensor([ 3856778.,  2752409.,    77206.,   482690.,    50861., 19779996.,\n",
      "         4825603.,  1142114.,   753224.,  1632679.], device='cuda:0')\n",
      "tensor([4.4304e+06, 2.3182e+06, 2.5494e+03, 3.7178e+05, 4.7685e+04, 1.0241e+07,\n",
      "        4.6380e+06, 1.0772e+06, 3.2579e+05, 1.6432e+06], device='cuda:0',\n",
      "       grad_fn=<ViewBackward>)\n"
     ]
    }
   ],
   "source": [
    "print(target[:10])\n",
    "temp =model1(data[:10])\n",
    "print(temp)"
   ]
  },
  {
   "cell_type": "code",
   "execution_count": 39,
   "metadata": {},
   "outputs": [
    {
     "data": {
      "application/vnd.jupyter.widget-view+json": {
       "model_id": "de0ecee3f54042cc88b5ca41c1b80a79",
       "version_major": 2,
       "version_minor": 0
      },
      "text/plain": [
       "HBox(children=(IntProgress(value=0, max=24), HTML(value='')))"
      ]
     },
     "metadata": {},
     "output_type": "display_data"
    },
    {
     "name": "stdout",
     "output_type": "stream",
     "text": [
      "\n",
      "baseline error: 18610.8\n"
     ]
    }
   ],
   "source": [
    "#predicts the average over the last 3 years\n",
    "baseline_loss = 0\n",
    "for minibatch_no, (data, target) in tqdm(enumerate(train_loader), total=len(train_loader)):  \n",
    "    y_pred = data[:,:,0].mean(1)\n",
    "#     y_pred = data.mean(1)\n",
    "    loss = critirion(y_pred,target)\n",
    "#     loss = percent_loss(y_pred,target)\n",
    "    baseline_loss += loss.numpy()\n",
    "baseline_loss /= len(trainset)\n",
    "print(\"baseline error: {error:.1f}\".format(error =baseline_loss))"
   ]
  },
  {
   "cell_type": "code",
   "execution_count": 40,
   "metadata": {},
   "outputs": [
    {
     "data": {
      "image/png": "[encoded data removed]",
      "text/plain": [
       "<Figure size 432x288 with 1 Axes>"
      ]
     },
     "metadata": {
      "needs_background": "light"
     },
     "output_type": "display_data"
    }
   ],
   "source": [
    "plt.plot(train_loss1)\n",
    "plt.plot(test_loss1)\n",
    "plt.plot(np.ones(num_epochs)*baseline_loss)\n",
    "plt.legend([\"train loss\",\"test loss\",\"baseline\"])\n",
    "plt.title(\"Loss for linear network on medium companies\")\n",
    "plt.xlabel(\"epochs\")\n",
    "plt.ylabel(\"Average loss [DKK]\")\n",
    "# plt.savefig(\"../images/linear_loss_{}_features_{}_years_positive\".format(features,years))\n",
    "plt.show()"
   ]
  },
  {
   "cell_type": "code",
   "execution_count": 41,
   "metadata": {},
   "outputs": [
    {
     "data": {
      "image/png": "[encoded data removed]",
      "text/plain": [
       "<Figure size 432x288 with 1 Axes>"
      ]
     },
     "metadata": {
      "needs_background": "light"
     },
     "output_type": "display_data"
    }
   ],
   "source": [
    "plt.plot(train_loss2)\n",
    "plt.plot(test_loss2)\n",
    "plt.plot(np.ones(num_epochs)*baseline_loss)\n",
    "plt.legend([\"train loss\",\"test loss\",\"baseline\"])\n",
    "plt.title(\"Loss for recurrent network on medium companies\")\n",
    "plt.xlabel(\"epochs\")\n",
    "plt.ylabel(\"Average loss [DKK]\")\n",
    "# plt.savefig(\"../images/recurrent_loss_{}_features_{}_years_positive\".format(features,years))\n",
    "plt.show()"
   ]
  },
  {
   "cell_type": "code",
   "execution_count": 42,
   "metadata": {},
   "outputs": [
    {
     "data": {
      "image/png": "[encoded data removed]",
      "text/plain": [
       "<Figure size 432x288 with 1 Axes>"
      ]
     },
     "metadata": {
      "needs_background": "light"
     },
     "output_type": "display_data"
    }
   ],
   "source": [
    "plt.plot(train_loss3)\n",
    "plt.plot(test_loss3)\n",
    "plt.plot(np.ones(num_epochs)*baseline_loss)\n",
    "plt.legend([\"train loss\",\"test loss\",\"baseline\"])\n",
    "plt.title(\"Loss for recurrent network with skip-connections on medium companies\")\n",
    "plt.xlabel(\"epochs\")\n",
    "plt.ylabel(\"Average loss [DKK]\")\n",
    "# plt.savefig(\"../images/recurrentskip_loss_{}_features_{}_years_positive\".format(features,years))\n",
    "plt.show()"
   ]
  },
  {
   "cell_type": "code",
   "execution_count": 30,
   "metadata": {},
   "outputs": [],
   "source": [
    "# torch.save(model1.state_dict(),\"linear_network_{}_features_{}_years_positive\".format(features,years))\n",
    "# torch.save(model2.state_dict(),\"recurrent_network_{}_features_{}_years_positive\".format(features,years))\n",
    "# torch.save(model3.state_dict(),\"recurrent_skip_network_{}_features_{}_years_positive\".format(features,years))"
   ]
  }
 ],
 "metadata": {
  "kernelspec": {
   "display_name": "Python 3",
   "language": "python",
   "name": "python3"
  },
  "language_info": {
   "codemirror_mode": {
    "name": "ipython",
    "version": 3
   },
   "file_extension": ".py",
   "mimetype": "text/x-python",
   "name": "python",
   "nbconvert_exporter": "python",
   "pygments_lexer": "ipython3",
   "version": "3.6.9"
  }
 },
 "nbformat": 4,
 "nbformat_minor": 2
}
